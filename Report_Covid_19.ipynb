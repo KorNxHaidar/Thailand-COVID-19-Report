{
  "cells": [
    {
      "cell_type": "markdown",
      "metadata": {
        "id": "M4hxSwGy__0l"
      },
      "source": [
        "# \"รายงาน COVID-19 ประจำวัน ข้อมูลประจำประเทศไทย\"\n",
        "> ข้อมูลวันที่ 12 ส.ค.64 - 20 ต.ค. 64\n",
        "\n",
        "> DATA FROM : https://data.go.th/\n",
        "\n",
        "\n"
      ]
    },
    {
      "cell_type": "markdown",
      "metadata": {
        "id": "h6adgDkdCj_Q"
      },
      "source": [
        "#เตรียมข้อมูล\n",
        "\n"
      ]
    },
    {
      "cell_type": "markdown",
      "metadata": {
        "id": "syicCifQA-B1"
      },
      "source": [
        "ใช้ !wget เพื่อ Download Data จาก Internet"
      ]
    },
    {
      "cell_type": "code",
      "execution_count": null,
      "metadata": {
        "colab": {
          "background_save": true,
          "base_uri": "https://localhost:8080/"
        },
        "id": "LzJco_Ae_IGl",
        "outputId": "199b487c-3367-457f-83c9-414ebb8f8615"
      },
      "outputs": [
        {
          "name": "stdout",
          "output_type": "stream",
          "text": [
            "--2021-12-08 12:27:54--  https://data.go.th/dataset/8a956917-436d-4afd-a2d4-59e4dd8e906e/resource/5fe98719-5d48-4364-8e7e-1b785e9aff78/download/covid-19-daily-qi4ft3.zip\n",
            "Resolving data.go.th (data.go.th)... 164.115.75.59\n",
            "Connecting to data.go.th (data.go.th)|164.115.75.59|:443... connected.\n",
            "HTTP request sent, awaiting response... 200 OK\n",
            "Length: 88446693 (84M) [application/zip]\n",
            "Saving to: ‘covid-19-daily-qi4ft3.zip’\n",
            "\n",
            "covid-19-daily-qi4f 100%[===================>]  84.35M  1.43MB/s    in 52s     \n",
            "\n",
            "2021-12-08 12:28:47 (1.61 MB/s) - ‘covid-19-daily-qi4ft3.zip’ saved [88446693/88446693]\n",
            "\n"
          ]
        }
      ],
      "source": [
        "!wget https://data.go.th/dataset/8a956917-436d-4afd-a2d4-59e4dd8e906e/resource/5fe98719-5d48-4364-8e7e-1b785e9aff78/download/covid-19-daily-qi4ft3.zip"
      ]
    },
    {
      "cell_type": "markdown",
      "metadata": {
        "id": "8O_sDl0tAh9W"
      },
      "source": [
        "ใช้คำสั่ง !unzip เพื่อแตก zipfile"
      ]
    },
    {
      "cell_type": "code",
      "execution_count": null,
      "metadata": {
        "colab": {
          "background_save": true
        },
        "id": "605zY76QAszj",
        "outputId": "917f12c2-751a-4629-ea13-5d9d9710b5d9"
      },
      "outputs": [
        {
          "name": "stdout",
          "output_type": "stream",
          "text": [
            "Archive:  covid-19-daily-qi4ft3.zip\n",
            "  inflating: raayngaancchamnwnphuutidechuue-covid-19-pracchamwanerimtangaetwanthii-27-tulaakhm-2564.xlsx  \n",
            "  inflating: raayngaancchamnwnphuutidechuue-covid-19-pracchamwanerimtangaetwanthii-12-singhaakhm-2564.xlsx  \n",
            "  inflating: raayngaancchamnwnphuutidechuue-covid-19-pracchamwan.xlsx  \n",
            "  inflating: raayngaancchamnwnphuutidechuue-covid-19-pracchamwanerimtangaetwanthii-27-tulaakhm-25640.csv  \n",
            "  inflating: raayngaancchamnwnphuutidechuue-covid-19-pracchamwanerimtangaetwanthii-12-singhaakhm-25640.csv  \n",
            "  inflating: raayngaancchamnwnphuutidechuue-covid-19-pracchamwan0.csv  \n",
            "  inflating: covid-19-daily-data-dictionary.xlsx  \n",
            "  inflating: datapackage.json        \n"
          ]
        }
      ],
      "source": [
        "!unzip covid-19-daily-qi4ft3.zip"
      ]
    },
    {
      "cell_type": "code",
      "execution_count": null,
      "metadata": {
        "id": "LdRSXyj8BTGq"
      },
      "outputs": [],
      "source": [
        "import pandas as pd"
      ]
    },
    {
      "cell_type": "markdown",
      "metadata": {
        "id": "ju6jXkfQBeVt"
      },
      "source": [
        "ใช้ pandas อ่านข้อมูลที่เป็นไฟล์ Excel"
      ]
    },
    {
      "cell_type": "code",
      "execution_count": null,
      "metadata": {
        "colab": {
          "base_uri": "https://localhost:8080/",
          "height": 306
        },
        "id": "kH3c6dB0Bm8-",
        "outputId": "5d7de54c-238c-4184-efee-350b058ce547"
      },
      "outputs": [
        {
          "ename": "FileNotFoundError",
          "evalue": "ignored",
          "output_type": "error",
          "traceback": [
            "\u001b[0;31m---------------------------------------------------------------------------\u001b[0m",
            "\u001b[0;31mFileNotFoundError\u001b[0m                         Traceback (most recent call last)",
            "\u001b[0;32m<ipython-input-4-58d4c495214e>\u001b[0m in \u001b[0;36m<module>\u001b[0;34m()\u001b[0m\n\u001b[0;32m----> 1\u001b[0;31m \u001b[0mdat\u001b[0m \u001b[0;34m=\u001b[0m \u001b[0mpd\u001b[0m\u001b[0;34m.\u001b[0m\u001b[0mread_excel\u001b[0m\u001b[0;34m(\u001b[0m\u001b[0;34m'raayngaancchamnwnphuutidechuue-covid-19-pracchamwan.xlsx'\u001b[0m\u001b[0;34m)\u001b[0m\u001b[0;34m\u001b[0m\u001b[0;34m\u001b[0m\u001b[0m\n\u001b[0m",
            "\u001b[0;32m/usr/local/lib/python3.7/dist-packages/pandas/util/_decorators.py\u001b[0m in \u001b[0;36mwrapper\u001b[0;34m(*args, **kwargs)\u001b[0m\n\u001b[1;32m    294\u001b[0m                 )\n\u001b[1;32m    295\u001b[0m                 \u001b[0mwarnings\u001b[0m\u001b[0;34m.\u001b[0m\u001b[0mwarn\u001b[0m\u001b[0;34m(\u001b[0m\u001b[0mmsg\u001b[0m\u001b[0;34m,\u001b[0m \u001b[0mFutureWarning\u001b[0m\u001b[0;34m,\u001b[0m \u001b[0mstacklevel\u001b[0m\u001b[0;34m=\u001b[0m\u001b[0mstacklevel\u001b[0m\u001b[0;34m)\u001b[0m\u001b[0;34m\u001b[0m\u001b[0;34m\u001b[0m\u001b[0m\n\u001b[0;32m--> 296\u001b[0;31m             \u001b[0;32mreturn\u001b[0m \u001b[0mfunc\u001b[0m\u001b[0;34m(\u001b[0m\u001b[0;34m*\u001b[0m\u001b[0margs\u001b[0m\u001b[0;34m,\u001b[0m \u001b[0;34m**\u001b[0m\u001b[0mkwargs\u001b[0m\u001b[0;34m)\u001b[0m\u001b[0;34m\u001b[0m\u001b[0;34m\u001b[0m\u001b[0m\n\u001b[0m\u001b[1;32m    297\u001b[0m \u001b[0;34m\u001b[0m\u001b[0m\n\u001b[1;32m    298\u001b[0m         \u001b[0;32mreturn\u001b[0m \u001b[0mwrapper\u001b[0m\u001b[0;34m\u001b[0m\u001b[0;34m\u001b[0m\u001b[0m\n",
            "\u001b[0;32m/usr/local/lib/python3.7/dist-packages/pandas/io/excel/_base.py\u001b[0m in \u001b[0;36mread_excel\u001b[0;34m(io, sheet_name, header, names, index_col, usecols, squeeze, dtype, engine, converters, true_values, false_values, skiprows, nrows, na_values, keep_default_na, na_filter, verbose, parse_dates, date_parser, thousands, comment, skipfooter, convert_float, mangle_dupe_cols)\u001b[0m\n\u001b[1;32m    302\u001b[0m \u001b[0;34m\u001b[0m\u001b[0m\n\u001b[1;32m    303\u001b[0m     \u001b[0;32mif\u001b[0m \u001b[0;32mnot\u001b[0m \u001b[0misinstance\u001b[0m\u001b[0;34m(\u001b[0m\u001b[0mio\u001b[0m\u001b[0;34m,\u001b[0m \u001b[0mExcelFile\u001b[0m\u001b[0;34m)\u001b[0m\u001b[0;34m:\u001b[0m\u001b[0;34m\u001b[0m\u001b[0;34m\u001b[0m\u001b[0m\n\u001b[0;32m--> 304\u001b[0;31m         \u001b[0mio\u001b[0m \u001b[0;34m=\u001b[0m \u001b[0mExcelFile\u001b[0m\u001b[0;34m(\u001b[0m\u001b[0mio\u001b[0m\u001b[0;34m,\u001b[0m \u001b[0mengine\u001b[0m\u001b[0;34m=\u001b[0m\u001b[0mengine\u001b[0m\u001b[0;34m)\u001b[0m\u001b[0;34m\u001b[0m\u001b[0;34m\u001b[0m\u001b[0m\n\u001b[0m\u001b[1;32m    305\u001b[0m     \u001b[0;32melif\u001b[0m \u001b[0mengine\u001b[0m \u001b[0;32mand\u001b[0m \u001b[0mengine\u001b[0m \u001b[0;34m!=\u001b[0m \u001b[0mio\u001b[0m\u001b[0;34m.\u001b[0m\u001b[0mengine\u001b[0m\u001b[0;34m:\u001b[0m\u001b[0;34m\u001b[0m\u001b[0;34m\u001b[0m\u001b[0m\n\u001b[1;32m    306\u001b[0m         raise ValueError(\n",
            "\u001b[0;32m/usr/local/lib/python3.7/dist-packages/pandas/io/excel/_base.py\u001b[0m in \u001b[0;36m__init__\u001b[0;34m(self, path_or_buffer, engine)\u001b[0m\n\u001b[1;32m    865\u001b[0m         \u001b[0mself\u001b[0m\u001b[0;34m.\u001b[0m\u001b[0m_io\u001b[0m \u001b[0;34m=\u001b[0m \u001b[0mstringify_path\u001b[0m\u001b[0;34m(\u001b[0m\u001b[0mpath_or_buffer\u001b[0m\u001b[0;34m)\u001b[0m\u001b[0;34m\u001b[0m\u001b[0;34m\u001b[0m\u001b[0m\n\u001b[1;32m    866\u001b[0m \u001b[0;34m\u001b[0m\u001b[0m\n\u001b[0;32m--> 867\u001b[0;31m         \u001b[0mself\u001b[0m\u001b[0;34m.\u001b[0m\u001b[0m_reader\u001b[0m \u001b[0;34m=\u001b[0m \u001b[0mself\u001b[0m\u001b[0;34m.\u001b[0m\u001b[0m_engines\u001b[0m\u001b[0;34m[\u001b[0m\u001b[0mengine\u001b[0m\u001b[0;34m]\u001b[0m\u001b[0;34m(\u001b[0m\u001b[0mself\u001b[0m\u001b[0;34m.\u001b[0m\u001b[0m_io\u001b[0m\u001b[0;34m)\u001b[0m\u001b[0;34m\u001b[0m\u001b[0;34m\u001b[0m\u001b[0m\n\u001b[0m\u001b[1;32m    868\u001b[0m \u001b[0;34m\u001b[0m\u001b[0m\n\u001b[1;32m    869\u001b[0m     \u001b[0;32mdef\u001b[0m \u001b[0m__fspath__\u001b[0m\u001b[0;34m(\u001b[0m\u001b[0mself\u001b[0m\u001b[0;34m)\u001b[0m\u001b[0;34m:\u001b[0m\u001b[0;34m\u001b[0m\u001b[0;34m\u001b[0m\u001b[0m\n",
            "\u001b[0;32m/usr/local/lib/python3.7/dist-packages/pandas/io/excel/_xlrd.py\u001b[0m in \u001b[0;36m__init__\u001b[0;34m(self, filepath_or_buffer)\u001b[0m\n\u001b[1;32m     20\u001b[0m         \u001b[0merr_msg\u001b[0m \u001b[0;34m=\u001b[0m \u001b[0;34m\"Install xlrd >= 1.0.0 for Excel support\"\u001b[0m\u001b[0;34m\u001b[0m\u001b[0;34m\u001b[0m\u001b[0m\n\u001b[1;32m     21\u001b[0m         \u001b[0mimport_optional_dependency\u001b[0m\u001b[0;34m(\u001b[0m\u001b[0;34m\"xlrd\"\u001b[0m\u001b[0;34m,\u001b[0m \u001b[0mextra\u001b[0m\u001b[0;34m=\u001b[0m\u001b[0merr_msg\u001b[0m\u001b[0;34m)\u001b[0m\u001b[0;34m\u001b[0m\u001b[0;34m\u001b[0m\u001b[0m\n\u001b[0;32m---> 22\u001b[0;31m         \u001b[0msuper\u001b[0m\u001b[0;34m(\u001b[0m\u001b[0;34m)\u001b[0m\u001b[0;34m.\u001b[0m\u001b[0m__init__\u001b[0m\u001b[0;34m(\u001b[0m\u001b[0mfilepath_or_buffer\u001b[0m\u001b[0;34m)\u001b[0m\u001b[0;34m\u001b[0m\u001b[0;34m\u001b[0m\u001b[0m\n\u001b[0m\u001b[1;32m     23\u001b[0m \u001b[0;34m\u001b[0m\u001b[0m\n\u001b[1;32m     24\u001b[0m     \u001b[0;34m@\u001b[0m\u001b[0mproperty\u001b[0m\u001b[0;34m\u001b[0m\u001b[0;34m\u001b[0m\u001b[0m\n",
            "\u001b[0;32m/usr/local/lib/python3.7/dist-packages/pandas/io/excel/_base.py\u001b[0m in \u001b[0;36m__init__\u001b[0;34m(self, filepath_or_buffer)\u001b[0m\n\u001b[1;32m    351\u001b[0m             \u001b[0mself\u001b[0m\u001b[0;34m.\u001b[0m\u001b[0mbook\u001b[0m \u001b[0;34m=\u001b[0m \u001b[0mself\u001b[0m\u001b[0;34m.\u001b[0m\u001b[0mload_workbook\u001b[0m\u001b[0;34m(\u001b[0m\u001b[0mfilepath_or_buffer\u001b[0m\u001b[0;34m)\u001b[0m\u001b[0;34m\u001b[0m\u001b[0;34m\u001b[0m\u001b[0m\n\u001b[1;32m    352\u001b[0m         \u001b[0;32melif\u001b[0m \u001b[0misinstance\u001b[0m\u001b[0;34m(\u001b[0m\u001b[0mfilepath_or_buffer\u001b[0m\u001b[0;34m,\u001b[0m \u001b[0mstr\u001b[0m\u001b[0;34m)\u001b[0m\u001b[0;34m:\u001b[0m\u001b[0;34m\u001b[0m\u001b[0;34m\u001b[0m\u001b[0m\n\u001b[0;32m--> 353\u001b[0;31m             \u001b[0mself\u001b[0m\u001b[0;34m.\u001b[0m\u001b[0mbook\u001b[0m \u001b[0;34m=\u001b[0m \u001b[0mself\u001b[0m\u001b[0;34m.\u001b[0m\u001b[0mload_workbook\u001b[0m\u001b[0;34m(\u001b[0m\u001b[0mfilepath_or_buffer\u001b[0m\u001b[0;34m)\u001b[0m\u001b[0;34m\u001b[0m\u001b[0;34m\u001b[0m\u001b[0m\n\u001b[0m\u001b[1;32m    354\u001b[0m         \u001b[0;32melif\u001b[0m \u001b[0misinstance\u001b[0m\u001b[0;34m(\u001b[0m\u001b[0mfilepath_or_buffer\u001b[0m\u001b[0;34m,\u001b[0m \u001b[0mbytes\u001b[0m\u001b[0;34m)\u001b[0m\u001b[0;34m:\u001b[0m\u001b[0;34m\u001b[0m\u001b[0;34m\u001b[0m\u001b[0m\n\u001b[1;32m    355\u001b[0m             \u001b[0mself\u001b[0m\u001b[0;34m.\u001b[0m\u001b[0mbook\u001b[0m \u001b[0;34m=\u001b[0m \u001b[0mself\u001b[0m\u001b[0;34m.\u001b[0m\u001b[0mload_workbook\u001b[0m\u001b[0;34m(\u001b[0m\u001b[0mBytesIO\u001b[0m\u001b[0;34m(\u001b[0m\u001b[0mfilepath_or_buffer\u001b[0m\u001b[0;34m)\u001b[0m\u001b[0;34m)\u001b[0m\u001b[0;34m\u001b[0m\u001b[0;34m\u001b[0m\u001b[0m\n",
            "\u001b[0;32m/usr/local/lib/python3.7/dist-packages/pandas/io/excel/_xlrd.py\u001b[0m in \u001b[0;36mload_workbook\u001b[0;34m(self, filepath_or_buffer)\u001b[0m\n\u001b[1;32m     35\u001b[0m             \u001b[0;32mreturn\u001b[0m \u001b[0mopen_workbook\u001b[0m\u001b[0;34m(\u001b[0m\u001b[0mfile_contents\u001b[0m\u001b[0;34m=\u001b[0m\u001b[0mdata\u001b[0m\u001b[0;34m)\u001b[0m\u001b[0;34m\u001b[0m\u001b[0;34m\u001b[0m\u001b[0m\n\u001b[1;32m     36\u001b[0m         \u001b[0;32melse\u001b[0m\u001b[0;34m:\u001b[0m\u001b[0;34m\u001b[0m\u001b[0;34m\u001b[0m\u001b[0m\n\u001b[0;32m---> 37\u001b[0;31m             \u001b[0;32mreturn\u001b[0m \u001b[0mopen_workbook\u001b[0m\u001b[0;34m(\u001b[0m\u001b[0mfilepath_or_buffer\u001b[0m\u001b[0;34m)\u001b[0m\u001b[0;34m\u001b[0m\u001b[0;34m\u001b[0m\u001b[0m\n\u001b[0m\u001b[1;32m     38\u001b[0m \u001b[0;34m\u001b[0m\u001b[0m\n\u001b[1;32m     39\u001b[0m     \u001b[0;34m@\u001b[0m\u001b[0mproperty\u001b[0m\u001b[0;34m\u001b[0m\u001b[0;34m\u001b[0m\u001b[0m\n",
            "\u001b[0;32m/usr/local/lib/python3.7/dist-packages/xlrd/__init__.py\u001b[0m in \u001b[0;36mopen_workbook\u001b[0;34m(filename, logfile, verbosity, use_mmap, file_contents, encoding_override, formatting_info, on_demand, ragged_rows)\u001b[0m\n\u001b[1;32m    114\u001b[0m         \u001b[0mpeek\u001b[0m \u001b[0;34m=\u001b[0m \u001b[0mfile_contents\u001b[0m\u001b[0;34m[\u001b[0m\u001b[0;34m:\u001b[0m\u001b[0mpeeksz\u001b[0m\u001b[0;34m]\u001b[0m\u001b[0;34m\u001b[0m\u001b[0;34m\u001b[0m\u001b[0m\n\u001b[1;32m    115\u001b[0m     \u001b[0;32melse\u001b[0m\u001b[0;34m:\u001b[0m\u001b[0;34m\u001b[0m\u001b[0;34m\u001b[0m\u001b[0m\n\u001b[0;32m--> 116\u001b[0;31m         \u001b[0;32mwith\u001b[0m \u001b[0mopen\u001b[0m\u001b[0;34m(\u001b[0m\u001b[0mfilename\u001b[0m\u001b[0;34m,\u001b[0m \u001b[0;34m\"rb\"\u001b[0m\u001b[0;34m)\u001b[0m \u001b[0;32mas\u001b[0m \u001b[0mf\u001b[0m\u001b[0;34m:\u001b[0m\u001b[0;34m\u001b[0m\u001b[0;34m\u001b[0m\u001b[0m\n\u001b[0m\u001b[1;32m    117\u001b[0m             \u001b[0mpeek\u001b[0m \u001b[0;34m=\u001b[0m \u001b[0mf\u001b[0m\u001b[0;34m.\u001b[0m\u001b[0mread\u001b[0m\u001b[0;34m(\u001b[0m\u001b[0mpeeksz\u001b[0m\u001b[0;34m)\u001b[0m\u001b[0;34m\u001b[0m\u001b[0;34m\u001b[0m\u001b[0m\n\u001b[1;32m    118\u001b[0m     \u001b[0;32mif\u001b[0m \u001b[0mpeek\u001b[0m \u001b[0;34m==\u001b[0m \u001b[0;34mb\"PK\\x03\\x04\"\u001b[0m\u001b[0;34m:\u001b[0m \u001b[0;31m# a ZIP file\u001b[0m\u001b[0;34m\u001b[0m\u001b[0;34m\u001b[0m\u001b[0m\n",
            "\u001b[0;31mFileNotFoundError\u001b[0m: [Errno 2] No such file or directory: 'raayngaancchamnwnphuutidechuue-covid-19-pracchamwan.xlsx'"
          ]
        }
      ],
      "source": [
        "dat = pd.read_excel('raayngaancchamnwnphuutidechuue-covid-19-pracchamwan.xlsx')"
      ]
    },
    {
      "cell_type": "markdown",
      "metadata": {
        "id": "BNOL4hoECA31"
      },
      "source": [
        "ใช้ pandas อ่านข้อมูลที่เป็นไฟล์ CSV"
      ]
    },
    {
      "cell_type": "code",
      "execution_count": null,
      "metadata": {
        "colab": {
          "base_uri": "https://localhost:8080/"
        },
        "id": "_JiiagfkB7DS",
        "outputId": "fdc556e5-c7fc-4009-df17-3073a475f83b"
      },
      "outputs": [
        {
          "name": "stderr",
          "output_type": "stream",
          "text": [
            "/usr/local/lib/python3.7/dist-packages/IPython/core/interactiveshell.py:2718: DtypeWarning: Columns (4) have mixed types.Specify dtype option on import or set low_memory=False.\n",
            "  interactivity=interactivity, compiler=compiler, result=result)\n"
          ]
        }
      ],
      "source": [
        "dat = pd.read_csv('raayngaancchamnwnphuutidechuue-covid-19-pracchamwan0.csv')"
      ]
    },
    {
      "cell_type": "code",
      "execution_count": null,
      "metadata": {
        "colab": {
          "base_uri": "https://localhost:8080/",
          "height": 521
        },
        "id": "DITOP6FXCF-k",
        "outputId": "c2093cb5-ea43-4ed1-9acf-251bb5ad60b2"
      },
      "outputs": [
        {
          "data": {
            "text/html": [
              "<div>\n",
              "<style scoped>\n",
              "    .dataframe tbody tr th:only-of-type {\n",
              "        vertical-align: middle;\n",
              "    }\n",
              "\n",
              "    .dataframe tbody tr th {\n",
              "        vertical-align: top;\n",
              "    }\n",
              "\n",
              "    .dataframe thead th {\n",
              "        text-align: right;\n",
              "    }\n",
              "</style>\n",
              "<table border=\"1\" class=\"dataframe\">\n",
              "  <thead>\n",
              "    <tr style=\"text-align: right;\">\n",
              "      <th></th>\n",
              "      <th>No.</th>\n",
              "      <th>announce_date</th>\n",
              "      <th>Notified date</th>\n",
              "      <th>sex</th>\n",
              "      <th>age</th>\n",
              "      <th>Unit</th>\n",
              "      <th>nationality</th>\n",
              "      <th>province_of_isolation</th>\n",
              "      <th>risk</th>\n",
              "      <th>province_of_onset</th>\n",
              "      <th>district_of_onset</th>\n",
              "    </tr>\n",
              "  </thead>\n",
              "  <tbody>\n",
              "    <tr>\n",
              "      <th>0</th>\n",
              "      <td>1</td>\n",
              "      <td>12/1/2020</td>\n",
              "      <td>NaN</td>\n",
              "      <td>หญิง</td>\n",
              "      <td>61</td>\n",
              "      <td>ปี</td>\n",
              "      <td>China</td>\n",
              "      <td>กรุงเทพมหานคร</td>\n",
              "      <td>คนต่างชาติเดินทางมาจากต่างประเทศ</td>\n",
              "      <td>กรุงเทพมหานคร</td>\n",
              "      <td>NaN</td>\n",
              "    </tr>\n",
              "    <tr>\n",
              "      <th>1</th>\n",
              "      <td>2</td>\n",
              "      <td>17/1/2020</td>\n",
              "      <td>NaN</td>\n",
              "      <td>หญิง</td>\n",
              "      <td>74</td>\n",
              "      <td>ปี</td>\n",
              "      <td>China</td>\n",
              "      <td>กรุงเทพมหานคร</td>\n",
              "      <td>คนต่างชาติเดินทางมาจากต่างประเทศ</td>\n",
              "      <td>กรุงเทพมหานคร</td>\n",
              "      <td>NaN</td>\n",
              "    </tr>\n",
              "    <tr>\n",
              "      <th>2</th>\n",
              "      <td>3</td>\n",
              "      <td>22/1/2020</td>\n",
              "      <td>NaN</td>\n",
              "      <td>หญิง</td>\n",
              "      <td>73</td>\n",
              "      <td>ปี</td>\n",
              "      <td>Thailand</td>\n",
              "      <td>นครปฐม</td>\n",
              "      <td>คนต่างชาติเดินทางมาจากต่างประเทศ</td>\n",
              "      <td>นครปฐม</td>\n",
              "      <td>เมือง</td>\n",
              "    </tr>\n",
              "    <tr>\n",
              "      <th>3</th>\n",
              "      <td>4</td>\n",
              "      <td>22/1/2020</td>\n",
              "      <td>NaN</td>\n",
              "      <td>ชาย</td>\n",
              "      <td>68</td>\n",
              "      <td>ปี</td>\n",
              "      <td>China</td>\n",
              "      <td>กรุงเทพมหานคร</td>\n",
              "      <td>คนต่างชาติเดินทางมาจากต่างประเทศ</td>\n",
              "      <td>กรุงเทพมหานคร</td>\n",
              "      <td>NaN</td>\n",
              "    </tr>\n",
              "    <tr>\n",
              "      <th>4</th>\n",
              "      <td>5</td>\n",
              "      <td>24/1/2020</td>\n",
              "      <td>NaN</td>\n",
              "      <td>หญิง</td>\n",
              "      <td>66</td>\n",
              "      <td>ปี</td>\n",
              "      <td>China</td>\n",
              "      <td>นนทบุรี</td>\n",
              "      <td>คนต่างชาติเดินทางมาจากต่างประเทศ</td>\n",
              "      <td>กรุงเทพมหานคร</td>\n",
              "      <td>NaN</td>\n",
              "    </tr>\n",
              "    <tr>\n",
              "      <th>...</th>\n",
              "      <td>...</td>\n",
              "      <td>...</td>\n",
              "      <td>...</td>\n",
              "      <td>...</td>\n",
              "      <td>...</td>\n",
              "      <td>...</td>\n",
              "      <td>...</td>\n",
              "      <td>...</td>\n",
              "      <td>...</td>\n",
              "      <td>...</td>\n",
              "      <td>...</td>\n",
              "    </tr>\n",
              "    <tr>\n",
              "      <th>839766</th>\n",
              "      <td>839767</td>\n",
              "      <td>12/8/2021</td>\n",
              "      <td>11/8/2021</td>\n",
              "      <td>ชาย</td>\n",
              "      <td>52</td>\n",
              "      <td>ปี</td>\n",
              "      <td>NaN</td>\n",
              "      <td>กาญจนบุรี</td>\n",
              "      <td>ทัณฑสถาน/เรือนจำ</td>\n",
              "      <td>กาญจนบุรี</td>\n",
              "      <td>NaN</td>\n",
              "    </tr>\n",
              "    <tr>\n",
              "      <th>839767</th>\n",
              "      <td>839768</td>\n",
              "      <td>12/8/2021</td>\n",
              "      <td>11/8/2021</td>\n",
              "      <td>ชาย</td>\n",
              "      <td>34</td>\n",
              "      <td>ปี</td>\n",
              "      <td>Thailand</td>\n",
              "      <td>กาญจนบุรี</td>\n",
              "      <td>ทัณฑสถาน/เรือนจำ</td>\n",
              "      <td>กาญจนบุรี</td>\n",
              "      <td>NaN</td>\n",
              "    </tr>\n",
              "    <tr>\n",
              "      <th>839768</th>\n",
              "      <td>839769</td>\n",
              "      <td>12/8/2021</td>\n",
              "      <td>11/8/2021</td>\n",
              "      <td>ชาย</td>\n",
              "      <td>31</td>\n",
              "      <td>ปี</td>\n",
              "      <td>Thailand</td>\n",
              "      <td>กาญจนบุรี</td>\n",
              "      <td>ทัณฑสถาน/เรือนจำ</td>\n",
              "      <td>กาญจนบุรี</td>\n",
              "      <td>NaN</td>\n",
              "    </tr>\n",
              "    <tr>\n",
              "      <th>839769</th>\n",
              "      <td>839770</td>\n",
              "      <td>12/8/2021</td>\n",
              "      <td>11/8/2021</td>\n",
              "      <td>ชาย</td>\n",
              "      <td>83</td>\n",
              "      <td>ปี</td>\n",
              "      <td>Thailand</td>\n",
              "      <td>กาญจนบุรี</td>\n",
              "      <td>ทัณฑสถาน/เรือนจำ</td>\n",
              "      <td>กาญจนบุรี</td>\n",
              "      <td>NaN</td>\n",
              "    </tr>\n",
              "    <tr>\n",
              "      <th>839770</th>\n",
              "      <td>839771</td>\n",
              "      <td>12/8/2021</td>\n",
              "      <td>11/8/2021</td>\n",
              "      <td>ชาย</td>\n",
              "      <td>47</td>\n",
              "      <td>ปี</td>\n",
              "      <td>Thailand</td>\n",
              "      <td>กาญจนบุรี</td>\n",
              "      <td>ทัณฑสถาน/เรือนจำ</td>\n",
              "      <td>กาญจนบุรี</td>\n",
              "      <td>NaN</td>\n",
              "    </tr>\n",
              "  </tbody>\n",
              "</table>\n",
              "<p>839771 rows × 11 columns</p>\n",
              "</div>"
            ],
            "text/plain": [
              "           No. announce_date  ... province_of_onset district_of_onset\n",
              "0            1     12/1/2020  ...     กรุงเทพมหานคร               NaN\n",
              "1            2     17/1/2020  ...     กรุงเทพมหานคร               NaN\n",
              "2            3     22/1/2020  ...            นครปฐม             เมือง\n",
              "3            4     22/1/2020  ...     กรุงเทพมหานคร               NaN\n",
              "4            5     24/1/2020  ...     กรุงเทพมหานคร               NaN\n",
              "...        ...           ...  ...               ...               ...\n",
              "839766  839767     12/8/2021  ...         กาญจนบุรี               NaN\n",
              "839767  839768     12/8/2021  ...         กาญจนบุรี               NaN\n",
              "839768  839769     12/8/2021  ...         กาญจนบุรี               NaN\n",
              "839769  839770     12/8/2021  ...         กาญจนบุรี               NaN\n",
              "839770  839771     12/8/2021  ...         กาญจนบุรี               NaN\n",
              "\n",
              "[839771 rows x 11 columns]"
            ]
          },
          "execution_count": 5,
          "metadata": {},
          "output_type": "execute_result"
        }
      ],
      "source": [
        "dat"
      ]
    },
    {
      "cell_type": "code",
      "execution_count": null,
      "metadata": {
        "colab": {
          "base_uri": "https://localhost:8080/",
          "height": 419
        },
        "id": "704TcNaWD2zh",
        "outputId": "462637c8-92d0-45eb-f766-915fc274684c"
      },
      "outputs": [
        {
          "data": {
            "text/html": [
              "<div>\n",
              "<style scoped>\n",
              "    .dataframe tbody tr th:only-of-type {\n",
              "        vertical-align: middle;\n",
              "    }\n",
              "\n",
              "    .dataframe tbody tr th {\n",
              "        vertical-align: top;\n",
              "    }\n",
              "\n",
              "    .dataframe thead th {\n",
              "        text-align: right;\n",
              "    }\n",
              "</style>\n",
              "<table border=\"1\" class=\"dataframe\">\n",
              "  <thead>\n",
              "    <tr style=\"text-align: right;\">\n",
              "      <th></th>\n",
              "      <th>age</th>\n",
              "      <th>sex</th>\n",
              "      <th>nationality</th>\n",
              "    </tr>\n",
              "  </thead>\n",
              "  <tbody>\n",
              "    <tr>\n",
              "      <th>0</th>\n",
              "      <td>61</td>\n",
              "      <td>หญิง</td>\n",
              "      <td>China</td>\n",
              "    </tr>\n",
              "    <tr>\n",
              "      <th>1</th>\n",
              "      <td>74</td>\n",
              "      <td>หญิง</td>\n",
              "      <td>China</td>\n",
              "    </tr>\n",
              "    <tr>\n",
              "      <th>2</th>\n",
              "      <td>73</td>\n",
              "      <td>หญิง</td>\n",
              "      <td>Thailand</td>\n",
              "    </tr>\n",
              "    <tr>\n",
              "      <th>3</th>\n",
              "      <td>68</td>\n",
              "      <td>ชาย</td>\n",
              "      <td>China</td>\n",
              "    </tr>\n",
              "    <tr>\n",
              "      <th>4</th>\n",
              "      <td>66</td>\n",
              "      <td>หญิง</td>\n",
              "      <td>China</td>\n",
              "    </tr>\n",
              "    <tr>\n",
              "      <th>...</th>\n",
              "      <td>...</td>\n",
              "      <td>...</td>\n",
              "      <td>...</td>\n",
              "    </tr>\n",
              "    <tr>\n",
              "      <th>839766</th>\n",
              "      <td>52</td>\n",
              "      <td>ชาย</td>\n",
              "      <td>NaN</td>\n",
              "    </tr>\n",
              "    <tr>\n",
              "      <th>839767</th>\n",
              "      <td>34</td>\n",
              "      <td>ชาย</td>\n",
              "      <td>Thailand</td>\n",
              "    </tr>\n",
              "    <tr>\n",
              "      <th>839768</th>\n",
              "      <td>31</td>\n",
              "      <td>ชาย</td>\n",
              "      <td>Thailand</td>\n",
              "    </tr>\n",
              "    <tr>\n",
              "      <th>839769</th>\n",
              "      <td>83</td>\n",
              "      <td>ชาย</td>\n",
              "      <td>Thailand</td>\n",
              "    </tr>\n",
              "    <tr>\n",
              "      <th>839770</th>\n",
              "      <td>47</td>\n",
              "      <td>ชาย</td>\n",
              "      <td>Thailand</td>\n",
              "    </tr>\n",
              "  </tbody>\n",
              "</table>\n",
              "<p>839771 rows × 3 columns</p>\n",
              "</div>"
            ],
            "text/plain": [
              "       age   sex nationality\n",
              "0       61  หญิง       China\n",
              "1       74  หญิง       China\n",
              "2       73  หญิง    Thailand\n",
              "3       68   ชาย       China\n",
              "4       66  หญิง       China\n",
              "...     ..   ...         ...\n",
              "839766  52   ชาย         NaN\n",
              "839767  34   ชาย    Thailand\n",
              "839768  31   ชาย    Thailand\n",
              "839769  83   ชาย    Thailand\n",
              "839770  47   ชาย    Thailand\n",
              "\n",
              "[839771 rows x 3 columns]"
            ]
          },
          "execution_count": 6,
          "metadata": {},
          "output_type": "execute_result"
        }
      ],
      "source": [
        "dat[['age','sex','nationality']]"
      ]
    },
    {
      "cell_type": "code",
      "execution_count": null,
      "metadata": {
        "colab": {
          "base_uri": "https://localhost:8080/"
        },
        "id": "fKQxbfo9Ee9z",
        "outputId": "afa29c0b-891b-418e-b508-ed681678a5bd"
      },
      "outputs": [
        {
          "data": {
            "text/plain": [
              "{'Afghan / Afghani',\n",
              " 'Afghanistan',\n",
              " 'African',\n",
              " 'Albania',\n",
              " 'Algeria',\n",
              " 'Algerian',\n",
              " 'American',\n",
              " 'American ',\n",
              " 'American Samoa',\n",
              " 'Americans',\n",
              " 'Argentina',\n",
              " 'Argentine',\n",
              " 'Armenia',\n",
              " 'Australia',\n",
              " 'Australian',\n",
              " 'Austria',\n",
              " 'Austrian',\n",
              " 'Azerbaijan',\n",
              " 'Bahrain',\n",
              " 'Bangladesh',\n",
              " 'Bangladeshi',\n",
              " 'Belarus',\n",
              " 'Belgian',\n",
              " 'Belgium',\n",
              " 'Bermuda',\n",
              " 'Brazil',\n",
              " 'Brazilian',\n",
              " 'British',\n",
              " 'British / English',\n",
              " 'Brunei',\n",
              " 'Bulgaria',\n",
              " 'Burma',\n",
              " 'Burmese',\n",
              " 'Cambodia',\n",
              " 'Cambodian',\n",
              " 'Cameroon',\n",
              " 'Canada',\n",
              " 'Canadian',\n",
              " 'China',\n",
              " 'Chinese',\n",
              " 'Colombia',\n",
              " 'Colombian',\n",
              " 'Congo (Brazzaville)',\n",
              " \"Cote D'Ivoire\",\n",
              " 'Croatia',\n",
              " 'Cuba',\n",
              " 'Czech',\n",
              " 'Czechia',\n",
              " 'Danish',\n",
              " 'Denmark',\n",
              " 'Dominican Republic',\n",
              " 'Dutch',\n",
              " 'Egypt',\n",
              " 'Egyptian',\n",
              " 'Emirati',\n",
              " 'Eritrea',\n",
              " 'Estonia',\n",
              " 'Ethiopia',\n",
              " 'Filipino',\n",
              " 'Finland',\n",
              " 'Finnish',\n",
              " 'France',\n",
              " 'French',\n",
              " 'French Guiana',\n",
              " 'Gambia',\n",
              " 'Gambia, The',\n",
              " 'German',\n",
              " 'Germany',\n",
              " 'Ghana',\n",
              " 'Ghanaian',\n",
              " 'Greece',\n",
              " 'Greek',\n",
              " 'Guinea',\n",
              " 'Guinean',\n",
              " 'Guyana',\n",
              " 'Guyanese',\n",
              " 'Haitian',\n",
              " 'Hong Kong',\n",
              " 'Hungarian',\n",
              " 'Hungary',\n",
              " 'IRISH',\n",
              " 'Iceland',\n",
              " 'Icelandic',\n",
              " 'India',\n",
              " 'India-Thailand',\n",
              " 'Indian',\n",
              " 'Indonesia',\n",
              " 'Indonesian',\n",
              " 'Iran',\n",
              " 'Iranian',\n",
              " 'Iraq',\n",
              " 'Iraqi',\n",
              " 'Ireland',\n",
              " 'Irish',\n",
              " 'Israel',\n",
              " 'Israeli',\n",
              " 'Italian',\n",
              " 'Italy',\n",
              " 'Ivorian',\n",
              " 'Japan',\n",
              " 'Japanese',\n",
              " 'Jordan',\n",
              " 'Jordanian',\n",
              " 'Kazakh / Kazakhstani',\n",
              " 'Kazakhstan',\n",
              " 'Kenya',\n",
              " 'Kenyan',\n",
              " 'Korea, South',\n",
              " 'Kosovo',\n",
              " 'Kuwait',\n",
              " 'Kuwaiti',\n",
              " 'Kyrgyzstan',\n",
              " 'L',\n",
              " 'Lao',\n",
              " 'Laos',\n",
              " 'Laotian',\n",
              " 'Laotian / Lao',\n",
              " 'Laotian/Lao',\n",
              " 'Latvia',\n",
              " 'Lebanon',\n",
              " 'Liberia',\n",
              " 'Libya',\n",
              " 'Lithuania',\n",
              " 'Luxembourg',\n",
              " 'Macedonia',\n",
              " 'Malawi',\n",
              " 'Malaysia',\n",
              " 'Malaysian',\n",
              " 'Maldives',\n",
              " 'Maldivian',\n",
              " 'Mali',\n",
              " 'Malian',\n",
              " 'Malta',\n",
              " 'Mauritians',\n",
              " 'Mauritius',\n",
              " 'Mexico',\n",
              " 'Mongolia',\n",
              " 'Mongolian',\n",
              " 'Moroccan',\n",
              " 'Myanmar',\n",
              " 'Namibia',\n",
              " 'Nepal',\n",
              " 'Nepalese / Nepali',\n",
              " 'Netherlands',\n",
              " 'New Zealand',\n",
              " 'Nicaragua',\n",
              " 'Nigeria',\n",
              " 'Nigerian',\n",
              " 'North Korean',\n",
              " 'Norway',\n",
              " 'Norwegian',\n",
              " 'Oatari',\n",
              " 'Oman',\n",
              " 'Other',\n",
              " 'Pakistan',\n",
              " 'Pakistani',\n",
              " 'Palestine',\n",
              " 'Palestinian',\n",
              " 'Philippines',\n",
              " 'Poland',\n",
              " 'Polish',\n",
              " 'Portugal',\n",
              " 'Portuguese',\n",
              " 'Qatar',\n",
              " 'Romania',\n",
              " 'Romanian',\n",
              " 'Russia',\n",
              " 'Russian',\n",
              " 'Senegal',\n",
              " 'Serbia',\n",
              " 'Serbian',\n",
              " 'Sierra Leone',\n",
              " 'Singapore',\n",
              " 'Singaporean',\n",
              " 'Slovenia',\n",
              " 'Somalia',\n",
              " 'South Africa',\n",
              " 'South African',\n",
              " 'South Korean',\n",
              " 'Spain',\n",
              " 'Spanish',\n",
              " 'Sri Lanka',\n",
              " 'Sri Lankan',\n",
              " 'Sudan',\n",
              " 'Sweden',\n",
              " 'Swedish',\n",
              " 'Swiss',\n",
              " 'Switzerland',\n",
              " 'Syria',\n",
              " 'Syrian',\n",
              " 'Taiwan',\n",
              " 'Taiwanese',\n",
              " 'Tajikistan',\n",
              " 'Tanzania',\n",
              " 'Tanzanian',\n",
              " 'Thai',\n",
              " 'Thailand',\n",
              " 'Timor-Leste',\n",
              " 'Timorese',\n",
              " 'Tunisia',\n",
              " 'Turkey',\n",
              " 'Turkish',\n",
              " 'Uganda',\n",
              " 'Ugandan',\n",
              " 'Ukraine',\n",
              " 'United Arab Emirates',\n",
              " 'United Kingdom',\n",
              " 'United States of America',\n",
              " 'Uzbek',\n",
              " 'Uzbekistan',\n",
              " 'Venezuelan',\n",
              " 'Vietnam',\n",
              " 'Vietnamese',\n",
              " 'Yemen',\n",
              " 'Yemeni / Yemenite',\n",
              " 'Zimbabwe',\n",
              " 'burma',\n",
              " 'burmese',\n",
              " 'cambodian',\n",
              " 'canadian',\n",
              " 'china',\n",
              " 'chinese',\n",
              " 'congo',\n",
              " 'deutsch',\n",
              " 'france',\n",
              " 'india',\n",
              " 'indian',\n",
              " 'iranian',\n",
              " 'japan',\n",
              " 'laos',\n",
              " 'laotian / Lao',\n",
              " nan,\n",
              " 'pakistani',\n",
              " 'taiwan',\n",
              " 'yemen',\n",
              " 'กัมพูชา',\n",
              " 'จีน',\n",
              " 'ต่างด้าว',\n",
              " 'บราซิล',\n",
              " 'พม่า',\n",
              " 'ลาว',\n",
              " 'อเมริกา',\n",
              " 'ไทยใหญ่',\n",
              " 'ไทใหญ่',\n",
              " 'ไนจีเรีย',\n",
              " 'ไม่มีสัญชาติ'}"
            ]
          },
          "execution_count": 7,
          "metadata": {},
          "output_type": "execute_result"
        }
      ],
      "source": [
        "set(dat['nationality'])"
      ]
    },
    {
      "cell_type": "code",
      "execution_count": null,
      "metadata": {
        "colab": {
          "base_uri": "https://localhost:8080/"
        },
        "id": "x-a-rUEoErRq",
        "outputId": "ae940204-b3d9-48bc-ac36-fe46cda915a5"
      },
      "outputs": [
        {
          "data": {
            "text/plain": [
              "{nan, 'ชาย', 'นาย', 'หญิง'}"
            ]
          },
          "execution_count": 8,
          "metadata": {},
          "output_type": "execute_result"
        }
      ],
      "source": [
        "set(dat['sex'])"
      ]
    },
    {
      "cell_type": "markdown",
      "metadata": {
        "id": "bOreHM9AF7N-"
      },
      "source": [
        "ข้อมูลเฉพาะคนไทยที่ติดเชื้อ"
      ]
    },
    {
      "cell_type": "code",
      "execution_count": null,
      "metadata": {
        "id": "VhSMSbv4Ex6w"
      },
      "outputs": [],
      "source": [
        "thai_dat = dat[((dat['nationality']=='Thai') | (dat['nationality']=='Thailand'))]"
      ]
    },
    {
      "cell_type": "markdown",
      "metadata": {
        "id": "3J3KSc69HBLB"
      },
      "source": [
        "เฉพาะเพศชาย"
      ]
    },
    {
      "cell_type": "code",
      "execution_count": null,
      "metadata": {
        "id": "XFdocNA_GQbZ"
      },
      "outputs": [],
      "source": [
        "thai_man_dat = thai_dat[((thai_dat['sex']=='ชาย') | (thai_dat['sex']=='นาย'))]"
      ]
    },
    {
      "cell_type": "markdown",
      "metadata": {
        "id": "NBsO3MmrHXjU"
      },
      "source": [
        "เฉพาะเพศหญิง"
      ]
    },
    {
      "cell_type": "code",
      "execution_count": null,
      "metadata": {
        "id": "lhx2JWRHHFlJ"
      },
      "outputs": [],
      "source": [
        "thai_woman_dat = thai_dat[thai_dat['sex']=='หญิง']"
      ]
    },
    {
      "cell_type": "markdown",
      "metadata": {
        "id": "v5ub06U1Dva4"
      },
      "source": [
        "#การดูสถิติเบื้องต้น"
      ]
    },
    {
      "cell_type": "markdown",
      "metadata": {
        "id": "_e7pMZbYHyZK"
      },
      "source": [
        "จำนวนของแต่ละเพศ"
      ]
    },
    {
      "cell_type": "code",
      "execution_count": null,
      "metadata": {
        "colab": {
          "base_uri": "https://localhost:8080/"
        },
        "id": "YR3Hd84eDtvs",
        "outputId": "6b8bd06a-0c00-4332-ffab-3c876487c8b7"
      },
      "outputs": [
        {
          "name": "stdout",
          "output_type": "stream",
          "text": [
            "จำนวนเพศชาย = 304416\n",
            "จำนวนเพศหญิง = 334859\n"
          ]
        }
      ],
      "source": [
        "#ประเทศไทย\n",
        "print('จำนวนเพศชาย =',len(thai_man_dat))\n",
        "print('จำนวนเพศหญิง =',len(thai_woman_dat))"
      ]
    },
    {
      "cell_type": "code",
      "execution_count": null,
      "metadata": {
        "id": "7CSDW8ycDSLY"
      },
      "outputs": [],
      "source": [
        "dat['age'] = pd.to_numeric(dat['age'], errors = 'coerce')"
      ]
    },
    {
      "cell_type": "markdown",
      "metadata": {
        "id": "DaHKqnYgbJsR"
      },
      "source": [
        "1. count -> จำนวนทั้งหมด\n",
        "2. mean -> ค่าเฉลี่ย\n",
        "3. std -> ค่าความเบี่ยงเบน  \n"
      ]
    },
    {
      "cell_type": "code",
      "execution_count": null,
      "metadata": {
        "colab": {
          "base_uri": "https://localhost:8080/",
          "height": 297
        },
        "id": "iYaV0Z6MHfZ-",
        "outputId": "fdbd9593-1411-4d11-c0ed-c98eb223add5"
      },
      "outputs": [
        {
          "data": {
            "text/html": [
              "<div>\n",
              "<style scoped>\n",
              "    .dataframe tbody tr th:only-of-type {\n",
              "        vertical-align: middle;\n",
              "    }\n",
              "\n",
              "    .dataframe tbody tr th {\n",
              "        vertical-align: top;\n",
              "    }\n",
              "\n",
              "    .dataframe thead th {\n",
              "        text-align: right;\n",
              "    }\n",
              "</style>\n",
              "<table border=\"1\" class=\"dataframe\">\n",
              "  <thead>\n",
              "    <tr style=\"text-align: right;\">\n",
              "      <th></th>\n",
              "      <th>No.</th>\n",
              "      <th>age</th>\n",
              "    </tr>\n",
              "  </thead>\n",
              "  <tbody>\n",
              "    <tr>\n",
              "      <th>count</th>\n",
              "      <td>839771.00000</td>\n",
              "      <td>763605.000000</td>\n",
              "    </tr>\n",
              "    <tr>\n",
              "      <th>mean</th>\n",
              "      <td>419886.00000</td>\n",
              "      <td>35.700109</td>\n",
              "    </tr>\n",
              "    <tr>\n",
              "      <th>std</th>\n",
              "      <td>242421.15079</td>\n",
              "      <td>16.597799</td>\n",
              "    </tr>\n",
              "    <tr>\n",
              "      <th>min</th>\n",
              "      <td>1.00000</td>\n",
              "      <td>0.750000</td>\n",
              "    </tr>\n",
              "    <tr>\n",
              "      <th>25%</th>\n",
              "      <td>209943.50000</td>\n",
              "      <td>24.000000</td>\n",
              "    </tr>\n",
              "    <tr>\n",
              "      <th>50%</th>\n",
              "      <td>419886.00000</td>\n",
              "      <td>34.000000</td>\n",
              "    </tr>\n",
              "    <tr>\n",
              "      <th>75%</th>\n",
              "      <td>629828.50000</td>\n",
              "      <td>46.000000</td>\n",
              "    </tr>\n",
              "    <tr>\n",
              "      <th>max</th>\n",
              "      <td>839771.00000</td>\n",
              "      <td>440.000000</td>\n",
              "    </tr>\n",
              "  </tbody>\n",
              "</table>\n",
              "</div>"
            ],
            "text/plain": [
              "                No.            age\n",
              "count  839771.00000  763605.000000\n",
              "mean   419886.00000      35.700109\n",
              "std    242421.15079      16.597799\n",
              "min         1.00000       0.750000\n",
              "25%    209943.50000      24.000000\n",
              "50%    419886.00000      34.000000\n",
              "75%    629828.50000      46.000000\n",
              "max    839771.00000     440.000000"
            ]
          },
          "execution_count": 14,
          "metadata": {},
          "output_type": "execute_result"
        }
      ],
      "source": [
        "dat.describe()"
      ]
    },
    {
      "cell_type": "markdown",
      "metadata": {
        "id": "GBLkspcLeqbz"
      },
      "source": [
        "สถิติของคนที่ไม่ใช่คนไทย"
      ]
    },
    {
      "cell_type": "code",
      "execution_count": null,
      "metadata": {
        "colab": {
          "base_uri": "https://localhost:8080/",
          "height": 297
        },
        "id": "uD16YPS4evNW",
        "outputId": "324c497f-2f4b-4b96-a53c-871b1a2ecac8"
      },
      "outputs": [
        {
          "data": {
            "text/html": [
              "<div>\n",
              "<style scoped>\n",
              "    .dataframe tbody tr th:only-of-type {\n",
              "        vertical-align: middle;\n",
              "    }\n",
              "\n",
              "    .dataframe tbody tr th {\n",
              "        vertical-align: top;\n",
              "    }\n",
              "\n",
              "    .dataframe thead th {\n",
              "        text-align: right;\n",
              "    }\n",
              "</style>\n",
              "<table border=\"1\" class=\"dataframe\">\n",
              "  <thead>\n",
              "    <tr style=\"text-align: right;\">\n",
              "      <th></th>\n",
              "      <th>No.</th>\n",
              "      <th>age</th>\n",
              "    </tr>\n",
              "  </thead>\n",
              "  <tbody>\n",
              "    <tr>\n",
              "      <th>count</th>\n",
              "      <td>839771.00000</td>\n",
              "      <td>763605.000000</td>\n",
              "    </tr>\n",
              "    <tr>\n",
              "      <th>mean</th>\n",
              "      <td>419886.00000</td>\n",
              "      <td>35.700109</td>\n",
              "    </tr>\n",
              "    <tr>\n",
              "      <th>std</th>\n",
              "      <td>242421.15079</td>\n",
              "      <td>16.597799</td>\n",
              "    </tr>\n",
              "    <tr>\n",
              "      <th>min</th>\n",
              "      <td>1.00000</td>\n",
              "      <td>0.750000</td>\n",
              "    </tr>\n",
              "    <tr>\n",
              "      <th>25%</th>\n",
              "      <td>209943.50000</td>\n",
              "      <td>24.000000</td>\n",
              "    </tr>\n",
              "    <tr>\n",
              "      <th>50%</th>\n",
              "      <td>419886.00000</td>\n",
              "      <td>34.000000</td>\n",
              "    </tr>\n",
              "    <tr>\n",
              "      <th>75%</th>\n",
              "      <td>629828.50000</td>\n",
              "      <td>46.000000</td>\n",
              "    </tr>\n",
              "    <tr>\n",
              "      <th>max</th>\n",
              "      <td>839771.00000</td>\n",
              "      <td>440.000000</td>\n",
              "    </tr>\n",
              "  </tbody>\n",
              "</table>\n",
              "</div>"
            ],
            "text/plain": [
              "                No.            age\n",
              "count  839771.00000  763605.000000\n",
              "mean   419886.00000      35.700109\n",
              "std    242421.15079      16.597799\n",
              "min         1.00000       0.750000\n",
              "25%    209943.50000      24.000000\n",
              "50%    419886.00000      34.000000\n",
              "75%    629828.50000      46.000000\n",
              "max    839771.00000     440.000000"
            ]
          },
          "execution_count": 15,
          "metadata": {},
          "output_type": "execute_result"
        }
      ],
      "source": [
        "dat[((dat['nationality']!='Thai') | (dat['nationality']!='Thailand'))].describe()"
      ]
    },
    {
      "cell_type": "code",
      "execution_count": null,
      "metadata": {
        "colab": {
          "base_uri": "https://localhost:8080/",
          "height": 297
        },
        "id": "VWQKJ_IHf0ho",
        "outputId": "d51ce0bc-86a9-48f6-cf56-70f00b6f0525"
      },
      "outputs": [
        {
          "data": {
            "text/html": [
              "<div>\n",
              "<style scoped>\n",
              "    .dataframe tbody tr th:only-of-type {\n",
              "        vertical-align: middle;\n",
              "    }\n",
              "\n",
              "    .dataframe tbody tr th {\n",
              "        vertical-align: top;\n",
              "    }\n",
              "\n",
              "    .dataframe thead th {\n",
              "        text-align: right;\n",
              "    }\n",
              "</style>\n",
              "<table border=\"1\" class=\"dataframe\">\n",
              "  <thead>\n",
              "    <tr style=\"text-align: right;\">\n",
              "      <th></th>\n",
              "      <th>No.</th>\n",
              "      <th>age</th>\n",
              "    </tr>\n",
              "  </thead>\n",
              "  <tbody>\n",
              "    <tr>\n",
              "      <th>count</th>\n",
              "      <td>384995.000000</td>\n",
              "      <td>356886.000000</td>\n",
              "    </tr>\n",
              "    <tr>\n",
              "      <th>mean</th>\n",
              "      <td>411729.905292</td>\n",
              "      <td>34.962933</td>\n",
              "    </tr>\n",
              "    <tr>\n",
              "      <th>std</th>\n",
              "      <td>241104.017311</td>\n",
              "      <td>16.283189</td>\n",
              "    </tr>\n",
              "    <tr>\n",
              "      <th>min</th>\n",
              "      <td>4.000000</td>\n",
              "      <td>1.000000</td>\n",
              "    </tr>\n",
              "    <tr>\n",
              "      <th>25%</th>\n",
              "      <td>198995.500000</td>\n",
              "      <td>24.000000</td>\n",
              "    </tr>\n",
              "    <tr>\n",
              "      <th>50%</th>\n",
              "      <td>408164.000000</td>\n",
              "      <td>34.000000</td>\n",
              "    </tr>\n",
              "    <tr>\n",
              "      <th>75%</th>\n",
              "      <td>618485.500000</td>\n",
              "      <td>45.000000</td>\n",
              "    </tr>\n",
              "    <tr>\n",
              "      <th>max</th>\n",
              "      <td>839771.000000</td>\n",
              "      <td>440.000000</td>\n",
              "    </tr>\n",
              "  </tbody>\n",
              "</table>\n",
              "</div>"
            ],
            "text/plain": [
              "                 No.            age\n",
              "count  384995.000000  356886.000000\n",
              "mean   411729.905292      34.962933\n",
              "std    241104.017311      16.283189\n",
              "min         4.000000       1.000000\n",
              "25%    198995.500000      24.000000\n",
              "50%    408164.000000      34.000000\n",
              "75%    618485.500000      45.000000\n",
              "max    839771.000000     440.000000"
            ]
          },
          "execution_count": 16,
          "metadata": {},
          "output_type": "execute_result"
        }
      ],
      "source": [
        "dat[((dat['nationality']!='Thai') | (dat['nationality']!='Thailand')) & ((dat['sex']=='ชาย') | (dat['sex']=='นาย'))].describe()"
      ]
    },
    {
      "cell_type": "code",
      "execution_count": null,
      "metadata": {
        "colab": {
          "base_uri": "https://localhost:8080/",
          "height": 297
        },
        "id": "8w3BOhKKf6v8",
        "outputId": "f36492b5-c11d-4983-8d64-84e2fb52aa36"
      },
      "outputs": [
        {
          "data": {
            "text/html": [
              "<div>\n",
              "<style scoped>\n",
              "    .dataframe tbody tr th:only-of-type {\n",
              "        vertical-align: middle;\n",
              "    }\n",
              "\n",
              "    .dataframe tbody tr th {\n",
              "        vertical-align: top;\n",
              "    }\n",
              "\n",
              "    .dataframe thead th {\n",
              "        text-align: right;\n",
              "    }\n",
              "</style>\n",
              "<table border=\"1\" class=\"dataframe\">\n",
              "  <thead>\n",
              "    <tr style=\"text-align: right;\">\n",
              "      <th></th>\n",
              "      <th>No.</th>\n",
              "      <th>age</th>\n",
              "    </tr>\n",
              "  </thead>\n",
              "  <tbody>\n",
              "    <tr>\n",
              "      <th>count</th>\n",
              "      <td>399881.000000</td>\n",
              "      <td>377227.000000</td>\n",
              "    </tr>\n",
              "    <tr>\n",
              "      <th>mean</th>\n",
              "      <td>425662.280789</td>\n",
              "      <td>36.160909</td>\n",
              "    </tr>\n",
              "    <tr>\n",
              "      <th>std</th>\n",
              "      <td>242485.815006</td>\n",
              "      <td>16.706128</td>\n",
              "    </tr>\n",
              "    <tr>\n",
              "      <th>min</th>\n",
              "      <td>1.000000</td>\n",
              "      <td>0.750000</td>\n",
              "    </tr>\n",
              "    <tr>\n",
              "      <th>25%</th>\n",
              "      <td>224507.000000</td>\n",
              "      <td>25.000000</td>\n",
              "    </tr>\n",
              "    <tr>\n",
              "      <th>50%</th>\n",
              "      <td>428734.000000</td>\n",
              "      <td>35.000000</td>\n",
              "    </tr>\n",
              "    <tr>\n",
              "      <th>75%</th>\n",
              "      <td>635576.000000</td>\n",
              "      <td>47.000000</td>\n",
              "    </tr>\n",
              "    <tr>\n",
              "      <th>max</th>\n",
              "      <td>839742.000000</td>\n",
              "      <td>110.000000</td>\n",
              "    </tr>\n",
              "  </tbody>\n",
              "</table>\n",
              "</div>"
            ],
            "text/plain": [
              "                 No.            age\n",
              "count  399881.000000  377227.000000\n",
              "mean   425662.280789      36.160909\n",
              "std    242485.815006      16.706128\n",
              "min         1.000000       0.750000\n",
              "25%    224507.000000      25.000000\n",
              "50%    428734.000000      35.000000\n",
              "75%    635576.000000      47.000000\n",
              "max    839742.000000     110.000000"
            ]
          },
          "execution_count": 17,
          "metadata": {},
          "output_type": "execute_result"
        }
      ],
      "source": [
        "dat[((dat['nationality']!='Thai') | (dat['nationality']!='Thailand')) & (dat['sex']=='หญิง')].describe()"
      ]
    },
    {
      "cell_type": "markdown",
      "metadata": {
        "id": "uGR20Dq7ehe6"
      },
      "source": [
        "สถิติของคนไทย\n",
        "\n"
      ]
    },
    {
      "cell_type": "code",
      "execution_count": null,
      "metadata": {
        "colab": {
          "base_uri": "https://localhost:8080/",
          "height": 297
        },
        "id": "KnJM8w-ofVxx",
        "outputId": "ccb23e43-eb11-4976-e787-b889677bba55"
      },
      "outputs": [
        {
          "data": {
            "text/html": [
              "<div>\n",
              "<style scoped>\n",
              "    .dataframe tbody tr th:only-of-type {\n",
              "        vertical-align: middle;\n",
              "    }\n",
              "\n",
              "    .dataframe tbody tr th {\n",
              "        vertical-align: top;\n",
              "    }\n",
              "\n",
              "    .dataframe thead th {\n",
              "        text-align: right;\n",
              "    }\n",
              "</style>\n",
              "<table border=\"1\" class=\"dataframe\">\n",
              "  <thead>\n",
              "    <tr style=\"text-align: right;\">\n",
              "      <th></th>\n",
              "      <th>No.</th>\n",
              "      <th>age</th>\n",
              "    </tr>\n",
              "  </thead>\n",
              "  <tbody>\n",
              "    <tr>\n",
              "      <th>count</th>\n",
              "      <td>652654.000000</td>\n",
              "      <td>607779.000000</td>\n",
              "    </tr>\n",
              "    <tr>\n",
              "      <th>mean</th>\n",
              "      <td>432859.815049</td>\n",
              "      <td>36.256955</td>\n",
              "    </tr>\n",
              "    <tr>\n",
              "      <th>std</th>\n",
              "      <td>240651.305114</td>\n",
              "      <td>17.272107</td>\n",
              "    </tr>\n",
              "    <tr>\n",
              "      <th>min</th>\n",
              "      <td>3.000000</td>\n",
              "      <td>0.950000</td>\n",
              "    </tr>\n",
              "    <tr>\n",
              "      <th>25%</th>\n",
              "      <td>228878.250000</td>\n",
              "      <td>24.000000</td>\n",
              "    </tr>\n",
              "    <tr>\n",
              "      <th>50%</th>\n",
              "      <td>436760.500000</td>\n",
              "      <td>35.000000</td>\n",
              "    </tr>\n",
              "    <tr>\n",
              "      <th>75%</th>\n",
              "      <td>641364.750000</td>\n",
              "      <td>48.000000</td>\n",
              "    </tr>\n",
              "    <tr>\n",
              "      <th>max</th>\n",
              "      <td>839771.000000</td>\n",
              "      <td>114.000000</td>\n",
              "    </tr>\n",
              "  </tbody>\n",
              "</table>\n",
              "</div>"
            ],
            "text/plain": [
              "                 No.            age\n",
              "count  652654.000000  607779.000000\n",
              "mean   432859.815049      36.256955\n",
              "std    240651.305114      17.272107\n",
              "min         3.000000       0.950000\n",
              "25%    228878.250000      24.000000\n",
              "50%    436760.500000      35.000000\n",
              "75%    641364.750000      48.000000\n",
              "max    839771.000000     114.000000"
            ]
          },
          "execution_count": 18,
          "metadata": {},
          "output_type": "execute_result"
        }
      ],
      "source": [
        "dat[((dat['nationality']=='Thai') | (dat['nationality']=='Thailand'))].describe()"
      ]
    },
    {
      "cell_type": "code",
      "execution_count": null,
      "metadata": {
        "colab": {
          "base_uri": "https://localhost:8080/",
          "height": 297
        },
        "id": "oQKHJtUBdcu8",
        "outputId": "2c19cea8-50fc-4c4a-f1d5-487de1df2e5f"
      },
      "outputs": [
        {
          "data": {
            "text/html": [
              "<div>\n",
              "<style scoped>\n",
              "    .dataframe tbody tr th:only-of-type {\n",
              "        vertical-align: middle;\n",
              "    }\n",
              "\n",
              "    .dataframe tbody tr th {\n",
              "        vertical-align: top;\n",
              "    }\n",
              "\n",
              "    .dataframe thead th {\n",
              "        text-align: right;\n",
              "    }\n",
              "</style>\n",
              "<table border=\"1\" class=\"dataframe\">\n",
              "  <thead>\n",
              "    <tr style=\"text-align: right;\">\n",
              "      <th></th>\n",
              "      <th>No.</th>\n",
              "      <th>age</th>\n",
              "    </tr>\n",
              "  </thead>\n",
              "  <tbody>\n",
              "    <tr>\n",
              "      <th>count</th>\n",
              "      <td>304416.000000</td>\n",
              "      <td>286217.000000</td>\n",
              "    </tr>\n",
              "    <tr>\n",
              "      <th>mean</th>\n",
              "      <td>424835.575870</td>\n",
              "      <td>35.490573</td>\n",
              "    </tr>\n",
              "    <tr>\n",
              "      <th>std</th>\n",
              "      <td>241385.684879</td>\n",
              "      <td>17.153185</td>\n",
              "    </tr>\n",
              "    <tr>\n",
              "      <th>min</th>\n",
              "      <td>16.000000</td>\n",
              "      <td>1.000000</td>\n",
              "    </tr>\n",
              "    <tr>\n",
              "      <th>25%</th>\n",
              "      <td>213947.500000</td>\n",
              "      <td>24.000000</td>\n",
              "    </tr>\n",
              "    <tr>\n",
              "      <th>50%</th>\n",
              "      <td>426032.500000</td>\n",
              "      <td>34.000000</td>\n",
              "    </tr>\n",
              "    <tr>\n",
              "      <th>75%</th>\n",
              "      <td>634380.250000</td>\n",
              "      <td>47.000000</td>\n",
              "    </tr>\n",
              "    <tr>\n",
              "      <th>max</th>\n",
              "      <td>839771.000000</td>\n",
              "      <td>114.000000</td>\n",
              "    </tr>\n",
              "  </tbody>\n",
              "</table>\n",
              "</div>"
            ],
            "text/plain": [
              "                 No.            age\n",
              "count  304416.000000  286217.000000\n",
              "mean   424835.575870      35.490573\n",
              "std    241385.684879      17.153185\n",
              "min        16.000000       1.000000\n",
              "25%    213947.500000      24.000000\n",
              "50%    426032.500000      34.000000\n",
              "75%    634380.250000      47.000000\n",
              "max    839771.000000     114.000000"
            ]
          },
          "execution_count": 19,
          "metadata": {},
          "output_type": "execute_result"
        }
      ],
      "source": [
        "dat[((dat['nationality']=='Thai') | (dat['nationality']=='Thailand')) & ((dat['sex']=='ชาย') | (dat['sex']=='นาย'))].describe()"
      ]
    },
    {
      "cell_type": "code",
      "execution_count": null,
      "metadata": {
        "colab": {
          "base_uri": "https://localhost:8080/",
          "height": 297
        },
        "id": "SrsUTUO2eEWg",
        "outputId": "a849cd8b-79d3-46e9-f070-f42218140947"
      },
      "outputs": [
        {
          "data": {
            "text/html": [
              "<div>\n",
              "<style scoped>\n",
              "    .dataframe tbody tr th:only-of-type {\n",
              "        vertical-align: middle;\n",
              "    }\n",
              "\n",
              "    .dataframe tbody tr th {\n",
              "        vertical-align: top;\n",
              "    }\n",
              "\n",
              "    .dataframe thead th {\n",
              "        text-align: right;\n",
              "    }\n",
              "</style>\n",
              "<table border=\"1\" class=\"dataframe\">\n",
              "  <thead>\n",
              "    <tr style=\"text-align: right;\">\n",
              "      <th></th>\n",
              "      <th>No.</th>\n",
              "      <th>age</th>\n",
              "    </tr>\n",
              "  </thead>\n",
              "  <tbody>\n",
              "    <tr>\n",
              "      <th>count</th>\n",
              "      <td>334859.000000</td>\n",
              "      <td>317794.000000</td>\n",
              "    </tr>\n",
              "    <tr>\n",
              "      <th>mean</th>\n",
              "      <td>441136.754879</td>\n",
              "      <td>36.936297</td>\n",
              "    </tr>\n",
              "    <tr>\n",
              "      <th>std</th>\n",
              "      <td>239583.912835</td>\n",
              "      <td>17.372047</td>\n",
              "    </tr>\n",
              "    <tr>\n",
              "      <th>min</th>\n",
              "      <td>3.000000</td>\n",
              "      <td>0.950000</td>\n",
              "    </tr>\n",
              "    <tr>\n",
              "      <th>25%</th>\n",
              "      <td>246776.500000</td>\n",
              "      <td>25.000000</td>\n",
              "    </tr>\n",
              "    <tr>\n",
              "      <th>50%</th>\n",
              "      <td>448531.000000</td>\n",
              "      <td>36.000000</td>\n",
              "    </tr>\n",
              "    <tr>\n",
              "      <th>75%</th>\n",
              "      <td>648930.000000</td>\n",
              "      <td>49.000000</td>\n",
              "    </tr>\n",
              "    <tr>\n",
              "      <th>max</th>\n",
              "      <td>839742.000000</td>\n",
              "      <td>110.000000</td>\n",
              "    </tr>\n",
              "  </tbody>\n",
              "</table>\n",
              "</div>"
            ],
            "text/plain": [
              "                 No.            age\n",
              "count  334859.000000  317794.000000\n",
              "mean   441136.754879      36.936297\n",
              "std    239583.912835      17.372047\n",
              "min         3.000000       0.950000\n",
              "25%    246776.500000      25.000000\n",
              "50%    448531.000000      36.000000\n",
              "75%    648930.000000      49.000000\n",
              "max    839742.000000     110.000000"
            ]
          },
          "execution_count": 20,
          "metadata": {},
          "output_type": "execute_result"
        }
      ],
      "source": [
        "dat[((dat['nationality']=='Thai') | (dat['nationality']=='Thailand')) & (dat['sex']=='หญิง')].describe()"
      ]
    },
    {
      "cell_type": "code",
      "execution_count": null,
      "metadata": {
        "colab": {
          "base_uri": "https://localhost:8080/",
          "height": 609
        },
        "id": "uJ1ShNnGLu1Q",
        "outputId": "a6649d6f-2977-4c4e-9d55-8ba9b4ff0f25"
      },
      "outputs": [
        {
          "data": {
            "text/plain": [
              "<matplotlib.axes._subplots.AxesSubplot at 0x7f29b3f87690>"
            ]
          },
          "execution_count": 21,
          "metadata": {},
          "output_type": "execute_result"
        },
        {
          "data": {
            "image/png": "[encoded data removed]",
            "text/plain": [
              "<Figure size 1440x720 with 1 Axes>"
            ]
          },
          "metadata": {},
          "output_type": "display_data"
        }
      ],
      "source": [
        "#histogram\n",
        "#โดยรวม\n",
        "fdat = dat[dat['age']<150]\n",
        "fdat['age'].hist(figsize=(20,10))"
      ]
    },
    {
      "cell_type": "code",
      "execution_count": null,
      "metadata": {
        "colab": {
          "base_uri": "https://localhost:8080/",
          "height": 609
        },
        "id": "Px7ndwDzOd2J",
        "outputId": "fd86e43c-3758-4f11-a095-e8830c5ac30d"
      },
      "outputs": [
        {
          "data": {
            "text/plain": [
              "<matplotlib.axes._subplots.AxesSubplot at 0x7f29b3898e10>"
            ]
          },
          "execution_count": 24,
          "metadata": {},
          "output_type": "execute_result"
        },
        {
          "data": {
            "image/png": "[encoded data removed]",
            "text/plain": [
              "<Figure size 1440x720 with 1 Axes>"
            ]
          },
          "metadata": {},
          "output_type": "display_data"
        }
      ],
      "source": [
        "thai_dat['age'].hist(figsize=(20,10))"
      ]
    },
    {
      "cell_type": "code",
      "execution_count": null,
      "metadata": {
        "colab": {
          "base_uri": "https://localhost:8080/"
        },
        "id": "tBnX3xEw1ml-",
        "outputId": "18eec9a8-50e0-4a6f-ee34-3792ac28a0d4"
      },
      "outputs": [
        {
          "data": {
            "text/plain": [
              "หญิง    334859\n",
              "ชาย     304415\n",
              "นาย          1\n",
              "Name: sex, dtype: int64"
            ]
          },
          "execution_count": 25,
          "metadata": {},
          "output_type": "execute_result"
        }
      ],
      "source": [
        "thai_dat['sex'].value_counts()"
      ]
    },
    {
      "cell_type": "code",
      "execution_count": null,
      "metadata": {
        "colab": {
          "base_uri": "https://localhost:8080/",
          "height": 826
        },
        "id": "YCtoZn2v1x6E",
        "outputId": "565ca474-ced2-4c38-b696-d9432b4a6652"
      },
      "outputs": [
        {
          "name": "stderr",
          "output_type": "stream",
          "text": [
            "/usr/local/lib/python3.7/dist-packages/matplotlib/backends/backend_agg.py:214: RuntimeWarning: Glyph 3627 missing from current font.\n",
            "  font.set_text(s, 0.0, flags=flags)\n",
            "/usr/local/lib/python3.7/dist-packages/matplotlib/backends/backend_agg.py:214: RuntimeWarning: Glyph 3597 missing from current font.\n",
            "  font.set_text(s, 0.0, flags=flags)\n",
            "/usr/local/lib/python3.7/dist-packages/matplotlib/backends/backend_agg.py:214: RuntimeWarning: Glyph 3636 missing from current font.\n",
            "  font.set_text(s, 0.0, flags=flags)\n",
            "/usr/local/lib/python3.7/dist-packages/matplotlib/backends/backend_agg.py:214: RuntimeWarning: Glyph 3591 missing from current font.\n",
            "  font.set_text(s, 0.0, flags=flags)\n",
            "/usr/local/lib/python3.7/dist-packages/matplotlib/backends/backend_agg.py:214: RuntimeWarning: Glyph 3594 missing from current font.\n",
            "  font.set_text(s, 0.0, flags=flags)\n",
            "/usr/local/lib/python3.7/dist-packages/matplotlib/backends/backend_agg.py:214: RuntimeWarning: Glyph 3634 missing from current font.\n",
            "  font.set_text(s, 0.0, flags=flags)\n",
            "/usr/local/lib/python3.7/dist-packages/matplotlib/backends/backend_agg.py:214: RuntimeWarning: Glyph 3618 missing from current font.\n",
            "  font.set_text(s, 0.0, flags=flags)\n",
            "/usr/local/lib/python3.7/dist-packages/matplotlib/backends/backend_agg.py:214: RuntimeWarning: Glyph 3609 missing from current font.\n",
            "  font.set_text(s, 0.0, flags=flags)\n",
            "/usr/local/lib/python3.7/dist-packages/matplotlib/backends/backend_agg.py:183: RuntimeWarning: Glyph 3627 missing from current font.\n",
            "  font.set_text(s, 0, flags=flags)\n",
            "/usr/local/lib/python3.7/dist-packages/matplotlib/backends/backend_agg.py:183: RuntimeWarning: Glyph 3597 missing from current font.\n",
            "  font.set_text(s, 0, flags=flags)\n",
            "/usr/local/lib/python3.7/dist-packages/matplotlib/backends/backend_agg.py:183: RuntimeWarning: Glyph 3636 missing from current font.\n",
            "  font.set_text(s, 0, flags=flags)\n",
            "/usr/local/lib/python3.7/dist-packages/matplotlib/backends/backend_agg.py:183: RuntimeWarning: Glyph 3591 missing from current font.\n",
            "  font.set_text(s, 0, flags=flags)\n",
            "/usr/local/lib/python3.7/dist-packages/matplotlib/backends/backend_agg.py:183: RuntimeWarning: Glyph 3594 missing from current font.\n",
            "  font.set_text(s, 0, flags=flags)\n",
            "/usr/local/lib/python3.7/dist-packages/matplotlib/backends/backend_agg.py:183: RuntimeWarning: Glyph 3634 missing from current font.\n",
            "  font.set_text(s, 0, flags=flags)\n",
            "/usr/local/lib/python3.7/dist-packages/matplotlib/backends/backend_agg.py:183: RuntimeWarning: Glyph 3618 missing from current font.\n",
            "  font.set_text(s, 0, flags=flags)\n",
            "/usr/local/lib/python3.7/dist-packages/matplotlib/backends/backend_agg.py:183: RuntimeWarning: Glyph 3609 missing from current font.\n",
            "  font.set_text(s, 0, flags=flags)\n"
          ]
        },
        {
          "data": {
            "image/png": "[encoded data removed]",
            "text/plain": [
              "<Figure size 432x288 with 1 Axes>"
            ]
          },
          "metadata": {},
          "output_type": "display_data"
        }
      ],
      "source": [
        "thai_dat['sex'].value_counts().plot.bar().grid()"
      ]
    },
    {
      "cell_type": "code",
      "execution_count": null,
      "metadata": {
        "id": "OeuT5AWc2DHy"
      },
      "outputs": [],
      "source": [
        "import numpy as np\n",
        "th_fe_dat = thai_dat[thai_dat['sex']=='หญิง']['age']\n",
        "th_m_dat  = thai_dat[thai_dat['sex']=='ชาย']['age']\n",
        "fecount, division = np.histogram(th_fe_dat,range=(0,100),bins=20)\n",
        "mcount, division = np.histogram(th_m_dat,range=(0,100),bins=20)"
      ]
    },
    {
      "cell_type": "code",
      "execution_count": null,
      "metadata": {
        "colab": {
          "base_uri": "https://localhost:8080/",
          "height": 322
        },
        "id": "VXk-0Uo32-xd",
        "outputId": "75fe1ddb-7955-449e-e5e4-2e761c06cb07"
      },
      "outputs": [
        {
          "data": {
            "image/png": "[encoded data removed]",
            "text/plain": [
              "<Figure size 1440x360 with 1 Axes>"
            ]
          },
          "metadata": {},
          "output_type": "display_data"
        }
      ],
      "source": [
        "#Data Visualization คนไทยที่ติดเชื้อโดยจำแนกตามเพศและอายุ\n",
        "fe_m_dat = pd.DataFrame()\n",
        "fe_m_dat['Female'] = fecount\n",
        "fe_m_dat['Male'] = mcount\n",
        "fe_m_dat.index = range(0,100,5)\n",
        "fe_m_dat.plot.bar(figsize=(20,5)).grid()"
      ]
    },
    {
      "cell_type": "code",
      "execution_count": null,
      "metadata": {
        "id": "x846RYZUgfC4"
      },
      "outputs": [],
      "source": [
        "clus_dat = dat[['risk','announce_date','province_of_onset']]"
      ]
    },
    {
      "cell_type": "code",
      "execution_count": null,
      "metadata": {
        "colab": {
          "base_uri": "https://localhost:8080/",
          "height": 419
        },
        "id": "kyzqh9qFhBOd",
        "outputId": "30c55e25-517c-4e67-9c22-33d3f0989ccf"
      },
      "outputs": [
        {
          "data": {
            "text/html": [
              "<div>\n",
              "<style scoped>\n",
              "    .dataframe tbody tr th:only-of-type {\n",
              "        vertical-align: middle;\n",
              "    }\n",
              "\n",
              "    .dataframe tbody tr th {\n",
              "        vertical-align: top;\n",
              "    }\n",
              "\n",
              "    .dataframe thead th {\n",
              "        text-align: right;\n",
              "    }\n",
              "</style>\n",
              "<table border=\"1\" class=\"dataframe\">\n",
              "  <thead>\n",
              "    <tr style=\"text-align: right;\">\n",
              "      <th></th>\n",
              "      <th>count</th>\n",
              "      <th>cluster</th>\n",
              "    </tr>\n",
              "  </thead>\n",
              "  <tbody>\n",
              "    <tr>\n",
              "      <th>สัมผัสใกล้ชิดกับผู้ป่วยยืนยันรายก่อนหน้านี้</th>\n",
              "      <td>303184</td>\n",
              "      <td>สัมผัสใกล้ชิดกับผู้ป่วยยืนยันรายก่อนหน้านี้</td>\n",
              "    </tr>\n",
              "    <tr>\n",
              "      <th>อื่นๆ</th>\n",
              "      <td>145685</td>\n",
              "      <td>อื่นๆ</td>\n",
              "    </tr>\n",
              "    <tr>\n",
              "      <th>การค้นหาผู้ป่วยเชิงรุกและค้นหาผู้ติดเชื้อในชุมชน</th>\n",
              "      <td>133807</td>\n",
              "      <td>การค้นหาผู้ป่วยเชิงรุกและค้นหาผู้ติดเชื้อในชุมชน</td>\n",
              "    </tr>\n",
              "    <tr>\n",
              "      <th>อยู่ระหว่างการสอบสวน</th>\n",
              "      <td>103054</td>\n",
              "      <td>อยู่ระหว่างการสอบสวน</td>\n",
              "    </tr>\n",
              "    <tr>\n",
              "      <th>ทัณฑสถาน/เรือนจำ</th>\n",
              "      <td>52184</td>\n",
              "      <td>ทัณฑสถาน/เรือนจำ</td>\n",
              "    </tr>\n",
              "    <tr>\n",
              "      <th>...</th>\n",
              "      <td>...</td>\n",
              "      <td>...</td>\n",
              "    </tr>\n",
              "    <tr>\n",
              "      <th>มาจากพื้นที่เสี่ยง จ.ปทุมธานี</th>\n",
              "      <td>1</td>\n",
              "      <td>มาจากพื้นที่เสี่ยง จ.ปทุมธานี</td>\n",
              "    </tr>\n",
              "    <tr>\n",
              "      <th>สัมผัสผู้ป่วยยืนยัน ภายในครอบครัว/ชุมชน/เพื่อน</th>\n",
              "      <td>1</td>\n",
              "      <td>สัมผัสผู้ป่วยยืนยัน ภายในครอบครัว/ชุมชน/เพื่อน</td>\n",
              "    </tr>\n",
              "    <tr>\n",
              "      <th>ปอดอักเสบ Pneumonia</th>\n",
              "      <td>1</td>\n",
              "      <td>ปอดอักเสบ Pneumonia</td>\n",
              "    </tr>\n",
              "    <tr>\n",
              "      <th>ไปเที่ยวสถานบันเทิงในอุบลที่พบการระบาดของโรค Ubar</th>\n",
              "      <td>1</td>\n",
              "      <td>ไปเที่ยวสถานบันเทิงในอุบลที่พบการระบาดของโรค Ubar</td>\n",
              "    </tr>\n",
              "    <tr>\n",
              "      <th>เดินทางมาจากพื้นที่มีการระบาดของโรค</th>\n",
              "      <td>1</td>\n",
              "      <td>เดินทางมาจากพื้นที่มีการระบาดของโรค</td>\n",
              "    </tr>\n",
              "  </tbody>\n",
              "</table>\n",
              "<p>128 rows × 2 columns</p>\n",
              "</div>"
            ],
            "text/plain": [
              "                                                    count                                            cluster\n",
              "สัมผัสใกล้ชิดกับผู้ป่วยยืนยันรายก่อนหน้านี้        303184        สัมผัสใกล้ชิดกับผู้ป่วยยืนยันรายก่อนหน้านี้\n",
              "อื่นๆ                                              145685                                              อื่นๆ\n",
              "การค้นหาผู้ป่วยเชิงรุกและค้นหาผู้ติดเชื้อในชุมชน   133807   การค้นหาผู้ป่วยเชิงรุกและค้นหาผู้ติดเชื้อในชุมชน\n",
              "อยู่ระหว่างการสอบสวน                               103054                               อยู่ระหว่างการสอบสวน\n",
              "ทัณฑสถาน/เรือนจำ                                    52184                                   ทัณฑสถาน/เรือนจำ\n",
              "...                                                   ...                                                ...\n",
              "มาจากพื้นที่เสี่ยง จ.ปทุมธานี                           1                      มาจากพื้นที่เสี่ยง จ.ปทุมธานี\n",
              "สัมผัสผู้ป่วยยืนยัน ภายในครอบครัว/ชุมชน/เพื่อน          1     สัมผัสผู้ป่วยยืนยัน ภายในครอบครัว/ชุมชน/เพื่อน\n",
              "ปอดอักเสบ Pneumonia                                     1                                ปอดอักเสบ Pneumonia\n",
              "ไปเที่ยวสถานบันเทิงในอุบลที่พบการระบาดของโรค Ubar       1  ไปเที่ยวสถานบันเทิงในอุบลที่พบการระบาดของโรค Ubar\n",
              "เดินทางมาจากพื้นที่มีการระบาดของโรค                     1                เดินทางมาจากพื้นที่มีการระบาดของโรค\n",
              "\n",
              "[128 rows x 2 columns]"
            ]
          },
          "execution_count": 30,
          "metadata": {},
          "output_type": "execute_result"
        }
      ],
      "source": [
        "clusres = clus_dat['risk'].value_counts()\n",
        "clusres = pd.DataFrame(clusres)\n",
        "clusres['cluster'] = clusres.index\n",
        "clusres.columns = ['count','cluster']\n",
        "clusres"
      ]
    },
    {
      "cell_type": "code",
      "execution_count": null,
      "metadata": {
        "colab": {
          "base_uri": "https://localhost:8080/",
          "height": 542
        },
        "id": "9MelhTcAh0If",
        "outputId": "c5e44303-5628-4dbb-c6ed-90c09ec82ef8"
      },
      "outputs": [
        {
          "data": {
            "text/html": [
              "<html>\n",
              "<head><meta charset=\"utf-8\" /></head>\n",
              "<body>\n",
              "    <div>\n",
              "            <script src=\"https://cdnjs.cloudflare.com/ajax/libs/mathjax/2.7.5/MathJax.js?config=TeX-AMS-MML_SVG\"></script><script type=\"text/javascript\">if (window.MathJax) {MathJax.Hub.Config({SVG: {font: \"STIX-Web\"}});}</script>\n",
              "                <script type=\"text/javascript\">window.PlotlyConfig = {MathJaxConfig: 'local'};</script>\n",
              "        <script src=\"https://cdn.plot.ly/plotly-latest.min.js\"></script>    \n",
              "            <div id=\"c5e285ab-3a4a-4b9b-8d37-63ad7b3acac7\" class=\"plotly-graph-div\" style=\"height:525px; width:100%;\"></div>\n",
              "            <script type=\"text/javascript\">\n",
              "                \n",
              "                    window.PLOTLYENV=window.PLOTLYENV || {};\n",
              "                    \n",
              "                if (document.getElementById(\"c5e285ab-3a4a-4b9b-8d37-63ad7b3acac7\")) {\n",
              "                    Plotly.newPlot(\n",
              "                        'c5e285ab-3a4a-4b9b-8d37-63ad7b3acac7',\n",
              "                        [{\"alignmentgroup\": \"True\", \"hoverlabel\": {\"namelength\": 0}, \"hovertemplate\": \"cluster=%{x}<br>count=%{y}\", \"legendgroup\": \"\", \"marker\": {\"color\": \"#636efa\"}, \"name\": \"\", \"offsetgroup\": \"\", \"orientation\": \"v\", \"showlegend\": false, \"textposition\": \"auto\", \"type\": \"bar\", \"x\": [\"\\u0e2a\\u0e31\\u0e21\\u0e1c\\u0e31\\u0e2a\\u0e43\\u0e01\\u0e25\\u0e49\\u0e0a\\u0e34\\u0e14\\u0e01\\u0e31\\u0e1a\\u0e1c\\u0e39\\u0e49\\u0e1b\\u0e48\\u0e27\\u0e22\\u0e22\\u0e37\\u0e19\\u0e22\\u0e31\\u0e19\\u0e23\\u0e32\\u0e22\\u0e01\\u0e48\\u0e2d\\u0e19\\u0e2b\\u0e19\\u0e49\\u0e32\\u0e19\\u0e35\\u0e49\", \"\\u0e2d\\u0e37\\u0e48\\u0e19\\u0e46\", \"\\u0e01\\u0e32\\u0e23\\u0e04\\u0e49\\u0e19\\u0e2b\\u0e32\\u0e1c\\u0e39\\u0e49\\u0e1b\\u0e48\\u0e27\\u0e22\\u0e40\\u0e0a\\u0e34\\u0e07\\u0e23\\u0e38\\u0e01\\u0e41\\u0e25\\u0e30\\u0e04\\u0e49\\u0e19\\u0e2b\\u0e32\\u0e1c\\u0e39\\u0e49\\u0e15\\u0e34\\u0e14\\u0e40\\u0e0a\\u0e37\\u0e49\\u0e2d\\u0e43\\u0e19\\u0e0a\\u0e38\\u0e21\\u0e0a\\u0e19\", \"\\u0e2d\\u0e22\\u0e39\\u0e48\\u0e23\\u0e30\\u0e2b\\u0e27\\u0e48\\u0e32\\u0e07\\u0e01\\u0e32\\u0e23\\u0e2a\\u0e2d\\u0e1a\\u0e2a\\u0e27\\u0e19\", \"\\u0e17\\u0e31\\u0e13\\u0e11\\u0e2a\\u0e16\\u0e32\\u0e19/\\u0e40\\u0e23\\u0e37\\u0e2d\\u0e19\\u0e08\\u0e33\", \"\\u0e2a\\u0e16\\u0e32\\u0e19\\u0e17\\u0e35\\u0e48\\u0e17\\u0e33\\u0e07\\u0e32\\u0e19\", \"\\u0e44\\u0e1b\\u0e2a\\u0e16\\u0e32\\u0e19\\u0e17\\u0e35\\u0e48\\u0e0a\\u0e38\\u0e21\\u0e0a\\u0e19 \\u0e40\\u0e0a\\u0e48\\u0e19 \\u0e15\\u0e25\\u0e32\\u0e14\\u0e19\\u0e31\\u0e14 \\u0e2a\\u0e16\\u0e32\\u0e19\\u0e17\\u0e35\\u0e48\\u0e17\\u0e48\\u0e2d\\u0e07\\u0e40\\u0e17\\u0e35\\u0e48\\u0e22\\u0e27\", \"Cluster \\u0e2a\\u0e21\\u0e38\\u0e17\\u0e23\\u0e2a\\u0e32\\u0e04\\u0e23\", \"\\u0e23\\u0e30\\u0e1a\\u0e38\\u0e44\\u0e21\\u0e48\\u0e44\\u0e14\\u0e49\", \"\\u0e2a\\u0e16\\u0e32\\u0e19\\u0e1a\\u0e31\\u0e19\\u0e40\\u0e17\\u0e34\\u0e07\", \"\\u0e1a\\u0e38\\u0e04\\u0e25\\u0e32\\u0e01\\u0e23\\u0e14\\u0e49\\u0e32\\u0e19\\u0e01\\u0e32\\u0e23\\u0e41\\u0e1e\\u0e17\\u0e22\\u0e4c\\u0e41\\u0e25\\u0e30\\u0e2a\\u0e32\\u0e18\\u0e32\\u0e23\\u0e13\\u0e2a\\u0e38\\u0e02\", \"State Quarantine\", \"\\u0e2d\\u0e32\\u0e0a\\u0e35\\u0e1e\\u0e40\\u0e2a\\u0e35\\u0e48\\u0e22\\u0e07 \\u0e40\\u0e0a\\u0e48\\u0e19 \\u0e17\\u0e33\\u0e07\\u0e32\\u0e19\\u0e43\\u0e19\\u0e2a\\u0e16\\u0e32\\u0e19\\u0e17\\u0e35\\u0e48\\u0e41\\u0e2d\\u0e2d\\u0e31\\u0e14 \\u0e2b\\u0e23\\u0e37\\u0e2d\\u0e17\\u0e33\\u0e07\\u0e32\\u0e19\\u0e43\\u0e01\\u0e25\\u0e49\\u0e0a\\u0e34\\u0e14\\u0e2a\\u0e31\\u0e21\\u0e1c\\u0e31\\u0e2a\\u0e0a\\u0e32\\u0e27\\u0e15\\u0e48\\u0e32\\u0e07\\u0e0a\\u0e32\\u0e15\\u0e34 \\u0e40\\u0e1b\\u0e47\\u0e19\\u0e15\\u0e49\\u0e19\", \"\\u0e1c\\u0e39\\u0e49\\u0e17\\u0e35\\u0e48\\u0e40\\u0e14\\u0e34\\u0e19\\u0e17\\u0e32\\u0e07\\u0e21\\u0e32\\u0e08\\u0e32\\u0e01\\u0e15\\u0e48\\u0e32\\u0e07\\u0e1b\\u0e23\\u0e30\\u0e40\\u0e17\\u0e28 \\u0e41\\u0e25\\u0e30\\u0e40\\u0e02\\u0e49\\u0e32 ASQ/ALQ\", \"\\u0e15\\u0e23\\u0e27\\u0e08\\u0e01\\u0e48\\u0e2d\\u0e19\\u0e17\\u0e33\\u0e2b\\u0e31\\u0e15\\u0e16\\u0e01\\u0e32\\u0e23\", \"\\u0e1b\\u0e2d\\u0e14\\u0e2d\\u0e31\\u0e01\\u0e40\\u0e2a\\u0e1a (Pneumonia)\", \"Cluster \\u0e1c\\u0e31\\u0e1a Thonglor\", \"\\u0e44\\u0e1b\\u0e2a\\u0e16\\u0e32\\u0e19\\u0e17\\u0e35\\u0e48\\u0e41\\u0e2d\\u0e2d\\u0e31\\u0e14 \\u0e40\\u0e0a\\u0e48\\u0e19 \\u0e07\\u0e32\\u0e19\\u0e41\\u0e1f\\u0e23\\u0e4c \\u0e04\\u0e2d\\u0e19\\u0e40\\u0e2a\\u0e34\\u0e23\\u0e4c\\u0e15\", \"\\u0e04\\u0e19\\u0e44\\u0e17\\u0e22\\u0e40\\u0e14\\u0e34\\u0e19\\u0e17\\u0e32\\u0e07\\u0e01\\u0e25\\u0e31\\u0e1a\\u0e08\\u0e32\\u0e01\\u0e15\\u0e48\\u0e32\\u0e07\\u0e1b\\u0e23\\u0e30\\u0e40\\u0e17\\u0e28\", \"Cluster \\u0e1a\\u0e32\\u0e07\\u0e41\\u0e04\", \"Cluster \\u0e04\\u0e25\\u0e2d\\u0e07\\u0e40\\u0e15\\u0e22\", \"Cluster \\u0e15\\u0e25\\u0e32\\u0e14\\u0e1e\\u0e23\\u0e1e\\u0e31\\u0e12\\u0e19\\u0e4c\", \"Cluster \\u0e23\\u0e30\\u0e22\\u0e2d\\u0e07\", \"\\u0e28\\u0e39\\u0e19\\u0e22\\u0e4c\\u0e01\\u0e31\\u0e01\\u0e01\\u0e31\\u0e19 \\u0e1c\\u0e39\\u0e49\\u0e15\\u0e49\\u0e2d\\u0e07\\u0e01\\u0e31\\u0e01\", \"Cluster \\u0e15\\u0e25\\u0e32\\u0e14\\u0e2a\\u0e35\\u0e48\\u0e21\\u0e38\\u0e21\\u0e40\\u0e21\\u0e37\\u0e2d\\u0e07\", \"\\u0e2a\\u0e19\\u0e32\\u0e21\\u0e21\\u0e27\\u0e22\", \"\\u0e04\\u0e19\\u0e15\\u0e48\\u0e32\\u0e07\\u0e0a\\u0e32\\u0e15\\u0e34\\u0e40\\u0e14\\u0e34\\u0e19\\u0e17\\u0e32\\u0e07\\u0e21\\u0e32\\u0e08\\u0e32\\u0e01\\u0e15\\u0e48\\u0e32\\u0e07\\u0e1b\\u0e23\\u0e30\\u0e40\\u0e17\\u0e28\", \"ACF \\u0e2a\\u0e19\\u0e32\\u0e21\\u0e01\\u0e35\\u0e2c\\u0e32\\u0e44\\u0e17\\u0e22-\\u0e0d\\u0e35\\u0e48\\u0e1b\\u0e38\\u0e48\\u0e19\", \"Cluster \\u0e2a\\u0e21\\u0e38\\u0e17\\u0e23\\u0e1b\\u0e23\\u0e32\\u0e01\\u0e32\\u0e23 GRP Hightech\", \"\\u0e1e\\u0e34\\u0e18\\u0e35\\u0e01\\u0e23\\u0e23\\u0e21\\u0e17\\u0e32\\u0e07\\u0e28\\u0e32\\u0e2a\\u0e19\\u0e32\", \"ACF \\u0e2a\\u0e35\\u0e25\\u0e21\", \"Cluster \\u0e1a\\u0e48\\u0e2d\\u0e19\\u0e1e\\u0e31\\u0e17\\u0e22\\u0e32/\\u0e0a\\u0e25\\u0e1a\\u0e38\\u0e23\\u0e35\", \"\\u0e1c\\u0e39\\u0e49\\u0e17\\u0e35\\u0e48\\u0e40\\u0e14\\u0e34\\u0e19\\u0e17\\u0e32\\u0e07\\u0e21\\u0e32\\u0e08\\u0e32\\u0e01\\u0e15\\u0e48\\u0e32\\u0e07\\u0e1b\\u0e23\\u0e30\\u0e40\\u0e17\\u0e28 \\u0e41\\u0e25\\u0e30\\u0e40\\u0e02\\u0e49\\u0e32 HQ/AHQ\", \"Cluster \\u0e15\\u0e25\\u0e32\\u0e14\\u0e19\\u0e19\\u0e17\\u0e1a\\u0e38\\u0e23\\u0e35\", \"\\u0e2d\\u0e37\\u0e48\\u0e19 \\u0e46\", \"Cluster \\u0e08\\u0e31\\u0e19\\u0e17\\u0e1a\\u0e38\\u0e23\\u0e35\", \"Cluster \\u0e42\\u0e23\\u0e07\\u0e07\\u0e32\\u0e19 QPP \\u0e1b\\u0e23\\u0e30\\u0e08\\u0e27\\u0e1a\\u0e2f\", \"Cluster \\u0e1a\\u0e48\\u0e2d\\u0e19\\u0e44\\u0e01\\u0e48\\u0e2d\\u0e48\\u0e32\\u0e07\\u0e17\\u0e2d\\u0e07\", \"Cluster \\u0e42\\u0e23\\u0e07\\u0e07\\u0e32\\u0e19 Big Star\", \"Cluster \\u0e0a\\u0e25\\u0e1a\\u0e38\\u0e23\\u0e35\", \"Cluster \\u0e40\\u0e04\\u0e23\\u0e37\\u0e2d\\u0e04\\u0e31\\u0e2a\\u0e40\\u0e0b\\u0e48\\u0e2d\\u0e23\\u0e4c\\u0e1e\\u0e35\\u0e04\\u0e42\\u0e2e\\u0e25\\u0e14\\u0e34\\u0e49\\u0e07 (CPG,CPH)\", \"Sandbox\", \"\\u0e2a\\u0e31\\u0e21\\u0e1c\\u0e31\\u0e2a\\u0e1c\\u0e39\\u0e49\\u0e40\\u0e14\\u0e34\\u0e19\\u0e17\\u0e32\\u0e07\\u0e08\\u0e32\\u0e01\\u0e15\\u0e48\\u0e32\\u0e07\\u0e1b\\u0e23\\u0e30\\u0e40\\u0e17\\u0e28\", \"Cluster Memory 90's \\u0e01\\u0e23\\u0e38\\u0e07\\u0e40\\u0e17\\u0e1e\\u0e21\\u0e2b\\u0e32\\u0e19\\u0e04\\u0e23\", \"\\u0e2a\\u0e31\\u0e21\\u0e1c\\u0e31\\u0e2a\\u0e1c\\u0e39\\u0e49\\u0e1b\\u0e48\\u0e27\\u0e22\\u0e22\\u0e37\\u0e19\\u0e22\\u0e31\\u0e19\", \"\\u0e1c\\u0e39\\u0e49\\u0e17\\u0e35\\u0e48\\u0e40\\u0e14\\u0e34\\u0e19\\u0e17\\u0e32\\u0e07\\u0e21\\u0e32\\u0e08\\u0e32\\u0e01\\u0e15\\u0e48\\u0e32\\u0e07\\u0e1b\\u0e23\\u0e30\\u0e40\\u0e17\\u0e28 \\u0e41\\u0e25\\u0e30\\u0e40\\u0e02\\u0e49\\u0e32 OQ\", \"Cluster \\u0e08\\u0e31\\u0e19\\u0e17\\u0e1a\\u0e38\\u0e23\\u0e35 (\\u0e0a\\u0e32\\u0e27\\u0e01\\u0e34\\u0e19\\u0e35)\", \"ACF \\u0e23\\u0e2d\\u0e07\\u0e40\\u0e21\\u0e37\\u0e2d\\u0e07\", \"Cluster New Jazz \\u0e01\\u0e23\\u0e38\\u0e07\\u0e40\\u0e17\\u0e1e\\u0e21\\u0e2b\\u0e32\\u0e19\\u0e04\\u0e23\", \"Cluster \\u0e21\\u0e2b\\u0e32\\u0e2a\\u0e32\\u0e23\\u0e04\\u0e32\\u0e21\", \"ACF \\u0e2a\\u0e19\\u0e32\\u0e21\\u0e01\\u0e35\\u0e2c\\u0e32\\u0e18\\u0e39\\u0e1b\\u0e30\\u0e40\\u0e15\\u0e21\\u0e35\\u0e22\\u0e4c\", \"10.\\u0e2d\\u0e37\\u0e48\\u0e19\\u0e46\", \"Cluster \\u0e2a\\u0e21\\u0e38\\u0e17\\u0e23\\u0e1b\\u0e23\\u0e32\\u0e01\\u0e32\\u0e23 (\\u0e42\\u0e23\\u0e07\\u0e07\\u0e32\\u0e19 \\u0e1a\\u0e23\\u0e34\\u0e29\\u0e31\\u0e17\\u0e40\\u0e21\\u0e17\\u0e31\\u0e25 \\u0e42\\u0e1b\\u0e23\\u0e14\\u0e31\\u0e01\\u0e2a\\u0e4c)\", \"\\u0e2a\\u0e31\\u0e21\\u0e1c\\u0e31\\u0e2a\\u0e43\\u0e01\\u0e25\\u0e49\\u0e0a\\u0e34\\u0e14\\u0e1c\\u0e39\\u0e49\\u0e1b\\u0e48\\u0e27\\u0e22\\u0e22\\u0e31\\u0e19\\u0e22\\u0e31\\u0e19\\u0e01\\u0e48\\u0e2d\\u0e19\\u0e2b\\u0e19\\u0e49\\u0e32\", \"Cluster \\u0e2b\\u0e49\\u0e32\\u0e07\\u0e41\\u0e2a\\u0e07\\u0e17\\u0e2d\\u0e07 (\\u0e2a\\u0e32\\u0e22\\u0e25\\u0e48\\u0e32\\u0e07)\", \"Cluster \\u0e1a\\u0e23\\u0e34\\u0e29\\u0e31\\u0e17\\u0e28\\u0e23\\u0e35\\u0e2a\\u0e27\\u0e31\\u0e2a\\u0e14\\u0e34\\u0e4c\", \"Cluster \\u0e15\\u0e25\\u0e32\\u0e14\\u0e1a\\u0e32\\u0e07\\u0e1e\\u0e25\\u0e35\", \"\\u0e2d\\u0e37\\u0e48\\u0e19\", \"\\u0e2a\\u0e31\\u0e21\\u0e1c\\u0e31\\u0e2a\\u0e43\\u0e01\\u0e25\\u0e49\\u0e0a\\u0e34\\u0e14\\u0e1c\\u0e39\\u0e49\\u0e1b\\u0e48\\u0e27\\u0e22\\u0e22\\u0e37\\u0e19\\u0e22\\u0e31\\u0e19\\u0e01\\u0e48\\u0e2d\\u0e19\\u0e2b\\u0e19\\u0e49\\u0e32\", \"Cluster \\u0e08\\u0e31\\u0e19\\u0e17\\u0e1a\\u0e38\\u0e23\\u0e35 (\\u0e0a\\u0e32\\u0e27\\u0e01\\u0e34\\u0e19\\u0e35 )\", \"Cluster \\u0e1a\\u0e48\\u0e2d\\u0e19\\u0e40\\u0e17\\u0e1e\\u0e32\\u0e23\\u0e31\\u0e01\\u0e29\\u0e4c\", \"Cluster The Lounge Salaya\", \"Cluster Icon siam\", \"2.\\u0e2a\\u0e31\\u0e21\\u0e1c\\u0e31\\u0e2a\\u0e1c\\u0e39\\u0e49\\u0e15\\u0e34\\u0e14\\u0e40\\u0e0a\\u0e37\\u0e49\\u0e2d\", \"Cluster \\u0e0a\\u0e25\\u0e1a\\u0e38\\u0e23\\u0e35 \\u0e42\\u0e23\\u0e07\\u0e40\\u0e1a\\u0e35\\u0e22\\u0e23\\u0e4c 90\", \"\\u0e2d\\u0e22\\u0e39\\u0e48\\u0e23\\u0e30\\u0e2b\\u0e27\\u0e48\\u0e32\\u0e07\\u0e2a\\u0e2d\\u0e1a\\u0e2a\\u0e27\\u0e19\", \"\\u0e23\\u0e30\\u0e2b\\u0e27\\u0e48\\u0e32\\u0e07\\u0e01\\u0e32\\u0e23\\u0e2a\\u0e2d\\u0e1a\\u0e2a\\u0e27\\u0e19\\u0e42\\u0e23\\u0e04\", \"\\u0e2d\\u0e22\\u0e39\\u0e48\\u0e23\\u0e30\\u0e2b\\u0e27\\u0e48\\u0e32\\u0e07\\u0e01\\u0e32\\u0e23\\u0e2a\\u0e2d\\u0e1a\\u0e2a\\u0e27\\u0e19\\n\", \"Cluster \\u0e42\\u0e23\\u0e07\\u0e07\\u0e32\\u0e19 standard can\", \"\\u0e2a\\u0e31\\u0e21\\u0e1c\\u0e31\\u0e2a\\u0e1c\\u0e39\\u0e49\\u0e1b\\u0e48\\u0e27\\u0e22\\u0e22\\u0e37\\u0e19\\u0e22\\u0e31\\u0e19 \\u0e2d\\u0e22\\u0e39\\u0e48\\u0e23\\u0e30\\u0e2b\\u0e27\\u0e48\\u0e32\\u0e07\\u0e2a\\u0e2d\\u0e1a\\u0e2a\\u0e27\\u0e19\", \"Cluster \\u0e15\\u0e23\\u0e32\\u0e14\", \"\\u0e44\\u0e1b\\u0e41\\u0e2b\\u0e25\\u0e48\\u0e07\\u0e0a\\u0e38\\u0e21\\u0e0a\\u0e19/\\u0e2a\\u0e16\\u0e32\\u0e19\\u0e17\\u0e35\\u0e48\\u0e04\\u0e19\\u0e2b\\u0e19\\u0e32\\u0e41\\u0e19\\u0e48\\u0e19\", \"\\u0e2a\\u0e31\\u0e21\\u0e1c\\u0e31\\u0e2a\\u0e1c\\u0e39\\u0e49\\u0e15\\u0e34\\u0e14\\u0e40\\u0e0a\\u0e37\\u0e49\\u0e2d\\u0e22\\u0e37\\u0e19\\u0e22\\u0e31\\u0e19\\n  \\u0e2d\\u0e22\\u0e39\\u0e48\\u0e23\\u0e30\\u0e2b\\u0e27\\u0e48\\u0e32\\u0e07\\u0e2a\\u0e2d\\u0e1a\\u0e2a\\u0e27\\u0e19\", \"\\u0e2a\\u0e31\\u0e21\\u0e1c\\u0e31\\u0e2a\\u0e1c\\u0e39\\u0e49\\u0e1b\\u0e48\\u0e27\\u0e22\\u0e17\\u0e35\\u0e48\\u0e15\\u0e34\\u0e14\\u0e42\\u0e04\\u0e27\\u0e34\\u0e14\", \"\\u0e2a\\u0e31\\u0e21\\u0e1c\\u0e31\\u0e2a\\u0e43\\u0e19\\u0e2a\\u0e16\\u0e32\\u0e19\\u0e1e\\u0e22\\u0e32\\u0e1a\\u0e32\\u0e25\", \"Cluster \\u0e08\\u0e19\\u0e17. \\u0e2a\\u0e19\\u0e32\\u0e21\\u0e1a\\u0e34\\u0e19\\u0e2a\\u0e38\\u0e27\\u0e23\\u0e23\\u0e13\\u0e20\\u0e39\\u0e21\\u0e34\", \"ACF \\u0e40\\u0e04\\u0e2b\\u0e30\\u0e2b\\u0e25\\u0e31\\u0e01\\u0e2a\\u0e35\\u0e48\", \"\\u0e2a\\u0e31\\u0e21\\u0e1c\\u0e31\\u0e2a\\u0e1c\\u0e39\\u0e49\\u0e1b\\u0e48\\u0e27\\u0e22\\u0e22\\u0e37\\u0e19\\u0e22\\u0e31\\u0e19 \\n  \\u0e2d\\u0e22\\u0e39\\u0e48\\u0e23\\u0e30\\u0e2b\\u0e27\\u0e48\\u0e32\\u0e07\\u0e2a\\u0e2d\\u0e1a\\u0e2a\\u0e27\\u0e19\", \"\\u0e44\\u0e1b\\u0e22\\u0e31\\u0e07\\u0e1e\\u0e37\\u0e49\\u0e19\\u0e17\\u0e35\\u0e48\\u0e17\\u0e35\\u0e48\\u0e21\\u0e35\\u0e01\\u0e32\\u0e23\\u0e23\\u0e30\\u0e1a\\u0e32\\u0e14\", \"Cluster \\u0e2a\\u0e16\\u0e32\\u0e19\\u0e1a\\u0e31\\u0e19\\u0e40\\u0e17\\u0e34\\u0e07\\u0e22\\u0e48\\u0e32\\u0e19\\u0e17\\u0e2d\\u0e07\\u0e2b\\u0e25\\u0e48\\u0e2d\", \"Cluster \\u0e0a\\u0e25\\u0e1a\\u0e38\\u0e23\\u0e35 \\u0e1a\\u0e23\\u0e34\\u0e29\\u0e31\\u0e17\\u0e44\\u0e14\\u0e01\\u0e34\\u0e49\\u0e19\", \"Cluster \\u0e15\\u0e23\\u0e32\\u0e14 \", \" Samui plus\", \"\\u0e1c\\u0e39\\u0e49\\u0e17\\u0e35\\u0e48\\u0e40\\u0e14\\u0e34\\u0e19\\u0e17\\u0e32\\u0e07\\u0e21\\u0e32\\u0e08\\u0e32\\u0e01\\u0e15\\u0e48\\u0e32\\u0e07\\u0e1b\\u0e23\\u0e30\\u0e40\\u0e17\\u0e28 \\u0e41\\u0e25\\u0e30\\u0e40\\u0e02\\u0e49\\u0e32 AQ\", \"\\u0e1c\\u0e39\\u0e49\\u0e17\\u0e35\\u0e48\\u0e40\\u0e14\\u0e34\\u0e19\\u0e17\\u0e32\\u0e07\\u0e21\\u0e32\\u0e08\\u0e32\\u0e01\\u0e15\\u0e48\\u0e32\\u0e07\\u0e1b\\u0e23\\u0e30\\u0e40\\u0e17\\u0e28 \\u0e41\\u0e25\\u0e30\\u0e40\\u0e02\\u0e49\\u0e32 AOQ\", \"\\u0e1c\\u0e39\\u0e49\\u0e40\\u0e14\\u0e34\\u0e19\\u0e17\\u0e32\\u0e07\\u0e21\\u0e32\\u0e08\\u0e32\\u0e01\\u0e1e\\u0e37\\u0e49\\u0e19\\u0e17\\u0e35\\u0e48\\u0e40\\u0e2a\\u0e35\\u0e48\\u0e22\\u0e07 \\u0e01\\u0e23\\u0e38\\u0e07\\u0e40\\u0e17\\u0e1e\\u0e21\\u0e2b\\u0e32\\u0e19\\u0e04\\u0e23\", \"\\u0e23\\u0e49\\u0e32\\u0e19\\u0e2d\\u0e32\\u0e2b\\u0e32\\u0e23\", \"\\u0e23\\u0e2d\\u0e1b\\u0e23\\u0e30\\u0e2a\\u0e32\\u0e19\", \"Cluster \\u0e1b\\u0e32\\u0e01\\u0e0a\\u0e48\\u0e2d\\u0e07\", \"\\u0e1c\\u0e39\\u0e49\\u0e1b\\u0e48\\u0e27\\u0e22 PUI\", \"\\u0e40\\u0e14\\u0e34\\u0e19\\u0e17\\u0e32\\u0e07\\u0e21\\u0e32\\u0e08\\u0e32\\u0e01\\u0e1e\\u0e37\\u0e49\\u0e19\\u0e17\\u0e35\\u0e48\\u0e40\\u0e2a\\u0e35\\u0e48\\u0e22\\u0e07\\u0e17\\u0e35\\u0e48\\u0e21\\u0e35\\u0e01\\u0e32\\u0e23\\u0e23\\u0e30\\u0e1a\\u0e32\\u0e14\\u0e02\\u0e2d\\u0e07\\u0e42\\u0e23\\u0e04\", \"SHUI\", \"\\u0e40\\u0e14\\u0e34\\u0e19\\u0e17\\u0e32\\u0e07\\u0e21\\u0e32\\u0e08\\u0e32\\u0e01\\u0e1e\\u0e37\\u0e49\\u0e19\\u0e17\\u0e35\\u0e48\\u0e08\\u0e31\\u0e07\\u0e2b\\u0e27\\u0e31\\u0e14\\u0e40\\u0e2a\\u0e35\\u0e48\\u0e22\\u0e07\", \"\\u0e1e\\u0e37\\u0e49\\u0e19\\u0e17\\u0e35\\u0e48\\u0e40\\u0e2a\\u0e35\\u0e22\\u0e07\", \"\\u0e40\\u0e14\\u0e34\\u0e19\\u0e17\\u0e32\\u0e07\\u0e21\\u0e32\\u0e08\\u0e32\\u0e01\\u0e1e\\u0e37\\u0e49\\u0e19\\u0e17\\u0e35\\u0e48\\u0e40\\u0e2a\\u0e35\\u0e48\\u0e22\\u0e07 \\u0e08.\\u0e01\\u0e23\\u0e38\\u0e07\\u0e40\\u0e17\\u0e1e\\u0e2f \\u0e08\\u0e2d\\u0e21\\u0e17\\u0e2d\\u0e07\", \"\\u0e2a\\u0e31\\u0e21\\u0e1c\\u0e31\\u0e2a\\u0e2a\\u0e32\\u0e21\\u0e35\\u0e2a\\u0e30\\u0e2d\\u0e32\\u0e14 \\u0e40\\u0e02\\u0e15\\u0e1a\\u0e49\\u0e32\\u0e19 (\\u0e23\\u0e1e.\\u0e21\\u0e2b\\u0e32\\u0e0a\\u0e31\\u0e22 2)\", \"\\u0e04\\u0e49\\u0e19\\u0e2b\\u0e32\\u0e40\\u0e0a\\u0e34\\u0e07\\u0e23\\u0e38\\u0e01\", \"\\u0e2a\\u0e19.\\u0e27\\u0e31\\u0e14\\u0e1e\\u0e23\\u0e30\\u0e22\\u0e32\\u0e44\\u0e01\\u0e23\", \"\\u0e2a\\u0e31\\u0e21\\u0e1c\\u0e31\\u0e2a\\u0e1c\\u0e39\\u0e49\\u0e1b\\u0e48\\u0e27\\u0e22\\u0e22\\u0e37\\u0e19\\u0e22\\u0e31\\u0e19 (\\u0e22\\u0e31\\u0e07\\u0e44\\u0e21\\u0e48\\u0e2a\\u0e32\\u0e21\\u0e32\\u0e23\\u0e16\\u0e23\\u0e30\\u0e1a\\u0e38\\u0e44\\u0e14\\u0e49)\", \"Cluster \\u0e42\\u0e23\\u0e07\\u0e07\\u0e32\\u0e19\\u0e17\\u0e33\\u0e02\\u0e19\\u0e21 \\u0e1a\\u0e32\\u0e07\\u0e02\\u0e38\\u0e19\\u0e40\\u0e17\\u0e35\\u0e22\\u0e19\", \"\\u0e21\\u0e32\\u0e08\\u0e32\\u0e01\\u0e1e\\u0e37\\u0e49\\u0e19\\u0e17\\u0e35\\u0e48\\u0e40\\u0e2a\\u0e35\\u0e22\\u0e07 \\u0e08.\\u0e1b\\u0e17\\u0e38\\u0e21\\u0e18\\u0e32\\u0e19\\u0e35\", \"\\u0e04\\u0e19\\u0e44\\u0e17\\u0e22\\u0e40\\u0e14\\u0e34\\u0e19\\u0e17\\u0e32\\u0e07\\u0e21\\u0e32\\u0e08\\u0e32\\u0e01\\u0e15\\u0e48\\u0e32\\u0e07\\u0e1b\\u0e23\\u0e30\\u0e40\\u0e17\\u0e28\", \"\\u0e1c\\u0e39\\u0e49\\u0e1b\\u0e48\\u0e27\\u0e22 \\u0e01\\u0e23\\u0e38\\u0e07\\u0e40\\u0e17\\u0e1e\\u0e21\\u0e2b\\u0e32\\u0e19\\u0e04\\u0e23\", \"\\u0e23\\u0e31\\u0e1a\\u0e08\\u0e49\\u0e32\\u0e07\\u0e02\\u0e19\\u0e02\\u0e2d\\u0e07\\u0e17\\u0e35\\u0e48\\u0e15\\u0e25\\u0e32\\u0e14\\u0e17\\u0e48\\u0e32\\u0e22\\u0e32\\u0e07\", \"cluster \\u0e0a\\u0e25\\u0e1a\\u0e38\\u0e23\\u0e35\\n(\\u0e2d\\u0e22\\u0e39\\u0e48\\u0e23\\u0e30\\u0e2b\\u0e27\\u0e48\\u0e32\\u0e07\\u0e01\\u0e32\\u0e23\\u0e2a\\u0e2d\\u0e1a\\u0e2a\\u0e27\\u0e19)\", \"\\u0e41\\u0e23\\u0e07\\u0e07\\u0e32\\u0e19\\u0e15\\u0e48\\u0e32\\u0e07\\u0e14\\u0e49\\u0e32\\u0e27\\u0e15\\u0e23\\u0e27\\u0e08\\u0e01\\u0e48\\u0e2d\\u0e19\\u0e02\\u0e36\\u0e49\\u0e19\\u0e17\\u0e30\\u0e40\\u0e1a\\u0e35\\u0e22\\u0e19\", \"\\u0e21\\u0e32\\u0e08\\u0e32\\u0e01\\u0e1e\\u0e37\\u0e49\\u0e19\\u0e17\\u0e35\\u0e48\\u0e40\\u0e2a\\u0e35\\u0e48\\u0e22\\u0e07\", \"\\u0e23\\u0e30\\u0e2b\\u0e27\\u0e48\\u0e32\\u0e07\\u0e2a\\u0e2d\\u0e1a\\u0e2a\\u0e27\\u0e19\", \"\\u0e1c\\u0e39\\u0e49\\u0e15\\u0e34\\u0e14\\u0e40\\u0e0a\\u0e37\\u0e49\\u0e2d\\u0e43\\u0e19\\u0e1b\\u0e23\\u0e30\\u0e40\\u0e17\\u0e28\", \"\\u0e2a\\u0e31\\u0e21\\u0e1c\\u0e31\\u0e2a\\u0e1c\\u0e39\\u0e49\\u0e15\\u0e34\\u0e14\\u0e40\\u0e0a\\u0e37\\u0e49\\u0e2d\\u0e22\\u0e37\\u0e19\\u0e22\\u0e31\\u0e19\\n\\u0e2d\\u0e22\\u0e39\\u0e48\\u0e23\\u0e30\\u0e2b\\u0e27\\u0e48\\u0e32\\u0e07\\u0e2a\\u0e2d\\u0e1a\\u0e2a\\u0e27\\u0e19\", \"\\u0e15\\u0e25\\u0e32\\u0e14\", \"\\u0e44\\u0e1b\\u0e2a\\u0e16\\u0e32\\u0e19\\u0e17\\u0e35\\u0e48\\u0e40\\u0e2a\\u0e35\\u0e48\\u0e22\\u0e07 \\u0e40\\u0e0a\\u0e48\\u0e19 \\u0e15\\u0e25\\u0e32\\u0e14 \\u0e2a\\u0e16\\u0e32\\u0e19\\u0e17\\u0e35\\u0e48\\u0e0a\\u0e38\\u0e21\\u0e0a\\u0e19\", \"\\u0e2d\\u0e34\\u0e48\\u0e19\\u0e46\", \"\\u0e2d\\u0e32\\u0e0a\\u0e35\\u0e1e\\u0e40\\u0e2a\\u0e35\\u0e48\\u0e22\\u0e07\", \"\\u0e2a\\u0e31\\u0e21\\u0e1c\\u0e31\\u0e2a\\u0e1c\\u0e39\\u0e49\\u0e1b\\u0e48\\u0e27\\u0e22\\u0e22\\u0e37\\u0e19\\u0e22\\u0e31\\u0e19\\u0e40\\u0e1e\\u0e37\\u0e48\\u0e2d\\u0e19\\u0e23\\u0e48\\u0e27\\u0e21\\u0e07\\u0e32\\u0e19\", \"\\u0e04\\u0e19\\u0e44\\u0e17\\u0e22\\u0e21\\u0e32\\u0e08\\u0e32\\u0e01\\u0e1e\\u0e37\\u0e49\\u0e19\\u0e17\\u0e35\\u0e48\\u0e40\\u0e2a\\u0e35\\u0e48\\u0e22\\u0e07\", \"Samui plus\", \"\\u0e44\\u0e1b\\u0e22\\u0e31\\u0e07/\\u0e21\\u0e32\\u0e08\\u0e32\\u0e01 \\u0e1e\\u0e37\\u0e49\\u0e19\\u0e17\\u0e35\\u0e48\\u0e23\\u0e30\\u0e1a\\u0e32\\u0e14\\u0e01\\u0e23\\u0e38\\u0e07\\u0e40\\u0e17\\u0e1e\\u0e21\\u0e2b\\u0e32\\u0e19\\u0e04\\u0e23\", \"Cluster \\u0e07\\u0e32\\u0e19\\u0e21\\u0e2d\\u0e40\\u0e15\\u0e2d\\u0e23\\u0e4c \\u0e42\\u0e0a\\u0e27\\u0e4c\", \"Cluster \\u0e2a\\u0e21\\u0e38\\u0e17\\u0e23\\u0e1b\\u0e23\\u0e32\\u0e01\\u0e32\\u0e23 \\u0e15\\u0e25\\u0e32\\u0e14\\u0e40\\u0e04\\u0e2b\\u0e30\\u0e1a\\u0e32\\u0e07\\u0e1e\\u0e25\\u0e35\", \"\\u0e1c\\u0e31\\u0e1a\\u0e2b\\u0e31\\u0e27\\u0e2b\\u0e34\\u0e19\", \"Cluster \\u0e15\\u0e25\\u0e32\\u0e14\\u0e1a\\u0e32\\u0e07\\u0e41\\u0e04\", \"\\u0e15\\u0e23\\u0e27\\u0e08\\u0e2a\\u0e38\\u0e02\\u0e20\\u0e32\\u0e1e\\u0e41\\u0e23\\u0e07\\u0e07\\u0e32\\u0e19\\u0e15\\u0e48\\u0e32\\u0e07\\u0e14\\u0e49\\u0e32\\u0e27\", \"\\u0e21\\u0e32\\u0e08\\u0e32\\u0e01\\u0e1e\\u0e37\\u0e49\\u0e19\\u0e17\\u0e35\\u0e48\\u0e40\\u0e2a\\u0e35\\u0e48\\u0e22\\u0e07 \\u0e08.\\u0e1b\\u0e17\\u0e38\\u0e21\\u0e18\\u0e32\\u0e19\\u0e35\", \"\\u0e2a\\u0e31\\u0e21\\u0e1c\\u0e31\\u0e2a\\u0e1c\\u0e39\\u0e49\\u0e1b\\u0e48\\u0e27\\u0e22\\u0e22\\u0e37\\u0e19\\u0e22\\u0e31\\u0e19 \\u0e20\\u0e32\\u0e22\\u0e43\\u0e19\\u0e04\\u0e23\\u0e2d\\u0e1a\\u0e04\\u0e23\\u0e31\\u0e27/\\u0e0a\\u0e38\\u0e21\\u0e0a\\u0e19/\\u0e40\\u0e1e\\u0e37\\u0e48\\u0e2d\\u0e19\", \"\\u0e1b\\u0e2d\\u0e14\\u0e2d\\u0e31\\u0e01\\u0e40\\u0e2a\\u0e1a Pneumonia\", \"\\u0e44\\u0e1b\\u0e40\\u0e17\\u0e35\\u0e48\\u0e22\\u0e27\\u0e2a\\u0e16\\u0e32\\u0e19\\u0e1a\\u0e31\\u0e19\\u0e40\\u0e17\\u0e34\\u0e07\\u0e43\\u0e19\\u0e2d\\u0e38\\u0e1a\\u0e25\\u0e17\\u0e35\\u0e48\\u0e1e\\u0e1a\\u0e01\\u0e32\\u0e23\\u0e23\\u0e30\\u0e1a\\u0e32\\u0e14\\u0e02\\u0e2d\\u0e07\\u0e42\\u0e23\\u0e04 Ubar\", \"\\u0e40\\u0e14\\u0e34\\u0e19\\u0e17\\u0e32\\u0e07\\u0e21\\u0e32\\u0e08\\u0e32\\u0e01\\u0e1e\\u0e37\\u0e49\\u0e19\\u0e17\\u0e35\\u0e48\\u0e21\\u0e35\\u0e01\\u0e32\\u0e23\\u0e23\\u0e30\\u0e1a\\u0e32\\u0e14\\u0e02\\u0e2d\\u0e07\\u0e42\\u0e23\\u0e04\"], \"xaxis\": \"x\", \"y\": [303184, 145685, 133807, 103054, 52184, 31396, 18919, 17900, 7638, 4741, 3526, 2781, 1707, 1307, 1258, 1102, 1094, 1006, 798, 678, 674, 559, 483, 456, 344, 278, 225, 135, 130, 114, 110, 98, 87, 85, 75, 75, 69, 69, 65, 62, 55, 54, 50, 40, 38, 26, 26, 24, 23, 23, 23, 22, 19, 18, 16, 16, 15, 14, 13, 12, 12, 11, 11, 10, 9, 9, 8, 7, 7, 6, 6, 5, 5, 4, 4, 4, 4, 3, 3, 3, 3, 3, 2, 2, 2, 2, 2, 2, 2, 2, 2, 1, 1, 1, 1, 1, 1, 1, 1, 1, 1, 1, 1, 1, 1, 1, 1, 1, 1, 1, 1, 1, 1, 1, 1, 1, 1, 1, 1, 1, 1, 1, 1, 1, 1, 1, 1, 1], \"yaxis\": \"y\"}],\n",
              "                        {\"barmode\": \"relative\", \"legend\": {\"tracegroupgap\": 0}, \"margin\": {\"t\": 60}, \"template\": {\"data\": {\"bar\": [{\"error_x\": {\"color\": \"#2a3f5f\"}, \"error_y\": {\"color\": \"#2a3f5f\"}, \"marker\": {\"line\": {\"color\": \"#E5ECF6\", \"width\": 0.5}}, \"type\": \"bar\"}], \"barpolar\": [{\"marker\": {\"line\": {\"color\": \"#E5ECF6\", \"width\": 0.5}}, \"type\": \"barpolar\"}], \"carpet\": [{\"aaxis\": {\"endlinecolor\": \"#2a3f5f\", \"gridcolor\": \"white\", \"linecolor\": \"white\", \"minorgridcolor\": \"white\", \"startlinecolor\": \"#2a3f5f\"}, \"baxis\": {\"endlinecolor\": \"#2a3f5f\", \"gridcolor\": \"white\", \"linecolor\": \"white\", \"minorgridcolor\": \"white\", \"startlinecolor\": \"#2a3f5f\"}, \"type\": \"carpet\"}], \"choropleth\": [{\"colorbar\": {\"outlinewidth\": 0, \"ticks\": \"\"}, \"type\": \"choropleth\"}], \"contour\": [{\"colorbar\": {\"outlinewidth\": 0, \"ticks\": \"\"}, \"colorscale\": [[0.0, \"#0d0887\"], [0.1111111111111111, \"#46039f\"], [0.2222222222222222, \"#7201a8\"], [0.3333333333333333, \"#9c179e\"], [0.4444444444444444, \"#bd3786\"], [0.5555555555555556, \"#d8576b\"], [0.6666666666666666, \"#ed7953\"], [0.7777777777777778, \"#fb9f3a\"], [0.8888888888888888, \"#fdca26\"], [1.0, \"#f0f921\"]], \"type\": \"contour\"}], \"contourcarpet\": [{\"colorbar\": {\"outlinewidth\": 0, \"ticks\": \"\"}, \"type\": \"contourcarpet\"}], \"heatmap\": [{\"colorbar\": {\"outlinewidth\": 0, \"ticks\": \"\"}, \"colorscale\": [[0.0, \"#0d0887\"], [0.1111111111111111, \"#46039f\"], [0.2222222222222222, \"#7201a8\"], [0.3333333333333333, \"#9c179e\"], [0.4444444444444444, \"#bd3786\"], [0.5555555555555556, \"#d8576b\"], [0.6666666666666666, \"#ed7953\"], [0.7777777777777778, \"#fb9f3a\"], [0.8888888888888888, \"#fdca26\"], [1.0, \"#f0f921\"]], \"type\": \"heatmap\"}], \"heatmapgl\": [{\"colorbar\": {\"outlinewidth\": 0, \"ticks\": \"\"}, \"colorscale\": [[0.0, \"#0d0887\"], [0.1111111111111111, \"#46039f\"], [0.2222222222222222, \"#7201a8\"], [0.3333333333333333, \"#9c179e\"], [0.4444444444444444, \"#bd3786\"], [0.5555555555555556, \"#d8576b\"], [0.6666666666666666, \"#ed7953\"], [0.7777777777777778, \"#fb9f3a\"], [0.8888888888888888, \"#fdca26\"], [1.0, \"#f0f921\"]], \"type\": \"heatmapgl\"}], \"histogram\": [{\"marker\": {\"colorbar\": {\"outlinewidth\": 0, \"ticks\": \"\"}}, \"type\": \"histogram\"}], \"histogram2d\": [{\"colorbar\": {\"outlinewidth\": 0, \"ticks\": \"\"}, \"colorscale\": [[0.0, \"#0d0887\"], [0.1111111111111111, \"#46039f\"], [0.2222222222222222, \"#7201a8\"], [0.3333333333333333, \"#9c179e\"], [0.4444444444444444, \"#bd3786\"], [0.5555555555555556, \"#d8576b\"], [0.6666666666666666, \"#ed7953\"], [0.7777777777777778, \"#fb9f3a\"], [0.8888888888888888, \"#fdca26\"], [1.0, \"#f0f921\"]], \"type\": \"histogram2d\"}], \"histogram2dcontour\": [{\"colorbar\": {\"outlinewidth\": 0, \"ticks\": \"\"}, \"colorscale\": [[0.0, \"#0d0887\"], [0.1111111111111111, \"#46039f\"], [0.2222222222222222, \"#7201a8\"], [0.3333333333333333, \"#9c179e\"], [0.4444444444444444, \"#bd3786\"], [0.5555555555555556, \"#d8576b\"], [0.6666666666666666, \"#ed7953\"], [0.7777777777777778, \"#fb9f3a\"], [0.8888888888888888, \"#fdca26\"], [1.0, \"#f0f921\"]], \"type\": \"histogram2dcontour\"}], \"mesh3d\": [{\"colorbar\": {\"outlinewidth\": 0, \"ticks\": \"\"}, \"type\": \"mesh3d\"}], \"parcoords\": [{\"line\": {\"colorbar\": {\"outlinewidth\": 0, \"ticks\": \"\"}}, \"type\": \"parcoords\"}], \"pie\": [{\"automargin\": true, \"type\": \"pie\"}], \"scatter\": [{\"marker\": {\"colorbar\": {\"outlinewidth\": 0, \"ticks\": \"\"}}, \"type\": \"scatter\"}], \"scatter3d\": [{\"line\": {\"colorbar\": {\"outlinewidth\": 0, \"ticks\": \"\"}}, \"marker\": {\"colorbar\": {\"outlinewidth\": 0, \"ticks\": \"\"}}, \"type\": \"scatter3d\"}], \"scattercarpet\": [{\"marker\": {\"colorbar\": {\"outlinewidth\": 0, \"ticks\": \"\"}}, \"type\": \"scattercarpet\"}], \"scattergeo\": [{\"marker\": {\"colorbar\": {\"outlinewidth\": 0, \"ticks\": \"\"}}, \"type\": \"scattergeo\"}], \"scattergl\": [{\"marker\": {\"colorbar\": {\"outlinewidth\": 0, \"ticks\": \"\"}}, \"type\": \"scattergl\"}], \"scattermapbox\": [{\"marker\": {\"colorbar\": {\"outlinewidth\": 0, \"ticks\": \"\"}}, \"type\": \"scattermapbox\"}], \"scatterpolar\": [{\"marker\": {\"colorbar\": {\"outlinewidth\": 0, \"ticks\": \"\"}}, \"type\": \"scatterpolar\"}], \"scatterpolargl\": [{\"marker\": {\"colorbar\": {\"outlinewidth\": 0, \"ticks\": \"\"}}, \"type\": \"scatterpolargl\"}], \"scatterternary\": [{\"marker\": {\"colorbar\": {\"outlinewidth\": 0, \"ticks\": \"\"}}, \"type\": \"scatterternary\"}], \"surface\": [{\"colorbar\": {\"outlinewidth\": 0, \"ticks\": \"\"}, \"colorscale\": [[0.0, \"#0d0887\"], [0.1111111111111111, \"#46039f\"], [0.2222222222222222, \"#7201a8\"], [0.3333333333333333, \"#9c179e\"], [0.4444444444444444, \"#bd3786\"], [0.5555555555555556, \"#d8576b\"], [0.6666666666666666, \"#ed7953\"], [0.7777777777777778, \"#fb9f3a\"], [0.8888888888888888, \"#fdca26\"], [1.0, \"#f0f921\"]], \"type\": \"surface\"}], \"table\": [{\"cells\": {\"fill\": {\"color\": \"#EBF0F8\"}, \"line\": {\"color\": \"white\"}}, \"header\": {\"fill\": {\"color\": \"#C8D4E3\"}, \"line\": {\"color\": \"white\"}}, \"type\": \"table\"}]}, \"layout\": {\"annotationdefaults\": {\"arrowcolor\": \"#2a3f5f\", \"arrowhead\": 0, \"arrowwidth\": 1}, \"coloraxis\": {\"colorbar\": {\"outlinewidth\": 0, \"ticks\": \"\"}}, \"colorscale\": {\"diverging\": [[0, \"#8e0152\"], [0.1, \"#c51b7d\"], [0.2, \"#de77ae\"], [0.3, \"#f1b6da\"], [0.4, \"#fde0ef\"], [0.5, \"#f7f7f7\"], [0.6, \"#e6f5d0\"], [0.7, \"#b8e186\"], [0.8, \"#7fbc41\"], [0.9, \"#4d9221\"], [1, \"#276419\"]], \"sequential\": [[0.0, \"#0d0887\"], [0.1111111111111111, \"#46039f\"], [0.2222222222222222, \"#7201a8\"], [0.3333333333333333, \"#9c179e\"], [0.4444444444444444, \"#bd3786\"], [0.5555555555555556, \"#d8576b\"], [0.6666666666666666, \"#ed7953\"], [0.7777777777777778, \"#fb9f3a\"], [0.8888888888888888, \"#fdca26\"], [1.0, \"#f0f921\"]], \"sequentialminus\": [[0.0, \"#0d0887\"], [0.1111111111111111, \"#46039f\"], [0.2222222222222222, \"#7201a8\"], [0.3333333333333333, \"#9c179e\"], [0.4444444444444444, \"#bd3786\"], [0.5555555555555556, \"#d8576b\"], [0.6666666666666666, \"#ed7953\"], [0.7777777777777778, \"#fb9f3a\"], [0.8888888888888888, \"#fdca26\"], [1.0, \"#f0f921\"]]}, \"colorway\": [\"#636efa\", \"#EF553B\", \"#00cc96\", \"#ab63fa\", \"#FFA15A\", \"#19d3f3\", \"#FF6692\", \"#B6E880\", \"#FF97FF\", \"#FECB52\"], \"font\": {\"color\": \"#2a3f5f\"}, \"geo\": {\"bgcolor\": \"white\", \"lakecolor\": \"white\", \"landcolor\": \"#E5ECF6\", \"showlakes\": true, \"showland\": true, \"subunitcolor\": \"white\"}, \"hoverlabel\": {\"align\": \"left\"}, \"hovermode\": \"closest\", \"mapbox\": {\"style\": \"light\"}, \"paper_bgcolor\": \"white\", \"plot_bgcolor\": \"#E5ECF6\", \"polar\": {\"angularaxis\": {\"gridcolor\": \"white\", \"linecolor\": \"white\", \"ticks\": \"\"}, \"bgcolor\": \"#E5ECF6\", \"radialaxis\": {\"gridcolor\": \"white\", \"linecolor\": \"white\", \"ticks\": \"\"}}, \"scene\": {\"xaxis\": {\"backgroundcolor\": \"#E5ECF6\", \"gridcolor\": \"white\", \"gridwidth\": 2, \"linecolor\": \"white\", \"showbackground\": true, \"ticks\": \"\", \"zerolinecolor\": \"white\"}, \"yaxis\": {\"backgroundcolor\": \"#E5ECF6\", \"gridcolor\": \"white\", \"gridwidth\": 2, \"linecolor\": \"white\", \"showbackground\": true, \"ticks\": \"\", \"zerolinecolor\": \"white\"}, \"zaxis\": {\"backgroundcolor\": \"#E5ECF6\", \"gridcolor\": \"white\", \"gridwidth\": 2, \"linecolor\": \"white\", \"showbackground\": true, \"ticks\": \"\", \"zerolinecolor\": \"white\"}}, \"shapedefaults\": {\"line\": {\"color\": \"#2a3f5f\"}}, \"ternary\": {\"aaxis\": {\"gridcolor\": \"white\", \"linecolor\": \"white\", \"ticks\": \"\"}, \"baxis\": {\"gridcolor\": \"white\", \"linecolor\": \"white\", \"ticks\": \"\"}, \"bgcolor\": \"#E5ECF6\", \"caxis\": {\"gridcolor\": \"white\", \"linecolor\": \"white\", \"ticks\": \"\"}}, \"title\": {\"x\": 0.05}, \"xaxis\": {\"automargin\": true, \"gridcolor\": \"white\", \"linecolor\": \"white\", \"ticks\": \"\", \"title\": {\"standoff\": 15}, \"zerolinecolor\": \"white\", \"zerolinewidth\": 2}, \"yaxis\": {\"automargin\": true, \"gridcolor\": \"white\", \"linecolor\": \"white\", \"ticks\": \"\", \"title\": {\"standoff\": 15}, \"zerolinecolor\": \"white\", \"zerolinewidth\": 2}}}, \"xaxis\": {\"anchor\": \"y\", \"domain\": [0.0, 1.0], \"title\": {\"text\": \"cluster\"}}, \"yaxis\": {\"anchor\": \"x\", \"domain\": [0.0, 1.0], \"title\": {\"text\": \"count\"}}},\n",
              "                        {\"responsive\": true}\n",
              "                    ).then(function(){\n",
              "                            \n",
              "var gd = document.getElementById('c5e285ab-3a4a-4b9b-8d37-63ad7b3acac7');\n",
              "var x = new MutationObserver(function (mutations, observer) {{\n",
              "        var display = window.getComputedStyle(gd).display;\n",
              "        if (!display || display === 'none') {{\n",
              "            console.log([gd, 'removed!']);\n",
              "            Plotly.purge(gd);\n",
              "            observer.disconnect();\n",
              "        }}\n",
              "}});\n",
              "\n",
              "// Listen for the removal of the full notebook cells\n",
              "var notebookContainer = gd.closest('#notebook-container');\n",
              "if (notebookContainer) {{\n",
              "    x.observe(notebookContainer, {childList: true});\n",
              "}}\n",
              "\n",
              "// Listen for the clearing of the current output cell\n",
              "var outputEl = gd.closest('.output');\n",
              "if (outputEl) {{\n",
              "    x.observe(outputEl, {childList: true});\n",
              "}}\n",
              "\n",
              "                        })\n",
              "                };\n",
              "                \n",
              "            </script>\n",
              "        </div>\n",
              "</body>\n",
              "</html>"
            ]
          },
          "metadata": {},
          "output_type": "display_data"
        }
      ],
      "source": [
        "import plotly.express as px\n",
        "px.bar(clusres, x='cluster', y='count')"
      ]
    },
    {
      "cell_type": "code",
      "execution_count": null,
      "metadata": {
        "colab": {
          "base_uri": "https://localhost:8080/",
          "height": 542
        },
        "id": "_U_aQerqXvYK",
        "outputId": "e8f4b5ed-c5ff-4216-f831-ddc9a35a6cd6"
      },
      "outputs": [
        {
          "data": {
            "text/html": [
              "<html>\n",
              "<head><meta charset=\"utf-8\" /></head>\n",
              "<body>\n",
              "    <div>\n",
              "            <script src=\"https://cdnjs.cloudflare.com/ajax/libs/mathjax/2.7.5/MathJax.js?config=TeX-AMS-MML_SVG\"></script><script type=\"text/javascript\">if (window.MathJax) {MathJax.Hub.Config({SVG: {font: \"STIX-Web\"}});}</script>\n",
              "                <script type=\"text/javascript\">window.PlotlyConfig = {MathJaxConfig: 'local'};</script>\n",
              "        <script src=\"https://cdn.plot.ly/plotly-latest.min.js\"></script>    \n",
              "            <div id=\"a24e38fe-52e6-4b72-b74c-63c0bea8d6da\" class=\"plotly-graph-div\" style=\"height:525px; width:100%;\"></div>\n",
              "            <script type=\"text/javascript\">\n",
              "                \n",
              "                    window.PLOTLYENV=window.PLOTLYENV || {};\n",
              "                    \n",
              "                if (document.getElementById(\"a24e38fe-52e6-4b72-b74c-63c0bea8d6da\")) {\n",
              "                    Plotly.newPlot(\n",
              "                        'a24e38fe-52e6-4b72-b74c-63c0bea8d6da',\n",
              "                        [{\"alignmentgroup\": \"True\", \"hoverlabel\": {\"namelength\": 0}, \"hovertemplate\": \"cluster=%{x}<br>count=%{y}\", \"legendgroup\": \"\", \"marker\": {\"color\": \"#636efa\"}, \"name\": \"\", \"offsetgroup\": \"\", \"orientation\": \"v\", \"showlegend\": false, \"textposition\": \"auto\", \"type\": \"bar\", \"x\": [\"\\u0e2a\\u0e31\\u0e21\\u0e1c\\u0e31\\u0e2a\\u0e43\\u0e01\\u0e25\\u0e49\\u0e0a\\u0e34\\u0e14\\u0e01\\u0e31\\u0e1a\\u0e1c\\u0e39\\u0e49\\u0e1b\\u0e48\\u0e27\\u0e22\\u0e22\\u0e37\\u0e19\\u0e22\\u0e31\\u0e19\\u0e23\\u0e32\\u0e22\\u0e01\\u0e48\\u0e2d\\u0e19\\u0e2b\\u0e19\\u0e49\\u0e32\\u0e19\\u0e35\\u0e49\", \"\\u0e2d\\u0e37\\u0e48\\u0e19\\u0e46\", \"\\u0e01\\u0e32\\u0e23\\u0e04\\u0e49\\u0e19\\u0e2b\\u0e32\\u0e1c\\u0e39\\u0e49\\u0e1b\\u0e48\\u0e27\\u0e22\\u0e40\\u0e0a\\u0e34\\u0e07\\u0e23\\u0e38\\u0e01\\u0e41\\u0e25\\u0e30\\u0e04\\u0e49\\u0e19\\u0e2b\\u0e32\\u0e1c\\u0e39\\u0e49\\u0e15\\u0e34\\u0e14\\u0e40\\u0e0a\\u0e37\\u0e49\\u0e2d\\u0e43\\u0e19\\u0e0a\\u0e38\\u0e21\\u0e0a\\u0e19\", \"\\u0e2d\\u0e22\\u0e39\\u0e48\\u0e23\\u0e30\\u0e2b\\u0e27\\u0e48\\u0e32\\u0e07\\u0e01\\u0e32\\u0e23\\u0e2a\\u0e2d\\u0e1a\\u0e2a\\u0e27\\u0e19\", \"\\u0e17\\u0e31\\u0e13\\u0e11\\u0e2a\\u0e16\\u0e32\\u0e19/\\u0e40\\u0e23\\u0e37\\u0e2d\\u0e19\\u0e08\\u0e33\", \"\\u0e2a\\u0e16\\u0e32\\u0e19\\u0e17\\u0e35\\u0e48\\u0e17\\u0e33\\u0e07\\u0e32\\u0e19\", \"\\u0e44\\u0e1b\\u0e2a\\u0e16\\u0e32\\u0e19\\u0e17\\u0e35\\u0e48\\u0e0a\\u0e38\\u0e21\\u0e0a\\u0e19 \\u0e40\\u0e0a\\u0e48\\u0e19 \\u0e15\\u0e25\\u0e32\\u0e14\\u0e19\\u0e31\\u0e14 \\u0e2a\\u0e16\\u0e32\\u0e19\\u0e17\\u0e35\\u0e48\\u0e17\\u0e48\\u0e2d\\u0e07\\u0e40\\u0e17\\u0e35\\u0e48\\u0e22\\u0e27\", \"Cluster \\u0e2a\\u0e21\\u0e38\\u0e17\\u0e23\\u0e2a\\u0e32\\u0e04\\u0e23\", \"\\u0e23\\u0e30\\u0e1a\\u0e38\\u0e44\\u0e21\\u0e48\\u0e44\\u0e14\\u0e49\", \"\\u0e2a\\u0e16\\u0e32\\u0e19\\u0e1a\\u0e31\\u0e19\\u0e40\\u0e17\\u0e34\\u0e07\", \"\\u0e1a\\u0e38\\u0e04\\u0e25\\u0e32\\u0e01\\u0e23\\u0e14\\u0e49\\u0e32\\u0e19\\u0e01\\u0e32\\u0e23\\u0e41\\u0e1e\\u0e17\\u0e22\\u0e4c\\u0e41\\u0e25\\u0e30\\u0e2a\\u0e32\\u0e18\\u0e32\\u0e23\\u0e13\\u0e2a\\u0e38\\u0e02\", \"State Quarantine\", \"\\u0e2d\\u0e32\\u0e0a\\u0e35\\u0e1e\\u0e40\\u0e2a\\u0e35\\u0e48\\u0e22\\u0e07 \\u0e40\\u0e0a\\u0e48\\u0e19 \\u0e17\\u0e33\\u0e07\\u0e32\\u0e19\\u0e43\\u0e19\\u0e2a\\u0e16\\u0e32\\u0e19\\u0e17\\u0e35\\u0e48\\u0e41\\u0e2d\\u0e2d\\u0e31\\u0e14 \\u0e2b\\u0e23\\u0e37\\u0e2d\\u0e17\\u0e33\\u0e07\\u0e32\\u0e19\\u0e43\\u0e01\\u0e25\\u0e49\\u0e0a\\u0e34\\u0e14\\u0e2a\\u0e31\\u0e21\\u0e1c\\u0e31\\u0e2a\\u0e0a\\u0e32\\u0e27\\u0e15\\u0e48\\u0e32\\u0e07\\u0e0a\\u0e32\\u0e15\\u0e34 \\u0e40\\u0e1b\\u0e47\\u0e19\\u0e15\\u0e49\\u0e19\", \"\\u0e1c\\u0e39\\u0e49\\u0e17\\u0e35\\u0e48\\u0e40\\u0e14\\u0e34\\u0e19\\u0e17\\u0e32\\u0e07\\u0e21\\u0e32\\u0e08\\u0e32\\u0e01\\u0e15\\u0e48\\u0e32\\u0e07\\u0e1b\\u0e23\\u0e30\\u0e40\\u0e17\\u0e28 \\u0e41\\u0e25\\u0e30\\u0e40\\u0e02\\u0e49\\u0e32 ASQ/ALQ\", \"\\u0e15\\u0e23\\u0e27\\u0e08\\u0e01\\u0e48\\u0e2d\\u0e19\\u0e17\\u0e33\\u0e2b\\u0e31\\u0e15\\u0e16\\u0e01\\u0e32\\u0e23\", \"\\u0e1b\\u0e2d\\u0e14\\u0e2d\\u0e31\\u0e01\\u0e40\\u0e2a\\u0e1a (Pneumonia)\", \"Cluster \\u0e1c\\u0e31\\u0e1a Thonglor\", \"\\u0e44\\u0e1b\\u0e2a\\u0e16\\u0e32\\u0e19\\u0e17\\u0e35\\u0e48\\u0e41\\u0e2d\\u0e2d\\u0e31\\u0e14 \\u0e40\\u0e0a\\u0e48\\u0e19 \\u0e07\\u0e32\\u0e19\\u0e41\\u0e1f\\u0e23\\u0e4c \\u0e04\\u0e2d\\u0e19\\u0e40\\u0e2a\\u0e34\\u0e23\\u0e4c\\u0e15\", \"\\u0e04\\u0e19\\u0e44\\u0e17\\u0e22\\u0e40\\u0e14\\u0e34\\u0e19\\u0e17\\u0e32\\u0e07\\u0e01\\u0e25\\u0e31\\u0e1a\\u0e08\\u0e32\\u0e01\\u0e15\\u0e48\\u0e32\\u0e07\\u0e1b\\u0e23\\u0e30\\u0e40\\u0e17\\u0e28\", \"Cluster \\u0e1a\\u0e32\\u0e07\\u0e41\\u0e04\", \"Cluster \\u0e04\\u0e25\\u0e2d\\u0e07\\u0e40\\u0e15\\u0e22\", \"Cluster \\u0e15\\u0e25\\u0e32\\u0e14\\u0e1e\\u0e23\\u0e1e\\u0e31\\u0e12\\u0e19\\u0e4c\", \"Cluster \\u0e23\\u0e30\\u0e22\\u0e2d\\u0e07\", \"\\u0e28\\u0e39\\u0e19\\u0e22\\u0e4c\\u0e01\\u0e31\\u0e01\\u0e01\\u0e31\\u0e19 \\u0e1c\\u0e39\\u0e49\\u0e15\\u0e49\\u0e2d\\u0e07\\u0e01\\u0e31\\u0e01\", \"Cluster \\u0e15\\u0e25\\u0e32\\u0e14\\u0e2a\\u0e35\\u0e48\\u0e21\\u0e38\\u0e21\\u0e40\\u0e21\\u0e37\\u0e2d\\u0e07\", \"\\u0e2a\\u0e19\\u0e32\\u0e21\\u0e21\\u0e27\\u0e22\", \"\\u0e04\\u0e19\\u0e15\\u0e48\\u0e32\\u0e07\\u0e0a\\u0e32\\u0e15\\u0e34\\u0e40\\u0e14\\u0e34\\u0e19\\u0e17\\u0e32\\u0e07\\u0e21\\u0e32\\u0e08\\u0e32\\u0e01\\u0e15\\u0e48\\u0e32\\u0e07\\u0e1b\\u0e23\\u0e30\\u0e40\\u0e17\\u0e28\", \"ACF \\u0e2a\\u0e19\\u0e32\\u0e21\\u0e01\\u0e35\\u0e2c\\u0e32\\u0e44\\u0e17\\u0e22-\\u0e0d\\u0e35\\u0e48\\u0e1b\\u0e38\\u0e48\\u0e19\", \"Cluster \\u0e2a\\u0e21\\u0e38\\u0e17\\u0e23\\u0e1b\\u0e23\\u0e32\\u0e01\\u0e32\\u0e23 GRP Hightech\", \"\\u0e1e\\u0e34\\u0e18\\u0e35\\u0e01\\u0e23\\u0e23\\u0e21\\u0e17\\u0e32\\u0e07\\u0e28\\u0e32\\u0e2a\\u0e19\\u0e32\", \"ACF \\u0e2a\\u0e35\\u0e25\\u0e21\", \"Cluster \\u0e1a\\u0e48\\u0e2d\\u0e19\\u0e1e\\u0e31\\u0e17\\u0e22\\u0e32/\\u0e0a\\u0e25\\u0e1a\\u0e38\\u0e23\\u0e35\", \"\\u0e1c\\u0e39\\u0e49\\u0e17\\u0e35\\u0e48\\u0e40\\u0e14\\u0e34\\u0e19\\u0e17\\u0e32\\u0e07\\u0e21\\u0e32\\u0e08\\u0e32\\u0e01\\u0e15\\u0e48\\u0e32\\u0e07\\u0e1b\\u0e23\\u0e30\\u0e40\\u0e17\\u0e28 \\u0e41\\u0e25\\u0e30\\u0e40\\u0e02\\u0e49\\u0e32 HQ/AHQ\", \"Cluster \\u0e15\\u0e25\\u0e32\\u0e14\\u0e19\\u0e19\\u0e17\\u0e1a\\u0e38\\u0e23\\u0e35\", \"\\u0e2d\\u0e37\\u0e48\\u0e19 \\u0e46\", \"Cluster \\u0e08\\u0e31\\u0e19\\u0e17\\u0e1a\\u0e38\\u0e23\\u0e35\", \"Cluster \\u0e42\\u0e23\\u0e07\\u0e07\\u0e32\\u0e19 QPP \\u0e1b\\u0e23\\u0e30\\u0e08\\u0e27\\u0e1a\\u0e2f\", \"Cluster \\u0e1a\\u0e48\\u0e2d\\u0e19\\u0e44\\u0e01\\u0e48\\u0e2d\\u0e48\\u0e32\\u0e07\\u0e17\\u0e2d\\u0e07\", \"Cluster \\u0e42\\u0e23\\u0e07\\u0e07\\u0e32\\u0e19 Big Star\", \"Cluster \\u0e0a\\u0e25\\u0e1a\\u0e38\\u0e23\\u0e35\", \"Cluster \\u0e40\\u0e04\\u0e23\\u0e37\\u0e2d\\u0e04\\u0e31\\u0e2a\\u0e40\\u0e0b\\u0e48\\u0e2d\\u0e23\\u0e4c\\u0e1e\\u0e35\\u0e04\\u0e42\\u0e2e\\u0e25\\u0e14\\u0e34\\u0e49\\u0e07 (CPG,CPH)\", \"Sandbox\", \"\\u0e2a\\u0e31\\u0e21\\u0e1c\\u0e31\\u0e2a\\u0e1c\\u0e39\\u0e49\\u0e40\\u0e14\\u0e34\\u0e19\\u0e17\\u0e32\\u0e07\\u0e08\\u0e32\\u0e01\\u0e15\\u0e48\\u0e32\\u0e07\\u0e1b\\u0e23\\u0e30\\u0e40\\u0e17\\u0e28\", \"Cluster Memory 90's \\u0e01\\u0e23\\u0e38\\u0e07\\u0e40\\u0e17\\u0e1e\\u0e21\\u0e2b\\u0e32\\u0e19\\u0e04\\u0e23\", \"\\u0e2a\\u0e31\\u0e21\\u0e1c\\u0e31\\u0e2a\\u0e1c\\u0e39\\u0e49\\u0e1b\\u0e48\\u0e27\\u0e22\\u0e22\\u0e37\\u0e19\\u0e22\\u0e31\\u0e19\", \"\\u0e1c\\u0e39\\u0e49\\u0e17\\u0e35\\u0e48\\u0e40\\u0e14\\u0e34\\u0e19\\u0e17\\u0e32\\u0e07\\u0e21\\u0e32\\u0e08\\u0e32\\u0e01\\u0e15\\u0e48\\u0e32\\u0e07\\u0e1b\\u0e23\\u0e30\\u0e40\\u0e17\\u0e28 \\u0e41\\u0e25\\u0e30\\u0e40\\u0e02\\u0e49\\u0e32 OQ\", \"Cluster \\u0e08\\u0e31\\u0e19\\u0e17\\u0e1a\\u0e38\\u0e23\\u0e35 (\\u0e0a\\u0e32\\u0e27\\u0e01\\u0e34\\u0e19\\u0e35)\", \"ACF \\u0e23\\u0e2d\\u0e07\\u0e40\\u0e21\\u0e37\\u0e2d\\u0e07\", \"Cluster New Jazz \\u0e01\\u0e23\\u0e38\\u0e07\\u0e40\\u0e17\\u0e1e\\u0e21\\u0e2b\\u0e32\\u0e19\\u0e04\\u0e23\", \"Cluster \\u0e21\\u0e2b\\u0e32\\u0e2a\\u0e32\\u0e23\\u0e04\\u0e32\\u0e21\", \"ACF \\u0e2a\\u0e19\\u0e32\\u0e21\\u0e01\\u0e35\\u0e2c\\u0e32\\u0e18\\u0e39\\u0e1b\\u0e30\\u0e40\\u0e15\\u0e21\\u0e35\\u0e22\\u0e4c\", \"10.\\u0e2d\\u0e37\\u0e48\\u0e19\\u0e46\", \"Cluster \\u0e2a\\u0e21\\u0e38\\u0e17\\u0e23\\u0e1b\\u0e23\\u0e32\\u0e01\\u0e32\\u0e23 (\\u0e42\\u0e23\\u0e07\\u0e07\\u0e32\\u0e19 \\u0e1a\\u0e23\\u0e34\\u0e29\\u0e31\\u0e17\\u0e40\\u0e21\\u0e17\\u0e31\\u0e25 \\u0e42\\u0e1b\\u0e23\\u0e14\\u0e31\\u0e01\\u0e2a\\u0e4c)\", \"\\u0e2a\\u0e31\\u0e21\\u0e1c\\u0e31\\u0e2a\\u0e43\\u0e01\\u0e25\\u0e49\\u0e0a\\u0e34\\u0e14\\u0e1c\\u0e39\\u0e49\\u0e1b\\u0e48\\u0e27\\u0e22\\u0e22\\u0e31\\u0e19\\u0e22\\u0e31\\u0e19\\u0e01\\u0e48\\u0e2d\\u0e19\\u0e2b\\u0e19\\u0e49\\u0e32\", \"Cluster \\u0e2b\\u0e49\\u0e32\\u0e07\\u0e41\\u0e2a\\u0e07\\u0e17\\u0e2d\\u0e07 (\\u0e2a\\u0e32\\u0e22\\u0e25\\u0e48\\u0e32\\u0e07)\", \"Cluster \\u0e1a\\u0e23\\u0e34\\u0e29\\u0e31\\u0e17\\u0e28\\u0e23\\u0e35\\u0e2a\\u0e27\\u0e31\\u0e2a\\u0e14\\u0e34\\u0e4c\", \"Cluster \\u0e15\\u0e25\\u0e32\\u0e14\\u0e1a\\u0e32\\u0e07\\u0e1e\\u0e25\\u0e35\", \"\\u0e2d\\u0e37\\u0e48\\u0e19\", \"\\u0e2a\\u0e31\\u0e21\\u0e1c\\u0e31\\u0e2a\\u0e43\\u0e01\\u0e25\\u0e49\\u0e0a\\u0e34\\u0e14\\u0e1c\\u0e39\\u0e49\\u0e1b\\u0e48\\u0e27\\u0e22\\u0e22\\u0e37\\u0e19\\u0e22\\u0e31\\u0e19\\u0e01\\u0e48\\u0e2d\\u0e19\\u0e2b\\u0e19\\u0e49\\u0e32\", \"Cluster \\u0e08\\u0e31\\u0e19\\u0e17\\u0e1a\\u0e38\\u0e23\\u0e35 (\\u0e0a\\u0e32\\u0e27\\u0e01\\u0e34\\u0e19\\u0e35 )\", \"Cluster \\u0e1a\\u0e48\\u0e2d\\u0e19\\u0e40\\u0e17\\u0e1e\\u0e32\\u0e23\\u0e31\\u0e01\\u0e29\\u0e4c\", \"Cluster The Lounge Salaya\", \"Cluster Icon siam\", \"2.\\u0e2a\\u0e31\\u0e21\\u0e1c\\u0e31\\u0e2a\\u0e1c\\u0e39\\u0e49\\u0e15\\u0e34\\u0e14\\u0e40\\u0e0a\\u0e37\\u0e49\\u0e2d\", \"Cluster \\u0e0a\\u0e25\\u0e1a\\u0e38\\u0e23\\u0e35 \\u0e42\\u0e23\\u0e07\\u0e40\\u0e1a\\u0e35\\u0e22\\u0e23\\u0e4c 90\", \"\\u0e2d\\u0e22\\u0e39\\u0e48\\u0e23\\u0e30\\u0e2b\\u0e27\\u0e48\\u0e32\\u0e07\\u0e2a\\u0e2d\\u0e1a\\u0e2a\\u0e27\\u0e19\", \"\\u0e23\\u0e30\\u0e2b\\u0e27\\u0e48\\u0e32\\u0e07\\u0e01\\u0e32\\u0e23\\u0e2a\\u0e2d\\u0e1a\\u0e2a\\u0e27\\u0e19\\u0e42\\u0e23\\u0e04\", \"\\u0e2d\\u0e22\\u0e39\\u0e48\\u0e23\\u0e30\\u0e2b\\u0e27\\u0e48\\u0e32\\u0e07\\u0e01\\u0e32\\u0e23\\u0e2a\\u0e2d\\u0e1a\\u0e2a\\u0e27\\u0e19\\n\", \"Cluster \\u0e42\\u0e23\\u0e07\\u0e07\\u0e32\\u0e19 standard can\", \"\\u0e2a\\u0e31\\u0e21\\u0e1c\\u0e31\\u0e2a\\u0e1c\\u0e39\\u0e49\\u0e1b\\u0e48\\u0e27\\u0e22\\u0e22\\u0e37\\u0e19\\u0e22\\u0e31\\u0e19 \\u0e2d\\u0e22\\u0e39\\u0e48\\u0e23\\u0e30\\u0e2b\\u0e27\\u0e48\\u0e32\\u0e07\\u0e2a\\u0e2d\\u0e1a\\u0e2a\\u0e27\\u0e19\", \"Cluster \\u0e15\\u0e23\\u0e32\\u0e14\", \"\\u0e44\\u0e1b\\u0e41\\u0e2b\\u0e25\\u0e48\\u0e07\\u0e0a\\u0e38\\u0e21\\u0e0a\\u0e19/\\u0e2a\\u0e16\\u0e32\\u0e19\\u0e17\\u0e35\\u0e48\\u0e04\\u0e19\\u0e2b\\u0e19\\u0e32\\u0e41\\u0e19\\u0e48\\u0e19\", \"\\u0e2a\\u0e31\\u0e21\\u0e1c\\u0e31\\u0e2a\\u0e1c\\u0e39\\u0e49\\u0e15\\u0e34\\u0e14\\u0e40\\u0e0a\\u0e37\\u0e49\\u0e2d\\u0e22\\u0e37\\u0e19\\u0e22\\u0e31\\u0e19\\n  \\u0e2d\\u0e22\\u0e39\\u0e48\\u0e23\\u0e30\\u0e2b\\u0e27\\u0e48\\u0e32\\u0e07\\u0e2a\\u0e2d\\u0e1a\\u0e2a\\u0e27\\u0e19\", \"\\u0e2a\\u0e31\\u0e21\\u0e1c\\u0e31\\u0e2a\\u0e1c\\u0e39\\u0e49\\u0e1b\\u0e48\\u0e27\\u0e22\\u0e17\\u0e35\\u0e48\\u0e15\\u0e34\\u0e14\\u0e42\\u0e04\\u0e27\\u0e34\\u0e14\", \"\\u0e2a\\u0e31\\u0e21\\u0e1c\\u0e31\\u0e2a\\u0e43\\u0e19\\u0e2a\\u0e16\\u0e32\\u0e19\\u0e1e\\u0e22\\u0e32\\u0e1a\\u0e32\\u0e25\", \"Cluster \\u0e08\\u0e19\\u0e17. \\u0e2a\\u0e19\\u0e32\\u0e21\\u0e1a\\u0e34\\u0e19\\u0e2a\\u0e38\\u0e27\\u0e23\\u0e23\\u0e13\\u0e20\\u0e39\\u0e21\\u0e34\", \"ACF \\u0e40\\u0e04\\u0e2b\\u0e30\\u0e2b\\u0e25\\u0e31\\u0e01\\u0e2a\\u0e35\\u0e48\", \"\\u0e2a\\u0e31\\u0e21\\u0e1c\\u0e31\\u0e2a\\u0e1c\\u0e39\\u0e49\\u0e1b\\u0e48\\u0e27\\u0e22\\u0e22\\u0e37\\u0e19\\u0e22\\u0e31\\u0e19 \\n  \\u0e2d\\u0e22\\u0e39\\u0e48\\u0e23\\u0e30\\u0e2b\\u0e27\\u0e48\\u0e32\\u0e07\\u0e2a\\u0e2d\\u0e1a\\u0e2a\\u0e27\\u0e19\", \"\\u0e44\\u0e1b\\u0e22\\u0e31\\u0e07\\u0e1e\\u0e37\\u0e49\\u0e19\\u0e17\\u0e35\\u0e48\\u0e17\\u0e35\\u0e48\\u0e21\\u0e35\\u0e01\\u0e32\\u0e23\\u0e23\\u0e30\\u0e1a\\u0e32\\u0e14\", \"Cluster \\u0e2a\\u0e16\\u0e32\\u0e19\\u0e1a\\u0e31\\u0e19\\u0e40\\u0e17\\u0e34\\u0e07\\u0e22\\u0e48\\u0e32\\u0e19\\u0e17\\u0e2d\\u0e07\\u0e2b\\u0e25\\u0e48\\u0e2d\", \"Cluster \\u0e0a\\u0e25\\u0e1a\\u0e38\\u0e23\\u0e35 \\u0e1a\\u0e23\\u0e34\\u0e29\\u0e31\\u0e17\\u0e44\\u0e14\\u0e01\\u0e34\\u0e49\\u0e19\", \"Cluster \\u0e15\\u0e23\\u0e32\\u0e14 \", \" Samui plus\", \"\\u0e1c\\u0e39\\u0e49\\u0e17\\u0e35\\u0e48\\u0e40\\u0e14\\u0e34\\u0e19\\u0e17\\u0e32\\u0e07\\u0e21\\u0e32\\u0e08\\u0e32\\u0e01\\u0e15\\u0e48\\u0e32\\u0e07\\u0e1b\\u0e23\\u0e30\\u0e40\\u0e17\\u0e28 \\u0e41\\u0e25\\u0e30\\u0e40\\u0e02\\u0e49\\u0e32 AQ\", \"\\u0e1c\\u0e39\\u0e49\\u0e17\\u0e35\\u0e48\\u0e40\\u0e14\\u0e34\\u0e19\\u0e17\\u0e32\\u0e07\\u0e21\\u0e32\\u0e08\\u0e32\\u0e01\\u0e15\\u0e48\\u0e32\\u0e07\\u0e1b\\u0e23\\u0e30\\u0e40\\u0e17\\u0e28 \\u0e41\\u0e25\\u0e30\\u0e40\\u0e02\\u0e49\\u0e32 AOQ\", \"\\u0e1c\\u0e39\\u0e49\\u0e40\\u0e14\\u0e34\\u0e19\\u0e17\\u0e32\\u0e07\\u0e21\\u0e32\\u0e08\\u0e32\\u0e01\\u0e1e\\u0e37\\u0e49\\u0e19\\u0e17\\u0e35\\u0e48\\u0e40\\u0e2a\\u0e35\\u0e48\\u0e22\\u0e07 \\u0e01\\u0e23\\u0e38\\u0e07\\u0e40\\u0e17\\u0e1e\\u0e21\\u0e2b\\u0e32\\u0e19\\u0e04\\u0e23\", \"\\u0e23\\u0e49\\u0e32\\u0e19\\u0e2d\\u0e32\\u0e2b\\u0e32\\u0e23\", \"\\u0e23\\u0e2d\\u0e1b\\u0e23\\u0e30\\u0e2a\\u0e32\\u0e19\", \"Cluster \\u0e1b\\u0e32\\u0e01\\u0e0a\\u0e48\\u0e2d\\u0e07\", \"\\u0e1c\\u0e39\\u0e49\\u0e1b\\u0e48\\u0e27\\u0e22 PUI\", \"\\u0e40\\u0e14\\u0e34\\u0e19\\u0e17\\u0e32\\u0e07\\u0e21\\u0e32\\u0e08\\u0e32\\u0e01\\u0e1e\\u0e37\\u0e49\\u0e19\\u0e17\\u0e35\\u0e48\\u0e40\\u0e2a\\u0e35\\u0e48\\u0e22\\u0e07\\u0e17\\u0e35\\u0e48\\u0e21\\u0e35\\u0e01\\u0e32\\u0e23\\u0e23\\u0e30\\u0e1a\\u0e32\\u0e14\\u0e02\\u0e2d\\u0e07\\u0e42\\u0e23\\u0e04\", \"SHUI\", \"\\u0e40\\u0e14\\u0e34\\u0e19\\u0e17\\u0e32\\u0e07\\u0e21\\u0e32\\u0e08\\u0e32\\u0e01\\u0e1e\\u0e37\\u0e49\\u0e19\\u0e17\\u0e35\\u0e48\\u0e08\\u0e31\\u0e07\\u0e2b\\u0e27\\u0e31\\u0e14\\u0e40\\u0e2a\\u0e35\\u0e48\\u0e22\\u0e07\", \"\\u0e1e\\u0e37\\u0e49\\u0e19\\u0e17\\u0e35\\u0e48\\u0e40\\u0e2a\\u0e35\\u0e22\\u0e07\", \"\\u0e40\\u0e14\\u0e34\\u0e19\\u0e17\\u0e32\\u0e07\\u0e21\\u0e32\\u0e08\\u0e32\\u0e01\\u0e1e\\u0e37\\u0e49\\u0e19\\u0e17\\u0e35\\u0e48\\u0e40\\u0e2a\\u0e35\\u0e48\\u0e22\\u0e07 \\u0e08.\\u0e01\\u0e23\\u0e38\\u0e07\\u0e40\\u0e17\\u0e1e\\u0e2f \\u0e08\\u0e2d\\u0e21\\u0e17\\u0e2d\\u0e07\", \"\\u0e2a\\u0e31\\u0e21\\u0e1c\\u0e31\\u0e2a\\u0e2a\\u0e32\\u0e21\\u0e35\\u0e2a\\u0e30\\u0e2d\\u0e32\\u0e14 \\u0e40\\u0e02\\u0e15\\u0e1a\\u0e49\\u0e32\\u0e19 (\\u0e23\\u0e1e.\\u0e21\\u0e2b\\u0e32\\u0e0a\\u0e31\\u0e22 2)\", \"\\u0e04\\u0e49\\u0e19\\u0e2b\\u0e32\\u0e40\\u0e0a\\u0e34\\u0e07\\u0e23\\u0e38\\u0e01\", \"\\u0e2a\\u0e19.\\u0e27\\u0e31\\u0e14\\u0e1e\\u0e23\\u0e30\\u0e22\\u0e32\\u0e44\\u0e01\\u0e23\", \"\\u0e2a\\u0e31\\u0e21\\u0e1c\\u0e31\\u0e2a\\u0e1c\\u0e39\\u0e49\\u0e1b\\u0e48\\u0e27\\u0e22\\u0e22\\u0e37\\u0e19\\u0e22\\u0e31\\u0e19 (\\u0e22\\u0e31\\u0e07\\u0e44\\u0e21\\u0e48\\u0e2a\\u0e32\\u0e21\\u0e32\\u0e23\\u0e16\\u0e23\\u0e30\\u0e1a\\u0e38\\u0e44\\u0e14\\u0e49)\", \"Cluster \\u0e42\\u0e23\\u0e07\\u0e07\\u0e32\\u0e19\\u0e17\\u0e33\\u0e02\\u0e19\\u0e21 \\u0e1a\\u0e32\\u0e07\\u0e02\\u0e38\\u0e19\\u0e40\\u0e17\\u0e35\\u0e22\\u0e19\", \"\\u0e21\\u0e32\\u0e08\\u0e32\\u0e01\\u0e1e\\u0e37\\u0e49\\u0e19\\u0e17\\u0e35\\u0e48\\u0e40\\u0e2a\\u0e35\\u0e22\\u0e07 \\u0e08.\\u0e1b\\u0e17\\u0e38\\u0e21\\u0e18\\u0e32\\u0e19\\u0e35\", \"\\u0e04\\u0e19\\u0e44\\u0e17\\u0e22\\u0e40\\u0e14\\u0e34\\u0e19\\u0e17\\u0e32\\u0e07\\u0e21\\u0e32\\u0e08\\u0e32\\u0e01\\u0e15\\u0e48\\u0e32\\u0e07\\u0e1b\\u0e23\\u0e30\\u0e40\\u0e17\\u0e28\", \"\\u0e1c\\u0e39\\u0e49\\u0e1b\\u0e48\\u0e27\\u0e22 \\u0e01\\u0e23\\u0e38\\u0e07\\u0e40\\u0e17\\u0e1e\\u0e21\\u0e2b\\u0e32\\u0e19\\u0e04\\u0e23\", \"\\u0e23\\u0e31\\u0e1a\\u0e08\\u0e49\\u0e32\\u0e07\\u0e02\\u0e19\\u0e02\\u0e2d\\u0e07\\u0e17\\u0e35\\u0e48\\u0e15\\u0e25\\u0e32\\u0e14\\u0e17\\u0e48\\u0e32\\u0e22\\u0e32\\u0e07\", \"cluster \\u0e0a\\u0e25\\u0e1a\\u0e38\\u0e23\\u0e35\\n(\\u0e2d\\u0e22\\u0e39\\u0e48\\u0e23\\u0e30\\u0e2b\\u0e27\\u0e48\\u0e32\\u0e07\\u0e01\\u0e32\\u0e23\\u0e2a\\u0e2d\\u0e1a\\u0e2a\\u0e27\\u0e19)\", \"\\u0e41\\u0e23\\u0e07\\u0e07\\u0e32\\u0e19\\u0e15\\u0e48\\u0e32\\u0e07\\u0e14\\u0e49\\u0e32\\u0e27\\u0e15\\u0e23\\u0e27\\u0e08\\u0e01\\u0e48\\u0e2d\\u0e19\\u0e02\\u0e36\\u0e49\\u0e19\\u0e17\\u0e30\\u0e40\\u0e1a\\u0e35\\u0e22\\u0e19\", \"\\u0e21\\u0e32\\u0e08\\u0e32\\u0e01\\u0e1e\\u0e37\\u0e49\\u0e19\\u0e17\\u0e35\\u0e48\\u0e40\\u0e2a\\u0e35\\u0e48\\u0e22\\u0e07\", \"\\u0e23\\u0e30\\u0e2b\\u0e27\\u0e48\\u0e32\\u0e07\\u0e2a\\u0e2d\\u0e1a\\u0e2a\\u0e27\\u0e19\", \"\\u0e1c\\u0e39\\u0e49\\u0e15\\u0e34\\u0e14\\u0e40\\u0e0a\\u0e37\\u0e49\\u0e2d\\u0e43\\u0e19\\u0e1b\\u0e23\\u0e30\\u0e40\\u0e17\\u0e28\", \"\\u0e2a\\u0e31\\u0e21\\u0e1c\\u0e31\\u0e2a\\u0e1c\\u0e39\\u0e49\\u0e15\\u0e34\\u0e14\\u0e40\\u0e0a\\u0e37\\u0e49\\u0e2d\\u0e22\\u0e37\\u0e19\\u0e22\\u0e31\\u0e19\\n\\u0e2d\\u0e22\\u0e39\\u0e48\\u0e23\\u0e30\\u0e2b\\u0e27\\u0e48\\u0e32\\u0e07\\u0e2a\\u0e2d\\u0e1a\\u0e2a\\u0e27\\u0e19\", \"\\u0e15\\u0e25\\u0e32\\u0e14\", \"\\u0e44\\u0e1b\\u0e2a\\u0e16\\u0e32\\u0e19\\u0e17\\u0e35\\u0e48\\u0e40\\u0e2a\\u0e35\\u0e48\\u0e22\\u0e07 \\u0e40\\u0e0a\\u0e48\\u0e19 \\u0e15\\u0e25\\u0e32\\u0e14 \\u0e2a\\u0e16\\u0e32\\u0e19\\u0e17\\u0e35\\u0e48\\u0e0a\\u0e38\\u0e21\\u0e0a\\u0e19\", \"\\u0e2d\\u0e34\\u0e48\\u0e19\\u0e46\", \"\\u0e2d\\u0e32\\u0e0a\\u0e35\\u0e1e\\u0e40\\u0e2a\\u0e35\\u0e48\\u0e22\\u0e07\", \"\\u0e2a\\u0e31\\u0e21\\u0e1c\\u0e31\\u0e2a\\u0e1c\\u0e39\\u0e49\\u0e1b\\u0e48\\u0e27\\u0e22\\u0e22\\u0e37\\u0e19\\u0e22\\u0e31\\u0e19\\u0e40\\u0e1e\\u0e37\\u0e48\\u0e2d\\u0e19\\u0e23\\u0e48\\u0e27\\u0e21\\u0e07\\u0e32\\u0e19\", \"\\u0e04\\u0e19\\u0e44\\u0e17\\u0e22\\u0e21\\u0e32\\u0e08\\u0e32\\u0e01\\u0e1e\\u0e37\\u0e49\\u0e19\\u0e17\\u0e35\\u0e48\\u0e40\\u0e2a\\u0e35\\u0e48\\u0e22\\u0e07\", \"Samui plus\", \"\\u0e44\\u0e1b\\u0e22\\u0e31\\u0e07/\\u0e21\\u0e32\\u0e08\\u0e32\\u0e01 \\u0e1e\\u0e37\\u0e49\\u0e19\\u0e17\\u0e35\\u0e48\\u0e23\\u0e30\\u0e1a\\u0e32\\u0e14\\u0e01\\u0e23\\u0e38\\u0e07\\u0e40\\u0e17\\u0e1e\\u0e21\\u0e2b\\u0e32\\u0e19\\u0e04\\u0e23\", \"Cluster \\u0e07\\u0e32\\u0e19\\u0e21\\u0e2d\\u0e40\\u0e15\\u0e2d\\u0e23\\u0e4c \\u0e42\\u0e0a\\u0e27\\u0e4c\", \"Cluster \\u0e2a\\u0e21\\u0e38\\u0e17\\u0e23\\u0e1b\\u0e23\\u0e32\\u0e01\\u0e32\\u0e23 \\u0e15\\u0e25\\u0e32\\u0e14\\u0e40\\u0e04\\u0e2b\\u0e30\\u0e1a\\u0e32\\u0e07\\u0e1e\\u0e25\\u0e35\", \"\\u0e1c\\u0e31\\u0e1a\\u0e2b\\u0e31\\u0e27\\u0e2b\\u0e34\\u0e19\", \"Cluster \\u0e15\\u0e25\\u0e32\\u0e14\\u0e1a\\u0e32\\u0e07\\u0e41\\u0e04\", \"\\u0e15\\u0e23\\u0e27\\u0e08\\u0e2a\\u0e38\\u0e02\\u0e20\\u0e32\\u0e1e\\u0e41\\u0e23\\u0e07\\u0e07\\u0e32\\u0e19\\u0e15\\u0e48\\u0e32\\u0e07\\u0e14\\u0e49\\u0e32\\u0e27\", \"\\u0e21\\u0e32\\u0e08\\u0e32\\u0e01\\u0e1e\\u0e37\\u0e49\\u0e19\\u0e17\\u0e35\\u0e48\\u0e40\\u0e2a\\u0e35\\u0e48\\u0e22\\u0e07 \\u0e08.\\u0e1b\\u0e17\\u0e38\\u0e21\\u0e18\\u0e32\\u0e19\\u0e35\", \"\\u0e2a\\u0e31\\u0e21\\u0e1c\\u0e31\\u0e2a\\u0e1c\\u0e39\\u0e49\\u0e1b\\u0e48\\u0e27\\u0e22\\u0e22\\u0e37\\u0e19\\u0e22\\u0e31\\u0e19 \\u0e20\\u0e32\\u0e22\\u0e43\\u0e19\\u0e04\\u0e23\\u0e2d\\u0e1a\\u0e04\\u0e23\\u0e31\\u0e27/\\u0e0a\\u0e38\\u0e21\\u0e0a\\u0e19/\\u0e40\\u0e1e\\u0e37\\u0e48\\u0e2d\\u0e19\", \"\\u0e1b\\u0e2d\\u0e14\\u0e2d\\u0e31\\u0e01\\u0e40\\u0e2a\\u0e1a Pneumonia\", \"\\u0e44\\u0e1b\\u0e40\\u0e17\\u0e35\\u0e48\\u0e22\\u0e27\\u0e2a\\u0e16\\u0e32\\u0e19\\u0e1a\\u0e31\\u0e19\\u0e40\\u0e17\\u0e34\\u0e07\\u0e43\\u0e19\\u0e2d\\u0e38\\u0e1a\\u0e25\\u0e17\\u0e35\\u0e48\\u0e1e\\u0e1a\\u0e01\\u0e32\\u0e23\\u0e23\\u0e30\\u0e1a\\u0e32\\u0e14\\u0e02\\u0e2d\\u0e07\\u0e42\\u0e23\\u0e04 Ubar\", \"\\u0e40\\u0e14\\u0e34\\u0e19\\u0e17\\u0e32\\u0e07\\u0e21\\u0e32\\u0e08\\u0e32\\u0e01\\u0e1e\\u0e37\\u0e49\\u0e19\\u0e17\\u0e35\\u0e48\\u0e21\\u0e35\\u0e01\\u0e32\\u0e23\\u0e23\\u0e30\\u0e1a\\u0e32\\u0e14\\u0e02\\u0e2d\\u0e07\\u0e42\\u0e23\\u0e04\"], \"xaxis\": \"x\", \"y\": [303184, 145685, 133807, 103054, 52184, 31396, 18919, 17900, 7638, 4741, 3526, 2781, 1707, 1307, 1258, 1102, 1094, 1006, 798, 678, 674, 559, 483, 456, 344, 278, 225, 135, 130, 114, 110, 98, 87, 85, 75, 75, 69, 69, 65, 62, 55, 54, 50, 40, 38, 26, 26, 24, 23, 23, 23, 22, 19, 18, 16, 16, 15, 14, 13, 12, 12, 11, 11, 10, 9, 9, 8, 7, 7, 6, 6, 5, 5, 4, 4, 4, 4, 3, 3, 3, 3, 3, 2, 2, 2, 2, 2, 2, 2, 2, 2, 1, 1, 1, 1, 1, 1, 1, 1, 1, 1, 1, 1, 1, 1, 1, 1, 1, 1, 1, 1, 1, 1, 1, 1, 1, 1, 1, 1, 1, 1, 1, 1, 1, 1, 1, 1, 1], \"yaxis\": \"y\"}],\n",
              "                        {\"barmode\": \"relative\", \"legend\": {\"tracegroupgap\": 0}, \"margin\": {\"t\": 60}, \"template\": {\"data\": {\"bar\": [{\"error_x\": {\"color\": \"#2a3f5f\"}, \"error_y\": {\"color\": \"#2a3f5f\"}, \"marker\": {\"line\": {\"color\": \"#E5ECF6\", \"width\": 0.5}}, \"type\": \"bar\"}], \"barpolar\": [{\"marker\": {\"line\": {\"color\": \"#E5ECF6\", \"width\": 0.5}}, \"type\": \"barpolar\"}], \"carpet\": [{\"aaxis\": {\"endlinecolor\": \"#2a3f5f\", \"gridcolor\": \"white\", \"linecolor\": \"white\", \"minorgridcolor\": \"white\", \"startlinecolor\": \"#2a3f5f\"}, \"baxis\": {\"endlinecolor\": \"#2a3f5f\", \"gridcolor\": \"white\", \"linecolor\": \"white\", \"minorgridcolor\": \"white\", \"startlinecolor\": \"#2a3f5f\"}, \"type\": \"carpet\"}], \"choropleth\": [{\"colorbar\": {\"outlinewidth\": 0, \"ticks\": \"\"}, \"type\": \"choropleth\"}], \"contour\": [{\"colorbar\": {\"outlinewidth\": 0, \"ticks\": \"\"}, \"colorscale\": [[0.0, \"#0d0887\"], [0.1111111111111111, \"#46039f\"], [0.2222222222222222, \"#7201a8\"], [0.3333333333333333, \"#9c179e\"], [0.4444444444444444, \"#bd3786\"], [0.5555555555555556, \"#d8576b\"], [0.6666666666666666, \"#ed7953\"], [0.7777777777777778, \"#fb9f3a\"], [0.8888888888888888, \"#fdca26\"], [1.0, \"#f0f921\"]], \"type\": \"contour\"}], \"contourcarpet\": [{\"colorbar\": {\"outlinewidth\": 0, \"ticks\": \"\"}, \"type\": \"contourcarpet\"}], \"heatmap\": [{\"colorbar\": {\"outlinewidth\": 0, \"ticks\": \"\"}, \"colorscale\": [[0.0, \"#0d0887\"], [0.1111111111111111, \"#46039f\"], [0.2222222222222222, \"#7201a8\"], [0.3333333333333333, \"#9c179e\"], [0.4444444444444444, \"#bd3786\"], [0.5555555555555556, \"#d8576b\"], [0.6666666666666666, \"#ed7953\"], [0.7777777777777778, \"#fb9f3a\"], [0.8888888888888888, \"#fdca26\"], [1.0, \"#f0f921\"]], \"type\": \"heatmap\"}], \"heatmapgl\": [{\"colorbar\": {\"outlinewidth\": 0, \"ticks\": \"\"}, \"colorscale\": [[0.0, \"#0d0887\"], [0.1111111111111111, \"#46039f\"], [0.2222222222222222, \"#7201a8\"], [0.3333333333333333, \"#9c179e\"], [0.4444444444444444, \"#bd3786\"], [0.5555555555555556, \"#d8576b\"], [0.6666666666666666, \"#ed7953\"], [0.7777777777777778, \"#fb9f3a\"], [0.8888888888888888, \"#fdca26\"], [1.0, \"#f0f921\"]], \"type\": \"heatmapgl\"}], \"histogram\": [{\"marker\": {\"colorbar\": {\"outlinewidth\": 0, \"ticks\": \"\"}}, \"type\": \"histogram\"}], \"histogram2d\": [{\"colorbar\": {\"outlinewidth\": 0, \"ticks\": \"\"}, \"colorscale\": [[0.0, \"#0d0887\"], [0.1111111111111111, \"#46039f\"], [0.2222222222222222, \"#7201a8\"], [0.3333333333333333, \"#9c179e\"], [0.4444444444444444, \"#bd3786\"], [0.5555555555555556, \"#d8576b\"], [0.6666666666666666, \"#ed7953\"], [0.7777777777777778, \"#fb9f3a\"], [0.8888888888888888, \"#fdca26\"], [1.0, \"#f0f921\"]], \"type\": \"histogram2d\"}], \"histogram2dcontour\": [{\"colorbar\": {\"outlinewidth\": 0, \"ticks\": \"\"}, \"colorscale\": [[0.0, \"#0d0887\"], [0.1111111111111111, \"#46039f\"], [0.2222222222222222, \"#7201a8\"], [0.3333333333333333, \"#9c179e\"], [0.4444444444444444, \"#bd3786\"], [0.5555555555555556, \"#d8576b\"], [0.6666666666666666, \"#ed7953\"], [0.7777777777777778, \"#fb9f3a\"], [0.8888888888888888, \"#fdca26\"], [1.0, \"#f0f921\"]], \"type\": \"histogram2dcontour\"}], \"mesh3d\": [{\"colorbar\": {\"outlinewidth\": 0, \"ticks\": \"\"}, \"type\": \"mesh3d\"}], \"parcoords\": [{\"line\": {\"colorbar\": {\"outlinewidth\": 0, \"ticks\": \"\"}}, \"type\": \"parcoords\"}], \"pie\": [{\"automargin\": true, \"type\": \"pie\"}], \"scatter\": [{\"marker\": {\"colorbar\": {\"outlinewidth\": 0, \"ticks\": \"\"}}, \"type\": \"scatter\"}], \"scatter3d\": [{\"line\": {\"colorbar\": {\"outlinewidth\": 0, \"ticks\": \"\"}}, \"marker\": {\"colorbar\": {\"outlinewidth\": 0, \"ticks\": \"\"}}, \"type\": \"scatter3d\"}], \"scattercarpet\": [{\"marker\": {\"colorbar\": {\"outlinewidth\": 0, \"ticks\": \"\"}}, \"type\": \"scattercarpet\"}], \"scattergeo\": [{\"marker\": {\"colorbar\": {\"outlinewidth\": 0, \"ticks\": \"\"}}, \"type\": \"scattergeo\"}], \"scattergl\": [{\"marker\": {\"colorbar\": {\"outlinewidth\": 0, \"ticks\": \"\"}}, \"type\": \"scattergl\"}], \"scattermapbox\": [{\"marker\": {\"colorbar\": {\"outlinewidth\": 0, \"ticks\": \"\"}}, \"type\": \"scattermapbox\"}], \"scatterpolar\": [{\"marker\": {\"colorbar\": {\"outlinewidth\": 0, \"ticks\": \"\"}}, \"type\": \"scatterpolar\"}], \"scatterpolargl\": [{\"marker\": {\"colorbar\": {\"outlinewidth\": 0, \"ticks\": \"\"}}, \"type\": \"scatterpolargl\"}], \"scatterternary\": [{\"marker\": {\"colorbar\": {\"outlinewidth\": 0, \"ticks\": \"\"}}, \"type\": \"scatterternary\"}], \"surface\": [{\"colorbar\": {\"outlinewidth\": 0, \"ticks\": \"\"}, \"colorscale\": [[0.0, \"#0d0887\"], [0.1111111111111111, \"#46039f\"], [0.2222222222222222, \"#7201a8\"], [0.3333333333333333, \"#9c179e\"], [0.4444444444444444, \"#bd3786\"], [0.5555555555555556, \"#d8576b\"], [0.6666666666666666, \"#ed7953\"], [0.7777777777777778, \"#fb9f3a\"], [0.8888888888888888, \"#fdca26\"], [1.0, \"#f0f921\"]], \"type\": \"surface\"}], \"table\": [{\"cells\": {\"fill\": {\"color\": \"#EBF0F8\"}, \"line\": {\"color\": \"white\"}}, \"header\": {\"fill\": {\"color\": \"#C8D4E3\"}, \"line\": {\"color\": \"white\"}}, \"type\": \"table\"}]}, \"layout\": {\"annotationdefaults\": {\"arrowcolor\": \"#2a3f5f\", \"arrowhead\": 0, \"arrowwidth\": 1}, \"coloraxis\": {\"colorbar\": {\"outlinewidth\": 0, \"ticks\": \"\"}}, \"colorscale\": {\"diverging\": [[0, \"#8e0152\"], [0.1, \"#c51b7d\"], [0.2, \"#de77ae\"], [0.3, \"#f1b6da\"], [0.4, \"#fde0ef\"], [0.5, \"#f7f7f7\"], [0.6, \"#e6f5d0\"], [0.7, \"#b8e186\"], [0.8, \"#7fbc41\"], [0.9, \"#4d9221\"], [1, \"#276419\"]], \"sequential\": [[0.0, \"#0d0887\"], [0.1111111111111111, \"#46039f\"], [0.2222222222222222, \"#7201a8\"], [0.3333333333333333, \"#9c179e\"], [0.4444444444444444, \"#bd3786\"], [0.5555555555555556, \"#d8576b\"], [0.6666666666666666, \"#ed7953\"], [0.7777777777777778, \"#fb9f3a\"], [0.8888888888888888, \"#fdca26\"], [1.0, \"#f0f921\"]], \"sequentialminus\": [[0.0, \"#0d0887\"], [0.1111111111111111, \"#46039f\"], [0.2222222222222222, \"#7201a8\"], [0.3333333333333333, \"#9c179e\"], [0.4444444444444444, \"#bd3786\"], [0.5555555555555556, \"#d8576b\"], [0.6666666666666666, \"#ed7953\"], [0.7777777777777778, \"#fb9f3a\"], [0.8888888888888888, \"#fdca26\"], [1.0, \"#f0f921\"]]}, \"colorway\": [\"#636efa\", \"#EF553B\", \"#00cc96\", \"#ab63fa\", \"#FFA15A\", \"#19d3f3\", \"#FF6692\", \"#B6E880\", \"#FF97FF\", \"#FECB52\"], \"font\": {\"color\": \"#2a3f5f\"}, \"geo\": {\"bgcolor\": \"white\", \"lakecolor\": \"white\", \"landcolor\": \"#E5ECF6\", \"showlakes\": true, \"showland\": true, \"subunitcolor\": \"white\"}, \"hoverlabel\": {\"align\": \"left\"}, \"hovermode\": \"closest\", \"mapbox\": {\"style\": \"light\"}, \"paper_bgcolor\": \"white\", \"plot_bgcolor\": \"#E5ECF6\", \"polar\": {\"angularaxis\": {\"gridcolor\": \"white\", \"linecolor\": \"white\", \"ticks\": \"\"}, \"bgcolor\": \"#E5ECF6\", \"radialaxis\": {\"gridcolor\": \"white\", \"linecolor\": \"white\", \"ticks\": \"\"}}, \"scene\": {\"xaxis\": {\"backgroundcolor\": \"#E5ECF6\", \"gridcolor\": \"white\", \"gridwidth\": 2, \"linecolor\": \"white\", \"showbackground\": true, \"ticks\": \"\", \"zerolinecolor\": \"white\"}, \"yaxis\": {\"backgroundcolor\": \"#E5ECF6\", \"gridcolor\": \"white\", \"gridwidth\": 2, \"linecolor\": \"white\", \"showbackground\": true, \"ticks\": \"\", \"zerolinecolor\": \"white\"}, \"zaxis\": {\"backgroundcolor\": \"#E5ECF6\", \"gridcolor\": \"white\", \"gridwidth\": 2, \"linecolor\": \"white\", \"showbackground\": true, \"ticks\": \"\", \"zerolinecolor\": \"white\"}}, \"shapedefaults\": {\"line\": {\"color\": \"#2a3f5f\"}}, \"ternary\": {\"aaxis\": {\"gridcolor\": \"white\", \"linecolor\": \"white\", \"ticks\": \"\"}, \"baxis\": {\"gridcolor\": \"white\", \"linecolor\": \"white\", \"ticks\": \"\"}, \"bgcolor\": \"#E5ECF6\", \"caxis\": {\"gridcolor\": \"white\", \"linecolor\": \"white\", \"ticks\": \"\"}}, \"title\": {\"x\": 0.05}, \"xaxis\": {\"automargin\": true, \"gridcolor\": \"white\", \"linecolor\": \"white\", \"ticks\": \"\", \"title\": {\"standoff\": 15}, \"zerolinecolor\": \"white\", \"zerolinewidth\": 2}, \"yaxis\": {\"automargin\": true, \"gridcolor\": \"white\", \"linecolor\": \"white\", \"ticks\": \"\", \"title\": {\"standoff\": 15}, \"zerolinecolor\": \"white\", \"zerolinewidth\": 2}}}, \"xaxis\": {\"anchor\": \"y\", \"domain\": [0.0, 1.0], \"title\": {\"text\": \"cluster\"}}, \"yaxis\": {\"anchor\": \"x\", \"domain\": [0.0, 1.0], \"title\": {\"text\": \"count\"}, \"type\": \"log\"}},\n",
              "                        {\"responsive\": true}\n",
              "                    ).then(function(){\n",
              "                            \n",
              "var gd = document.getElementById('a24e38fe-52e6-4b72-b74c-63c0bea8d6da');\n",
              "var x = new MutationObserver(function (mutations, observer) {{\n",
              "        var display = window.getComputedStyle(gd).display;\n",
              "        if (!display || display === 'none') {{\n",
              "            console.log([gd, 'removed!']);\n",
              "            Plotly.purge(gd);\n",
              "            observer.disconnect();\n",
              "        }}\n",
              "}});\n",
              "\n",
              "// Listen for the removal of the full notebook cells\n",
              "var notebookContainer = gd.closest('#notebook-container');\n",
              "if (notebookContainer) {{\n",
              "    x.observe(notebookContainer, {childList: true});\n",
              "}}\n",
              "\n",
              "// Listen for the clearing of the current output cell\n",
              "var outputEl = gd.closest('.output');\n",
              "if (outputEl) {{\n",
              "    x.observe(outputEl, {childList: true});\n",
              "}}\n",
              "\n",
              "                        })\n",
              "                };\n",
              "                \n",
              "            </script>\n",
              "        </div>\n",
              "</body>\n",
              "</html>"
            ]
          },
          "metadata": {},
          "output_type": "display_data"
        }
      ],
      "source": [
        "px.bar(clusres, x='cluster', y='count',log_y = True)"
      ]
    },
    {
      "cell_type": "markdown",
      "metadata": {
        "id": "6_-oDwT2m88Y"
      },
      "source": [
        "#พลอต trend ของการติดเชื้อ"
      ]
    },
    {
      "cell_type": "code",
      "execution_count": null,
      "metadata": {
        "colab": {
          "base_uri": "https://localhost:8080/",
          "height": 606
        },
        "id": "sOt0cj5LnEyZ",
        "outputId": "f723ab9d-7288-41e8-ce4a-efa992cdd9e4"
      },
      "outputs": [
        {
          "data": {
            "text/html": [
              "<div>\n",
              "<style scoped>\n",
              "    .dataframe tbody tr th:only-of-type {\n",
              "        vertical-align: middle;\n",
              "    }\n",
              "\n",
              "    .dataframe tbody tr th {\n",
              "        vertical-align: top;\n",
              "    }\n",
              "\n",
              "    .dataframe thead th {\n",
              "        text-align: right;\n",
              "    }\n",
              "</style>\n",
              "<table border=\"1\" class=\"dataframe\">\n",
              "  <thead>\n",
              "    <tr style=\"text-align: right;\">\n",
              "      <th></th>\n",
              "      <th>No.</th>\n",
              "      <th>announce_date</th>\n",
              "      <th>Notified date</th>\n",
              "      <th>sex</th>\n",
              "      <th>age</th>\n",
              "      <th>Unit</th>\n",
              "      <th>nationality</th>\n",
              "      <th>province_of_isolation</th>\n",
              "      <th>risk</th>\n",
              "      <th>province_of_onset</th>\n",
              "      <th>district_of_onset</th>\n",
              "      <th>date2</th>\n",
              "      <th>date</th>\n",
              "    </tr>\n",
              "  </thead>\n",
              "  <tbody>\n",
              "    <tr>\n",
              "      <th>0</th>\n",
              "      <td>1</td>\n",
              "      <td>12/1/2020</td>\n",
              "      <td>NaN</td>\n",
              "      <td>หญิง</td>\n",
              "      <td>61.0</td>\n",
              "      <td>ปี</td>\n",
              "      <td>China</td>\n",
              "      <td>กรุงเทพมหานคร</td>\n",
              "      <td>คนต่างชาติเดินทางมาจากต่างประเทศ</td>\n",
              "      <td>กรุงเทพมหานคร</td>\n",
              "      <td>NaN</td>\n",
              "      <td>2020-01-12</td>\n",
              "      <td>2020-01-12</td>\n",
              "    </tr>\n",
              "    <tr>\n",
              "      <th>1</th>\n",
              "      <td>2</td>\n",
              "      <td>17/1/2020</td>\n",
              "      <td>NaN</td>\n",
              "      <td>หญิง</td>\n",
              "      <td>74.0</td>\n",
              "      <td>ปี</td>\n",
              "      <td>China</td>\n",
              "      <td>กรุงเทพมหานคร</td>\n",
              "      <td>คนต่างชาติเดินทางมาจากต่างประเทศ</td>\n",
              "      <td>กรุงเทพมหานคร</td>\n",
              "      <td>NaN</td>\n",
              "      <td>2020-01-17</td>\n",
              "      <td>2020-01-17</td>\n",
              "    </tr>\n",
              "    <tr>\n",
              "      <th>2</th>\n",
              "      <td>3</td>\n",
              "      <td>22/1/2020</td>\n",
              "      <td>NaN</td>\n",
              "      <td>หญิง</td>\n",
              "      <td>73.0</td>\n",
              "      <td>ปี</td>\n",
              "      <td>Thailand</td>\n",
              "      <td>นครปฐม</td>\n",
              "      <td>คนต่างชาติเดินทางมาจากต่างประเทศ</td>\n",
              "      <td>นครปฐม</td>\n",
              "      <td>เมือง</td>\n",
              "      <td>2020-01-22</td>\n",
              "      <td>2020-01-22</td>\n",
              "    </tr>\n",
              "    <tr>\n",
              "      <th>3</th>\n",
              "      <td>4</td>\n",
              "      <td>22/1/2020</td>\n",
              "      <td>NaN</td>\n",
              "      <td>ชาย</td>\n",
              "      <td>68.0</td>\n",
              "      <td>ปี</td>\n",
              "      <td>China</td>\n",
              "      <td>กรุงเทพมหานคร</td>\n",
              "      <td>คนต่างชาติเดินทางมาจากต่างประเทศ</td>\n",
              "      <td>กรุงเทพมหานคร</td>\n",
              "      <td>NaN</td>\n",
              "      <td>2020-01-22</td>\n",
              "      <td>2020-01-22</td>\n",
              "    </tr>\n",
              "    <tr>\n",
              "      <th>4</th>\n",
              "      <td>5</td>\n",
              "      <td>24/1/2020</td>\n",
              "      <td>NaN</td>\n",
              "      <td>หญิง</td>\n",
              "      <td>66.0</td>\n",
              "      <td>ปี</td>\n",
              "      <td>China</td>\n",
              "      <td>นนทบุรี</td>\n",
              "      <td>คนต่างชาติเดินทางมาจากต่างประเทศ</td>\n",
              "      <td>กรุงเทพมหานคร</td>\n",
              "      <td>NaN</td>\n",
              "      <td>2020-01-24</td>\n",
              "      <td>2020-01-24</td>\n",
              "    </tr>\n",
              "    <tr>\n",
              "      <th>...</th>\n",
              "      <td>...</td>\n",
              "      <td>...</td>\n",
              "      <td>...</td>\n",
              "      <td>...</td>\n",
              "      <td>...</td>\n",
              "      <td>...</td>\n",
              "      <td>...</td>\n",
              "      <td>...</td>\n",
              "      <td>...</td>\n",
              "      <td>...</td>\n",
              "      <td>...</td>\n",
              "      <td>...</td>\n",
              "      <td>...</td>\n",
              "    </tr>\n",
              "    <tr>\n",
              "      <th>839766</th>\n",
              "      <td>839767</td>\n",
              "      <td>12/8/2021</td>\n",
              "      <td>11/8/2021</td>\n",
              "      <td>ชาย</td>\n",
              "      <td>52.0</td>\n",
              "      <td>ปี</td>\n",
              "      <td>NaN</td>\n",
              "      <td>กาญจนบุรี</td>\n",
              "      <td>ทัณฑสถาน/เรือนจำ</td>\n",
              "      <td>กาญจนบุรี</td>\n",
              "      <td>NaN</td>\n",
              "      <td>2021-08-12</td>\n",
              "      <td>2021-08-12</td>\n",
              "    </tr>\n",
              "    <tr>\n",
              "      <th>839767</th>\n",
              "      <td>839768</td>\n",
              "      <td>12/8/2021</td>\n",
              "      <td>11/8/2021</td>\n",
              "      <td>ชาย</td>\n",
              "      <td>34.0</td>\n",
              "      <td>ปี</td>\n",
              "      <td>Thailand</td>\n",
              "      <td>กาญจนบุรี</td>\n",
              "      <td>ทัณฑสถาน/เรือนจำ</td>\n",
              "      <td>กาญจนบุรี</td>\n",
              "      <td>NaN</td>\n",
              "      <td>2021-08-12</td>\n",
              "      <td>2021-08-12</td>\n",
              "    </tr>\n",
              "    <tr>\n",
              "      <th>839768</th>\n",
              "      <td>839769</td>\n",
              "      <td>12/8/2021</td>\n",
              "      <td>11/8/2021</td>\n",
              "      <td>ชาย</td>\n",
              "      <td>31.0</td>\n",
              "      <td>ปี</td>\n",
              "      <td>Thailand</td>\n",
              "      <td>กาญจนบุรี</td>\n",
              "      <td>ทัณฑสถาน/เรือนจำ</td>\n",
              "      <td>กาญจนบุรี</td>\n",
              "      <td>NaN</td>\n",
              "      <td>2021-08-12</td>\n",
              "      <td>2021-08-12</td>\n",
              "    </tr>\n",
              "    <tr>\n",
              "      <th>839769</th>\n",
              "      <td>839770</td>\n",
              "      <td>12/8/2021</td>\n",
              "      <td>11/8/2021</td>\n",
              "      <td>ชาย</td>\n",
              "      <td>83.0</td>\n",
              "      <td>ปี</td>\n",
              "      <td>Thailand</td>\n",
              "      <td>กาญจนบุรี</td>\n",
              "      <td>ทัณฑสถาน/เรือนจำ</td>\n",
              "      <td>กาญจนบุรี</td>\n",
              "      <td>NaN</td>\n",
              "      <td>2021-08-12</td>\n",
              "      <td>2021-08-12</td>\n",
              "    </tr>\n",
              "    <tr>\n",
              "      <th>839770</th>\n",
              "      <td>839771</td>\n",
              "      <td>12/8/2021</td>\n",
              "      <td>11/8/2021</td>\n",
              "      <td>ชาย</td>\n",
              "      <td>47.0</td>\n",
              "      <td>ปี</td>\n",
              "      <td>Thailand</td>\n",
              "      <td>กาญจนบุรี</td>\n",
              "      <td>ทัณฑสถาน/เรือนจำ</td>\n",
              "      <td>กาญจนบุรี</td>\n",
              "      <td>NaN</td>\n",
              "      <td>2021-08-12</td>\n",
              "      <td>2021-08-12</td>\n",
              "    </tr>\n",
              "  </tbody>\n",
              "</table>\n",
              "<p>839771 rows × 13 columns</p>\n",
              "</div>"
            ],
            "text/plain": [
              "           No. announce_date  ...      date2       date\n",
              "0            1     12/1/2020  ... 2020-01-12 2020-01-12\n",
              "1            2     17/1/2020  ... 2020-01-17 2020-01-17\n",
              "2            3     22/1/2020  ... 2020-01-22 2020-01-22\n",
              "3            4     22/1/2020  ... 2020-01-22 2020-01-22\n",
              "4            5     24/1/2020  ... 2020-01-24 2020-01-24\n",
              "...        ...           ...  ...        ...        ...\n",
              "839766  839767     12/8/2021  ... 2021-08-12 2021-08-12\n",
              "839767  839768     12/8/2021  ... 2021-08-12 2021-08-12\n",
              "839768  839769     12/8/2021  ... 2021-08-12 2021-08-12\n",
              "839769  839770     12/8/2021  ... 2021-08-12 2021-08-12\n",
              "839770  839771     12/8/2021  ... 2021-08-12 2021-08-12\n",
              "\n",
              "[839771 rows x 13 columns]"
            ]
          },
          "execution_count": 39,
          "metadata": {},
          "output_type": "execute_result"
        }
      ],
      "source": [
        "from datetime import datetime\n",
        "dat['date'] = dat['announce_date'].apply(lambda x:datetime.strptime(x, '%d/%m/%Y'))\n",
        "dat"
      ]
    },
    {
      "cell_type": "code",
      "execution_count": null,
      "metadata": {
        "colab": {
          "base_uri": "https://localhost:8080/",
          "height": 419
        },
        "id": "qV98NICmpdZ0",
        "outputId": "91000983-fed2-42fd-8f70-ea11310a8108"
      },
      "outputs": [
        {
          "data": {
            "text/html": [
              "<div>\n",
              "<style scoped>\n",
              "    .dataframe tbody tr th:only-of-type {\n",
              "        vertical-align: middle;\n",
              "    }\n",
              "\n",
              "    .dataframe tbody tr th {\n",
              "        vertical-align: top;\n",
              "    }\n",
              "\n",
              "    .dataframe thead th {\n",
              "        text-align: right;\n",
              "    }\n",
              "</style>\n",
              "<table border=\"1\" class=\"dataframe\">\n",
              "  <thead>\n",
              "    <tr style=\"text-align: right;\">\n",
              "      <th></th>\n",
              "      <th>No.</th>\n",
              "      <th>date</th>\n",
              "    </tr>\n",
              "  </thead>\n",
              "  <tbody>\n",
              "    <tr>\n",
              "      <th>0</th>\n",
              "      <td>1</td>\n",
              "      <td>2020-01-12</td>\n",
              "    </tr>\n",
              "    <tr>\n",
              "      <th>1</th>\n",
              "      <td>2</td>\n",
              "      <td>2020-01-17</td>\n",
              "    </tr>\n",
              "    <tr>\n",
              "      <th>2</th>\n",
              "      <td>3</td>\n",
              "      <td>2020-01-22</td>\n",
              "    </tr>\n",
              "    <tr>\n",
              "      <th>3</th>\n",
              "      <td>4</td>\n",
              "      <td>2020-01-22</td>\n",
              "    </tr>\n",
              "    <tr>\n",
              "      <th>4</th>\n",
              "      <td>5</td>\n",
              "      <td>2020-01-24</td>\n",
              "    </tr>\n",
              "    <tr>\n",
              "      <th>...</th>\n",
              "      <td>...</td>\n",
              "      <td>...</td>\n",
              "    </tr>\n",
              "    <tr>\n",
              "      <th>839766</th>\n",
              "      <td>839767</td>\n",
              "      <td>2021-08-12</td>\n",
              "    </tr>\n",
              "    <tr>\n",
              "      <th>839767</th>\n",
              "      <td>839768</td>\n",
              "      <td>2021-08-12</td>\n",
              "    </tr>\n",
              "    <tr>\n",
              "      <th>839768</th>\n",
              "      <td>839769</td>\n",
              "      <td>2021-08-12</td>\n",
              "    </tr>\n",
              "    <tr>\n",
              "      <th>839769</th>\n",
              "      <td>839770</td>\n",
              "      <td>2021-08-12</td>\n",
              "    </tr>\n",
              "    <tr>\n",
              "      <th>839770</th>\n",
              "      <td>839771</td>\n",
              "      <td>2021-08-12</td>\n",
              "    </tr>\n",
              "  </tbody>\n",
              "</table>\n",
              "<p>839771 rows × 2 columns</p>\n",
              "</div>"
            ],
            "text/plain": [
              "           No.       date\n",
              "0            1 2020-01-12\n",
              "1            2 2020-01-17\n",
              "2            3 2020-01-22\n",
              "3            4 2020-01-22\n",
              "4            5 2020-01-24\n",
              "...        ...        ...\n",
              "839766  839767 2021-08-12\n",
              "839767  839768 2021-08-12\n",
              "839768  839769 2021-08-12\n",
              "839769  839770 2021-08-12\n",
              "839770  839771 2021-08-12\n",
              "\n",
              "[839771 rows x 2 columns]"
            ]
          },
          "execution_count": 40,
          "metadata": {},
          "output_type": "execute_result"
        }
      ],
      "source": [
        "dat[['No.', 'date']]"
      ]
    },
    {
      "cell_type": "code",
      "execution_count": null,
      "metadata": {
        "colab": {
          "base_uri": "https://localhost:8080/",
          "height": 450
        },
        "id": "VSIJLGntp0Eb",
        "outputId": "9c366397-f2de-4c46-ec40-b473387d0843"
      },
      "outputs": [
        {
          "data": {
            "text/html": [
              "<div>\n",
              "<style scoped>\n",
              "    .dataframe tbody tr th:only-of-type {\n",
              "        vertical-align: middle;\n",
              "    }\n",
              "\n",
              "    .dataframe tbody tr th {\n",
              "        vertical-align: top;\n",
              "    }\n",
              "\n",
              "    .dataframe thead th {\n",
              "        text-align: right;\n",
              "    }\n",
              "</style>\n",
              "<table border=\"1\" class=\"dataframe\">\n",
              "  <thead>\n",
              "    <tr style=\"text-align: right;\">\n",
              "      <th></th>\n",
              "      <th>No.</th>\n",
              "    </tr>\n",
              "    <tr>\n",
              "      <th>date</th>\n",
              "      <th></th>\n",
              "    </tr>\n",
              "  </thead>\n",
              "  <tbody>\n",
              "    <tr>\n",
              "      <th>2020-01-12</th>\n",
              "      <td>1</td>\n",
              "    </tr>\n",
              "    <tr>\n",
              "      <th>2020-01-17</th>\n",
              "      <td>1</td>\n",
              "    </tr>\n",
              "    <tr>\n",
              "      <th>2020-01-22</th>\n",
              "      <td>2</td>\n",
              "    </tr>\n",
              "    <tr>\n",
              "      <th>2020-01-24</th>\n",
              "      <td>1</td>\n",
              "    </tr>\n",
              "    <tr>\n",
              "      <th>2020-01-25</th>\n",
              "      <td>1</td>\n",
              "    </tr>\n",
              "    <tr>\n",
              "      <th>...</th>\n",
              "      <td>...</td>\n",
              "    </tr>\n",
              "    <tr>\n",
              "      <th>2021-08-08</th>\n",
              "      <td>19983</td>\n",
              "    </tr>\n",
              "    <tr>\n",
              "      <th>2021-08-09</th>\n",
              "      <td>19603</td>\n",
              "    </tr>\n",
              "    <tr>\n",
              "      <th>2021-08-10</th>\n",
              "      <td>19843</td>\n",
              "    </tr>\n",
              "    <tr>\n",
              "      <th>2021-08-11</th>\n",
              "      <td>21038</td>\n",
              "    </tr>\n",
              "    <tr>\n",
              "      <th>2021-08-12</th>\n",
              "      <td>22782</td>\n",
              "    </tr>\n",
              "  </tbody>\n",
              "</table>\n",
              "<p>523 rows × 1 columns</p>\n",
              "</div>"
            ],
            "text/plain": [
              "              No.\n",
              "date             \n",
              "2020-01-12      1\n",
              "2020-01-17      1\n",
              "2020-01-22      2\n",
              "2020-01-24      1\n",
              "2020-01-25      1\n",
              "...           ...\n",
              "2021-08-08  19983\n",
              "2021-08-09  19603\n",
              "2021-08-10  19843\n",
              "2021-08-11  21038\n",
              "2021-08-12  22782\n",
              "\n",
              "[523 rows x 1 columns]"
            ]
          },
          "execution_count": 42,
          "metadata": {},
          "output_type": "execute_result"
        }
      ],
      "source": [
        "dat[['No.','date']].groupby(by = 'date').count()"
      ]
    },
    {
      "cell_type": "code",
      "execution_count": null,
      "metadata": {
        "id": "uBcOE_JKnxDj"
      },
      "outputs": [],
      "source": [
        "plottrend = dat[['No.','date']].groupby(by = 'date').count()"
      ]
    },
    {
      "cell_type": "code",
      "execution_count": null,
      "metadata": {
        "id": "aU2B52XRo26T"
      },
      "outputs": [],
      "source": [
        "plottrend.columns = ['daily infected']"
      ]
    },
    {
      "cell_type": "code",
      "execution_count": null,
      "metadata": {
        "id": "e9wUEGjsqFdV"
      },
      "outputs": [],
      "source": [
        "plottrend['date'] = plottrend.index"
      ]
    },
    {
      "cell_type": "code",
      "execution_count": null,
      "metadata": {
        "colab": {
          "base_uri": "https://localhost:8080/",
          "height": 450
        },
        "id": "jWcYgRZ2oyJE",
        "outputId": "066d7429-c5a9-45a9-a915-f7e86b1048fc"
      },
      "outputs": [
        {
          "data": {
            "text/html": [
              "<div>\n",
              "<style scoped>\n",
              "    .dataframe tbody tr th:only-of-type {\n",
              "        vertical-align: middle;\n",
              "    }\n",
              "\n",
              "    .dataframe tbody tr th {\n",
              "        vertical-align: top;\n",
              "    }\n",
              "\n",
              "    .dataframe thead th {\n",
              "        text-align: right;\n",
              "    }\n",
              "</style>\n",
              "<table border=\"1\" class=\"dataframe\">\n",
              "  <thead>\n",
              "    <tr style=\"text-align: right;\">\n",
              "      <th></th>\n",
              "      <th>daily infected</th>\n",
              "      <th>date</th>\n",
              "    </tr>\n",
              "    <tr>\n",
              "      <th>date</th>\n",
              "      <th></th>\n",
              "      <th></th>\n",
              "    </tr>\n",
              "  </thead>\n",
              "  <tbody>\n",
              "    <tr>\n",
              "      <th>2020-01-12</th>\n",
              "      <td>1</td>\n",
              "      <td>2020-01-12</td>\n",
              "    </tr>\n",
              "    <tr>\n",
              "      <th>2020-01-17</th>\n",
              "      <td>1</td>\n",
              "      <td>2020-01-17</td>\n",
              "    </tr>\n",
              "    <tr>\n",
              "      <th>2020-01-22</th>\n",
              "      <td>2</td>\n",
              "      <td>2020-01-22</td>\n",
              "    </tr>\n",
              "    <tr>\n",
              "      <th>2020-01-24</th>\n",
              "      <td>1</td>\n",
              "      <td>2020-01-24</td>\n",
              "    </tr>\n",
              "    <tr>\n",
              "      <th>2020-01-25</th>\n",
              "      <td>1</td>\n",
              "      <td>2020-01-25</td>\n",
              "    </tr>\n",
              "    <tr>\n",
              "      <th>...</th>\n",
              "      <td>...</td>\n",
              "      <td>...</td>\n",
              "    </tr>\n",
              "    <tr>\n",
              "      <th>2021-08-08</th>\n",
              "      <td>19983</td>\n",
              "      <td>2021-08-08</td>\n",
              "    </tr>\n",
              "    <tr>\n",
              "      <th>2021-08-09</th>\n",
              "      <td>19603</td>\n",
              "      <td>2021-08-09</td>\n",
              "    </tr>\n",
              "    <tr>\n",
              "      <th>2021-08-10</th>\n",
              "      <td>19843</td>\n",
              "      <td>2021-08-10</td>\n",
              "    </tr>\n",
              "    <tr>\n",
              "      <th>2021-08-11</th>\n",
              "      <td>21038</td>\n",
              "      <td>2021-08-11</td>\n",
              "    </tr>\n",
              "    <tr>\n",
              "      <th>2021-08-12</th>\n",
              "      <td>22782</td>\n",
              "      <td>2021-08-12</td>\n",
              "    </tr>\n",
              "  </tbody>\n",
              "</table>\n",
              "<p>523 rows × 2 columns</p>\n",
              "</div>"
            ],
            "text/plain": [
              "            daily infected       date\n",
              "date                                 \n",
              "2020-01-12               1 2020-01-12\n",
              "2020-01-17               1 2020-01-17\n",
              "2020-01-22               2 2020-01-22\n",
              "2020-01-24               1 2020-01-24\n",
              "2020-01-25               1 2020-01-25\n",
              "...                    ...        ...\n",
              "2021-08-08           19983 2021-08-08\n",
              "2021-08-09           19603 2021-08-09\n",
              "2021-08-10           19843 2021-08-10\n",
              "2021-08-11           21038 2021-08-11\n",
              "2021-08-12           22782 2021-08-12\n",
              "\n",
              "[523 rows x 2 columns]"
            ]
          },
          "execution_count": 46,
          "metadata": {},
          "output_type": "execute_result"
        }
      ],
      "source": [
        "plottrend"
      ]
    },
    {
      "cell_type": "code",
      "execution_count": null,
      "metadata": {
        "colab": {
          "base_uri": "https://localhost:8080/",
          "height": 542
        },
        "id": "1mUjbXwopEAS",
        "outputId": "542403b5-4d10-44d6-808a-fcb4b1aed829"
      },
      "outputs": [
        {
          "data": {
            "text/html": [
              "<html>\n",
              "<head><meta charset=\"utf-8\" /></head>\n",
              "<body>\n",
              "    <div>\n",
              "            <script src=\"https://cdnjs.cloudflare.com/ajax/libs/mathjax/2.7.5/MathJax.js?config=TeX-AMS-MML_SVG\"></script><script type=\"text/javascript\">if (window.MathJax) {MathJax.Hub.Config({SVG: {font: \"STIX-Web\"}});}</script>\n",
              "                <script type=\"text/javascript\">window.PlotlyConfig = {MathJaxConfig: 'local'};</script>\n",
              "        <script src=\"https://cdn.plot.ly/plotly-latest.min.js\"></script>    \n",
              "            <div id=\"aea56c6d-bf10-49b2-821d-e8cab5ad12f7\" class=\"plotly-graph-div\" style=\"height:525px; width:100%;\"></div>\n",
              "            <script type=\"text/javascript\">\n",
              "                \n",
              "                    window.PLOTLYENV=window.PLOTLYENV || {};\n",
              "                    \n",
              "                if (document.getElementById(\"aea56c6d-bf10-49b2-821d-e8cab5ad12f7\")) {\n",
              "                    Plotly.newPlot(\n",
              "                        'aea56c6d-bf10-49b2-821d-e8cab5ad12f7',\n",
              "                        [{\"hoverlabel\": {\"namelength\": 0}, \"hovertemplate\": \"date=%{x}<br>daily infected=%{y}\", \"legendgroup\": \"\", \"line\": {\"color\": \"#636efa\", \"dash\": \"solid\"}, \"mode\": \"lines\", \"name\": \"\", \"showlegend\": false, \"type\": \"scatter\", \"x\": [\"2020-01-12T00:00:00\", \"2020-01-17T00:00:00\", \"2020-01-22T00:00:00\", \"2020-01-24T00:00:00\", \"2020-01-25T00:00:00\", \"2020-01-26T00:00:00\", \"2020-01-28T00:00:00\", \"2020-01-31T00:00:00\", \"2020-02-04T00:00:00\", \"2020-02-08T00:00:00\", \"2020-02-11T00:00:00\", \"2020-02-15T00:00:00\", \"2020-02-17T00:00:00\", \"2020-02-25T00:00:00\", \"2020-02-26T00:00:00\", \"2020-02-28T00:00:00\", \"2020-02-29T00:00:00\", \"2020-03-02T00:00:00\", \"2020-03-05T00:00:00\", \"2020-03-06T00:00:00\", \"2020-03-07T00:00:00\", \"2020-03-10T00:00:00\", \"2020-03-11T00:00:00\", \"2020-03-12T00:00:00\", \"2020-03-13T00:00:00\", \"2020-03-14T00:00:00\", \"2020-03-15T00:00:00\", \"2020-03-16T00:00:00\", \"2020-03-17T00:00:00\", \"2020-03-18T00:00:00\", \"2020-03-19T00:00:00\", \"2020-03-20T00:00:00\", \"2020-03-21T00:00:00\", \"2020-03-22T00:00:00\", \"2020-03-23T00:00:00\", \"2020-03-24T00:00:00\", \"2020-03-25T00:00:00\", \"2020-03-26T00:00:00\", \"2020-03-27T00:00:00\", \"2020-03-28T00:00:00\", \"2020-03-29T00:00:00\", \"2020-03-30T00:00:00\", \"2020-03-31T00:00:00\", \"2020-04-01T00:00:00\", \"2020-04-02T00:00:00\", \"2020-04-03T00:00:00\", \"2020-04-04T00:00:00\", \"2020-04-05T00:00:00\", \"2020-04-06T00:00:00\", \"2020-04-07T00:00:00\", \"2020-04-08T00:00:00\", \"2020-04-09T00:00:00\", \"2020-04-10T00:00:00\", \"2020-04-11T00:00:00\", \"2020-04-12T00:00:00\", \"2020-04-13T00:00:00\", \"2020-04-14T00:00:00\", \"2020-04-15T00:00:00\", \"2020-04-16T00:00:00\", \"2020-04-17T00:00:00\", \"2020-04-18T00:00:00\", \"2020-04-19T00:00:00\", \"2020-04-20T00:00:00\", \"2020-04-21T00:00:00\", \"2020-04-22T00:00:00\", \"2020-04-23T00:00:00\", \"2020-04-24T00:00:00\", \"2020-04-25T00:00:00\", \"2020-04-26T00:00:00\", \"2020-04-27T00:00:00\", \"2020-04-28T00:00:00\", \"2020-04-29T00:00:00\", \"2020-04-30T00:00:00\", \"2020-05-01T00:00:00\", \"2020-05-02T00:00:00\", \"2020-05-03T00:00:00\", \"2020-05-04T00:00:00\", \"2020-05-05T00:00:00\", \"2020-05-06T00:00:00\", \"2020-05-07T00:00:00\", \"2020-05-08T00:00:00\", \"2020-05-09T00:00:00\", \"2020-05-10T00:00:00\", \"2020-05-11T00:00:00\", \"2020-05-12T00:00:00\", \"2020-05-14T00:00:00\", \"2020-05-15T00:00:00\", \"2020-05-17T00:00:00\", \"2020-05-18T00:00:00\", \"2020-05-19T00:00:00\", \"2020-05-20T00:00:00\", \"2020-05-21T00:00:00\", \"2020-05-23T00:00:00\", \"2020-05-25T00:00:00\", \"2020-05-26T00:00:00\", \"2020-05-27T00:00:00\", \"2020-05-28T00:00:00\", \"2020-05-29T00:00:00\", \"2020-05-30T00:00:00\", \"2020-05-31T00:00:00\", \"2020-06-01T00:00:00\", \"2020-06-02T00:00:00\", \"2020-06-03T00:00:00\", \"2020-06-04T00:00:00\", \"2020-06-05T00:00:00\", \"2020-06-06T00:00:00\", \"2020-06-07T00:00:00\", \"2020-06-08T00:00:00\", \"2020-06-09T00:00:00\", \"2020-06-10T00:00:00\", \"2020-06-12T00:00:00\", \"2020-06-13T00:00:00\", \"2020-06-14T00:00:00\", \"2020-06-18T00:00:00\", \"2020-06-19T00:00:00\", \"2020-06-20T00:00:00\", \"2020-06-21T00:00:00\", \"2020-06-22T00:00:00\", \"2020-06-23T00:00:00\", \"2020-06-24T00:00:00\", \"2020-06-25T00:00:00\", \"2020-06-26T00:00:00\", \"2020-06-29T00:00:00\", \"2020-06-30T00:00:00\", \"2020-07-01T00:00:00\", \"2020-07-02T00:00:00\", \"2020-07-03T00:00:00\", \"2020-07-04T00:00:00\", \"2020-07-05T00:00:00\", \"2020-07-06T00:00:00\", \"2020-07-08T00:00:00\", \"2020-07-09T00:00:00\", \"2020-07-11T00:00:00\", \"2020-07-12T00:00:00\", \"2020-07-13T00:00:00\", \"2020-07-14T00:00:00\", \"2020-07-15T00:00:00\", \"2020-07-16T00:00:00\", \"2020-07-17T00:00:00\", \"2020-07-18T00:00:00\", \"2020-07-19T00:00:00\", \"2020-07-20T00:00:00\", \"2020-07-21T00:00:00\", \"2020-07-22T00:00:00\", \"2020-07-23T00:00:00\", \"2020-07-24T00:00:00\", \"2020-07-25T00:00:00\", \"2020-07-26T00:00:00\", \"2020-07-27T00:00:00\", \"2020-07-28T00:00:00\", \"2020-07-29T00:00:00\", \"2020-07-30T00:00:00\", \"2020-07-31T00:00:00\", \"2020-08-01T00:00:00\", \"2020-08-02T00:00:00\", \"2020-08-03T00:00:00\", \"2020-08-04T00:00:00\", \"2020-08-05T00:00:00\", \"2020-08-06T00:00:00\", \"2020-08-07T00:00:00\", \"2020-08-08T00:00:00\", \"2020-08-09T00:00:00\", \"2020-08-12T00:00:00\", \"2020-08-13T00:00:00\", \"2020-08-14T00:00:00\", \"2020-08-16T00:00:00\", \"2020-08-17T00:00:00\", \"2020-08-18T00:00:00\", \"2020-08-19T00:00:00\", \"2020-08-20T00:00:00\", \"2020-08-21T00:00:00\", \"2020-08-23T00:00:00\", \"2020-08-24T00:00:00\", \"2020-08-25T00:00:00\", \"2020-08-26T00:00:00\", \"2020-08-27T00:00:00\", \"2020-08-28T00:00:00\", \"2020-08-29T00:00:00\", \"2020-08-31T00:00:00\", \"2020-09-01T00:00:00\", \"2020-09-02T00:00:00\", \"2020-09-03T00:00:00\", \"2020-09-04T00:00:00\", \"2020-09-05T00:00:00\", \"2020-09-06T00:00:00\", \"2020-09-07T00:00:00\", \"2020-09-08T00:00:00\", \"2020-09-09T00:00:00\", \"2020-09-10T00:00:00\", \"2020-09-11T00:00:00\", \"2020-09-12T00:00:00\", \"2020-09-13T00:00:00\", \"2020-09-14T00:00:00\", \"2020-09-15T00:00:00\", \"2020-09-16T00:00:00\", \"2020-09-18T00:00:00\", \"2020-09-19T00:00:00\", \"2020-09-20T00:00:00\", \"2020-09-22T00:00:00\", \"2020-09-23T00:00:00\", \"2020-09-24T00:00:00\", \"2020-09-25T00:00:00\", \"2020-09-26T00:00:00\", \"2020-09-27T00:00:00\", \"2020-09-28T00:00:00\", \"2020-09-29T00:00:00\", \"2020-09-30T00:00:00\", \"2020-10-01T00:00:00\", \"2020-10-02T00:00:00\", \"2020-10-03T00:00:00\", \"2020-10-04T00:00:00\", \"2020-10-05T00:00:00\", \"2020-10-06T00:00:00\", \"2020-10-07T00:00:00\", \"2020-10-08T00:00:00\", \"2020-10-09T00:00:00\", \"2020-10-10T00:00:00\", \"2020-10-11T00:00:00\", \"2020-10-12T00:00:00\", \"2020-10-13T00:00:00\", \"2020-10-14T00:00:00\", \"2020-10-15T00:00:00\", \"2020-10-16T00:00:00\", \"2020-10-17T00:00:00\", \"2020-10-18T00:00:00\", \"2020-10-19T00:00:00\", \"2020-10-20T00:00:00\", \"2020-10-21T00:00:00\", \"2020-10-22T00:00:00\", \"2020-10-23T00:00:00\", \"2020-10-24T00:00:00\", \"2020-10-25T00:00:00\", \"2020-10-26T00:00:00\", \"2020-10-27T00:00:00\", \"2020-10-28T00:00:00\", \"2020-10-29T00:00:00\", \"2020-10-30T00:00:00\", \"2020-10-31T00:00:00\", \"2020-11-01T00:00:00\", \"2020-11-02T00:00:00\", \"2020-11-03T00:00:00\", \"2020-11-04T00:00:00\", \"2020-11-05T00:00:00\", \"2020-11-06T00:00:00\", \"2020-11-07T00:00:00\", \"2020-11-08T00:00:00\", \"2020-11-09T00:00:00\", \"2020-11-10T00:00:00\", \"2020-11-11T00:00:00\", \"2020-11-12T00:00:00\", \"2020-11-13T00:00:00\", \"2020-11-14T00:00:00\", \"2020-11-15T00:00:00\", \"2020-11-16T00:00:00\", \"2020-11-17T00:00:00\", \"2020-11-18T00:00:00\", \"2020-11-19T00:00:00\", \"2020-11-20T00:00:00\", \"2020-11-21T00:00:00\", \"2020-11-22T00:00:00\", \"2020-11-23T00:00:00\", \"2020-11-24T00:00:00\", \"2020-11-25T00:00:00\", \"2020-11-26T00:00:00\", \"2020-11-27T00:00:00\", \"2020-11-28T00:00:00\", \"2020-11-29T00:00:00\", \"2020-11-30T00:00:00\", \"2020-12-01T00:00:00\", \"2020-12-02T00:00:00\", \"2020-12-03T00:00:00\", \"2020-12-04T00:00:00\", \"2020-12-05T00:00:00\", \"2020-12-06T00:00:00\", \"2020-12-07T00:00:00\", \"2020-12-08T00:00:00\", \"2020-12-09T00:00:00\", \"2020-12-10T00:00:00\", \"2020-12-11T00:00:00\", \"2020-12-12T00:00:00\", \"2020-12-13T00:00:00\", \"2020-12-14T00:00:00\", \"2020-12-15T00:00:00\", \"2020-12-16T00:00:00\", \"2020-12-17T00:00:00\", \"2020-12-18T00:00:00\", \"2020-12-19T00:00:00\", \"2020-12-20T00:00:00\", \"2020-12-21T00:00:00\", \"2020-12-22T00:00:00\", \"2020-12-23T00:00:00\", \"2020-12-24T00:00:00\", \"2020-12-25T00:00:00\", \"2020-12-26T00:00:00\", \"2020-12-27T00:00:00\", \"2020-12-28T00:00:00\", \"2020-12-29T00:00:00\", \"2020-12-30T00:00:00\", \"2020-12-31T00:00:00\", \"2021-01-01T00:00:00\", \"2021-01-02T00:00:00\", \"2021-01-03T00:00:00\", \"2021-01-04T00:00:00\", \"2021-01-05T00:00:00\", \"2021-01-06T00:00:00\", \"2021-01-07T00:00:00\", \"2021-01-08T00:00:00\", \"2021-01-09T00:00:00\", \"2021-01-10T00:00:00\", \"2021-01-11T00:00:00\", \"2021-01-12T00:00:00\", \"2021-01-13T00:00:00\", \"2021-01-14T00:00:00\", \"2021-01-15T00:00:00\", \"2021-01-16T00:00:00\", \"2021-01-17T00:00:00\", \"2021-01-18T00:00:00\", \"2021-01-19T00:00:00\", \"2021-01-20T00:00:00\", \"2021-01-21T00:00:00\", \"2021-01-22T00:00:00\", \"2021-01-23T00:00:00\", \"2021-01-24T00:00:00\", \"2021-01-25T00:00:00\", \"2021-01-26T00:00:00\", \"2021-01-27T00:00:00\", \"2021-01-28T00:00:00\", \"2021-01-29T00:00:00\", \"2021-01-30T00:00:00\", \"2021-01-31T00:00:00\", \"2021-02-01T00:00:00\", \"2021-02-02T00:00:00\", \"2021-02-03T00:00:00\", \"2021-02-04T00:00:00\", \"2021-02-05T00:00:00\", \"2021-02-06T00:00:00\", \"2021-02-07T00:00:00\", \"2021-02-08T00:00:00\", \"2021-02-09T00:00:00\", \"2021-02-10T00:00:00\", \"2021-02-11T00:00:00\", \"2021-02-12T00:00:00\", \"2021-02-13T00:00:00\", \"2021-02-14T00:00:00\", \"2021-02-15T00:00:00\", \"2021-02-16T00:00:00\", \"2021-02-17T00:00:00\", \"2021-02-18T00:00:00\", \"2021-02-19T00:00:00\", \"2021-02-20T00:00:00\", \"2021-02-21T00:00:00\", \"2021-02-22T00:00:00\", \"2021-02-23T00:00:00\", \"2021-02-24T00:00:00\", \"2021-02-25T00:00:00\", \"2021-02-26T00:00:00\", \"2021-02-27T00:00:00\", \"2021-02-28T00:00:00\", \"2021-03-01T00:00:00\", \"2021-03-02T00:00:00\", \"2021-03-03T00:00:00\", \"2021-03-04T00:00:00\", \"2021-03-05T00:00:00\", \"2021-03-06T00:00:00\", \"2021-03-07T00:00:00\", \"2021-03-08T00:00:00\", \"2021-03-09T00:00:00\", \"2021-03-10T00:00:00\", \"2021-03-11T00:00:00\", \"2021-03-12T00:00:00\", \"2021-03-13T00:00:00\", \"2021-03-14T00:00:00\", \"2021-03-15T00:00:00\", \"2021-03-16T00:00:00\", \"2021-03-17T00:00:00\", \"2021-03-18T00:00:00\", \"2021-03-19T00:00:00\", \"2021-03-20T00:00:00\", \"2021-03-21T00:00:00\", \"2021-03-22T00:00:00\", \"2021-03-23T00:00:00\", \"2021-03-24T00:00:00\", \"2021-03-25T00:00:00\", \"2021-03-26T00:00:00\", \"2021-03-27T00:00:00\", \"2021-03-28T00:00:00\", \"2021-03-29T00:00:00\", \"2021-03-30T00:00:00\", \"2021-03-31T00:00:00\", \"2021-04-01T00:00:00\", \"2021-04-02T00:00:00\", \"2021-04-03T00:00:00\", \"2021-04-04T00:00:00\", \"2021-04-05T00:00:00\", \"2021-04-06T00:00:00\", \"2021-04-07T00:00:00\", \"2021-04-08T00:00:00\", \"2021-04-09T00:00:00\", \"2021-04-10T00:00:00\", \"2021-04-11T00:00:00\", \"2021-04-12T00:00:00\", \"2021-04-13T00:00:00\", \"2021-04-14T00:00:00\", \"2021-04-15T00:00:00\", \"2021-04-16T00:00:00\", \"2021-04-17T00:00:00\", \"2021-04-18T00:00:00\", \"2021-04-19T00:00:00\", \"2021-04-20T00:00:00\", \"2021-04-21T00:00:00\", \"2021-04-22T00:00:00\", \"2021-04-23T00:00:00\", \"2021-04-24T00:00:00\", \"2021-04-25T00:00:00\", \"2021-04-26T00:00:00\", \"2021-04-27T00:00:00\", \"2021-04-28T00:00:00\", \"2021-04-29T00:00:00\", \"2021-04-30T00:00:00\", \"2021-05-01T00:00:00\", \"2021-05-02T00:00:00\", \"2021-05-03T00:00:00\", \"2021-05-04T00:00:00\", \"2021-05-05T00:00:00\", \"2021-05-06T00:00:00\", \"2021-05-07T00:00:00\", \"2021-05-08T00:00:00\", \"2021-05-09T00:00:00\", \"2021-05-10T00:00:00\", \"2021-05-11T00:00:00\", \"2021-05-12T00:00:00\", \"2021-05-13T00:00:00\", \"2021-05-14T00:00:00\", \"2021-05-15T00:00:00\", \"2021-05-16T00:00:00\", \"2021-05-17T00:00:00\", \"2021-05-18T00:00:00\", \"2021-05-19T00:00:00\", \"2021-05-20T00:00:00\", \"2021-05-21T00:00:00\", \"2021-05-22T00:00:00\", \"2021-05-23T00:00:00\", \"2021-05-24T00:00:00\", \"2021-05-25T00:00:00\", \"2021-05-26T00:00:00\", \"2021-05-27T00:00:00\", \"2021-05-28T00:00:00\", \"2021-05-29T00:00:00\", \"2021-05-30T00:00:00\", \"2021-05-31T00:00:00\", \"2021-06-01T00:00:00\", \"2021-06-02T00:00:00\", \"2021-06-03T00:00:00\", \"2021-06-04T00:00:00\", \"2021-06-05T00:00:00\", \"2021-06-06T00:00:00\", \"2021-06-07T00:00:00\", \"2021-06-08T00:00:00\", \"2021-06-09T00:00:00\", \"2021-06-10T00:00:00\", \"2021-06-11T00:00:00\", \"2021-06-12T00:00:00\", \"2021-06-13T00:00:00\", \"2021-06-14T00:00:00\", \"2021-06-15T00:00:00\", \"2021-06-16T00:00:00\", \"2021-06-17T00:00:00\", \"2021-06-18T00:00:00\", \"2021-06-19T00:00:00\", \"2021-06-20T00:00:00\", \"2021-06-21T00:00:00\", \"2021-06-22T00:00:00\", \"2021-06-23T00:00:00\", \"2021-06-24T00:00:00\", \"2021-06-25T00:00:00\", \"2021-06-26T00:00:00\", \"2021-06-27T00:00:00\", \"2021-06-28T00:00:00\", \"2021-06-29T00:00:00\", \"2021-06-30T00:00:00\", \"2021-07-01T00:00:00\", \"2021-07-02T00:00:00\", \"2021-07-03T00:00:00\", \"2021-07-04T00:00:00\", \"2021-07-05T00:00:00\", \"2021-07-06T00:00:00\", \"2021-07-07T00:00:00\", \"2021-07-08T00:00:00\", \"2021-07-09T00:00:00\", \"2021-07-10T00:00:00\", \"2021-07-11T00:00:00\", \"2021-07-12T00:00:00\", \"2021-07-13T00:00:00\", \"2021-07-14T00:00:00\", \"2021-07-15T00:00:00\", \"2021-07-16T00:00:00\", \"2021-07-17T00:00:00\", \"2021-07-18T00:00:00\", \"2021-07-19T00:00:00\", \"2021-07-20T00:00:00\", \"2021-07-21T00:00:00\", \"2021-07-22T00:00:00\", \"2021-07-23T00:00:00\", \"2021-07-24T00:00:00\", \"2021-07-25T00:00:00\", \"2021-07-26T00:00:00\", \"2021-07-27T00:00:00\", \"2021-07-28T00:00:00\", \"2021-07-29T00:00:00\", \"2021-07-30T00:00:00\", \"2021-07-31T00:00:00\", \"2021-08-01T00:00:00\", \"2021-08-02T00:00:00\", \"2021-08-03T00:00:00\", \"2021-08-04T00:00:00\", \"2021-08-05T00:00:00\", \"2021-08-06T00:00:00\", \"2021-08-07T00:00:00\", \"2021-08-08T00:00:00\", \"2021-08-09T00:00:00\", \"2021-08-10T00:00:00\", \"2021-08-11T00:00:00\", \"2021-08-12T00:00:00\"], \"xaxis\": \"x\", \"y\": [1, 1, 2, 1, 1, 2, 6, 5, 6, 7, 1, 1, 1, 2, 3, 1, 1, 1, 4, 1, 2, 3, 6, 13, 3, 7, 32, 33, 30, 35, 60, 50, 89, 188, 122, 106, 107, 111, 91, 108, 141, 138, 128, 120, 104, 103, 89, 102, 51, 38, 111, 54, 50, 45, 33, 28, 34, 30, 29, 28, 33, 32, 27, 19, 15, 13, 15, 53, 15, 9, 7, 9, 7, 6, 6, 3, 18, 1, 1, 3, 8, 4, 5, 6, 2, 1, 7, 3, 3, 2, 1, 3, 3, 2, 3, 9, 11, 11, 1, 4, 1, 1, 1, 17, 1, 2, 8, 7, 2, 4, 4, 5, 1, 6, 5, 1, 1, 3, 5, 1, 1, 4, 7, 2, 2, 6, 1, 5, 5, 5, 2, 5, 14, 1, 3, 7, 5, 4, 3, 7, 3, 1, 5, 6, 8, 10, 3, 9, 4, 2, 1, 6, 6, 2, 5, 3, 1, 7, 2, 15, 3, 3, 5, 3, 17, 1, 1, 3, 1, 7, 1, 5, 2, 5, 1, 1, 6, 1, 1, 5, 8, 2, 4, 7, 6, 1, 1, 1, 7, 7, 5, 7, 2, 5, 10, 7, 3, 6, 5, 3, 2, 3, 3, 1, 22, 14, 5, 5, 6, 8, 2, 5, 10, 15, 7, 6, 6, 2, 5, 2, 9, 13, 4, 10, 7, 5, 9, 9, 10, 8, 4, 5, 7, 3, 12, 5, 12, 5, 4, 3, 10, 7, 6, 8, 12, 7, 3, 4, 3, 5, 9, 5, 8, 1, 3, 2, 8, 4, 10, 11, 7, 2, 4, 16, 19, 5, 11, 21, 10, 18, 13, 14, 19, 14, 21, 19, 25, 18, 11, 12, 17, 28, 9, 15, 20, 16, 34, 576, 382, 427, 46, 67, 81, 110, 121, 144, 155, 250, 194, 279, 216, 315, 745, 527, 365, 305, 205, 212, 245, 249, 287, 157, 271, 188, 230, 374, 369, 171, 59, 142, 309, 198, 198, 187, 959, 819, 756, 802, 930, 829, 836, 836, 795, 809, 586, 490, 237, 186, 189, 157, 201, 175, 126, 166, 143, 72, 175, 150, 130, 82, 92, 89, 95, 93, 72, 45, 72, 70, 80, 42, 35, 54, 79, 64, 65, 71, 60, 39, 58, 81, 78, 170, 78, 149, 248, 92, 100, 119, 90, 73, 401, 69, 97, 134, 80, 77, 39, 48, 42, 26, 58, 84, 96, 194, 250, 334, 405, 559, 789, 967, 984, 964, 1338, 1546, 1581, 1547, 1766, 1391, 1443, 1458, 1470, 2070, 2839, 2438, 2048, 2179, 2012, 1871, 1583, 1891, 1940, 2041, 1763, 2112, 1911, 2044, 2419, 2101, 1630, 1919, 1983, 4887, 2256, 3095, 2302, 9635, 2473, 3394, 2636, 3481, 3052, 3382, 2713, 3226, 2455, 3323, 3759, 4803, 4528, 5485, 2230, 3440, 3886, 2631, 2817, 2671, 2419, 2662, 2680, 2310, 2290, 3277, 2804, 3355, 3000, 2331, 3129, 3058, 3667, 3682, 3175, 4059, 3174, 4108, 3644, 4161, 3995, 5406, 4662, 4786, 5533, 6087, 6230, 5916, 6166, 5420, 6519, 7058, 9276, 9326, 9539, 8656, 8685, 9317, 9186, 9692, 10082, 11397, 11784, 11305, 13002, 13655, 14575, 14260, 15335, 15376, 14150, 16533, 17669, 17345, 18912, 18027, 17970, 18901, 20200, 20920, 21379, 21838, 19983, 19603, 19843, 21038, 22782], \"yaxis\": \"y\"}],\n",
              "                        {\"legend\": {\"tracegroupgap\": 0}, \"template\": {\"data\": {\"bar\": [{\"error_x\": {\"color\": \"#2a3f5f\"}, \"error_y\": {\"color\": \"#2a3f5f\"}, \"marker\": {\"line\": {\"color\": \"#E5ECF6\", \"width\": 0.5}}, \"type\": \"bar\"}], \"barpolar\": [{\"marker\": {\"line\": {\"color\": \"#E5ECF6\", \"width\": 0.5}}, \"type\": \"barpolar\"}], \"carpet\": [{\"aaxis\": {\"endlinecolor\": \"#2a3f5f\", \"gridcolor\": \"white\", \"linecolor\": \"white\", \"minorgridcolor\": \"white\", \"startlinecolor\": \"#2a3f5f\"}, \"baxis\": {\"endlinecolor\": \"#2a3f5f\", \"gridcolor\": \"white\", \"linecolor\": \"white\", \"minorgridcolor\": \"white\", \"startlinecolor\": \"#2a3f5f\"}, \"type\": \"carpet\"}], \"choropleth\": [{\"colorbar\": {\"outlinewidth\": 0, \"ticks\": \"\"}, \"type\": \"choropleth\"}], \"contour\": [{\"colorbar\": {\"outlinewidth\": 0, \"ticks\": \"\"}, \"colorscale\": [[0.0, \"#0d0887\"], [0.1111111111111111, \"#46039f\"], [0.2222222222222222, \"#7201a8\"], [0.3333333333333333, \"#9c179e\"], [0.4444444444444444, \"#bd3786\"], [0.5555555555555556, \"#d8576b\"], [0.6666666666666666, \"#ed7953\"], [0.7777777777777778, \"#fb9f3a\"], [0.8888888888888888, \"#fdca26\"], [1.0, \"#f0f921\"]], \"type\": \"contour\"}], \"contourcarpet\": [{\"colorbar\": {\"outlinewidth\": 0, \"ticks\": \"\"}, \"type\": \"contourcarpet\"}], \"heatmap\": [{\"colorbar\": {\"outlinewidth\": 0, \"ticks\": \"\"}, \"colorscale\": [[0.0, \"#0d0887\"], [0.1111111111111111, \"#46039f\"], [0.2222222222222222, \"#7201a8\"], [0.3333333333333333, \"#9c179e\"], [0.4444444444444444, \"#bd3786\"], [0.5555555555555556, \"#d8576b\"], [0.6666666666666666, \"#ed7953\"], [0.7777777777777778, \"#fb9f3a\"], [0.8888888888888888, \"#fdca26\"], [1.0, \"#f0f921\"]], \"type\": \"heatmap\"}], \"heatmapgl\": [{\"colorbar\": {\"outlinewidth\": 0, \"ticks\": \"\"}, \"colorscale\": [[0.0, \"#0d0887\"], [0.1111111111111111, \"#46039f\"], [0.2222222222222222, \"#7201a8\"], [0.3333333333333333, \"#9c179e\"], [0.4444444444444444, \"#bd3786\"], [0.5555555555555556, \"#d8576b\"], [0.6666666666666666, \"#ed7953\"], [0.7777777777777778, \"#fb9f3a\"], [0.8888888888888888, \"#fdca26\"], [1.0, \"#f0f921\"]], \"type\": \"heatmapgl\"}], \"histogram\": [{\"marker\": {\"colorbar\": {\"outlinewidth\": 0, \"ticks\": \"\"}}, \"type\": \"histogram\"}], \"histogram2d\": [{\"colorbar\": {\"outlinewidth\": 0, \"ticks\": \"\"}, \"colorscale\": [[0.0, \"#0d0887\"], [0.1111111111111111, \"#46039f\"], [0.2222222222222222, \"#7201a8\"], [0.3333333333333333, \"#9c179e\"], [0.4444444444444444, \"#bd3786\"], [0.5555555555555556, \"#d8576b\"], [0.6666666666666666, \"#ed7953\"], [0.7777777777777778, \"#fb9f3a\"], [0.8888888888888888, \"#fdca26\"], [1.0, \"#f0f921\"]], \"type\": \"histogram2d\"}], \"histogram2dcontour\": [{\"colorbar\": {\"outlinewidth\": 0, \"ticks\": \"\"}, \"colorscale\": [[0.0, \"#0d0887\"], [0.1111111111111111, \"#46039f\"], [0.2222222222222222, \"#7201a8\"], [0.3333333333333333, \"#9c179e\"], [0.4444444444444444, \"#bd3786\"], [0.5555555555555556, \"#d8576b\"], [0.6666666666666666, \"#ed7953\"], [0.7777777777777778, \"#fb9f3a\"], [0.8888888888888888, \"#fdca26\"], [1.0, \"#f0f921\"]], \"type\": \"histogram2dcontour\"}], \"mesh3d\": [{\"colorbar\": {\"outlinewidth\": 0, \"ticks\": \"\"}, \"type\": \"mesh3d\"}], \"parcoords\": [{\"line\": {\"colorbar\": {\"outlinewidth\": 0, \"ticks\": \"\"}}, \"type\": \"parcoords\"}], \"pie\": [{\"automargin\": true, \"type\": \"pie\"}], \"scatter\": [{\"marker\": {\"colorbar\": {\"outlinewidth\": 0, \"ticks\": \"\"}}, \"type\": \"scatter\"}], \"scatter3d\": [{\"line\": {\"colorbar\": {\"outlinewidth\": 0, \"ticks\": \"\"}}, \"marker\": {\"colorbar\": {\"outlinewidth\": 0, \"ticks\": \"\"}}, \"type\": \"scatter3d\"}], \"scattercarpet\": [{\"marker\": {\"colorbar\": {\"outlinewidth\": 0, \"ticks\": \"\"}}, \"type\": \"scattercarpet\"}], \"scattergeo\": [{\"marker\": {\"colorbar\": {\"outlinewidth\": 0, \"ticks\": \"\"}}, \"type\": \"scattergeo\"}], \"scattergl\": [{\"marker\": {\"colorbar\": {\"outlinewidth\": 0, \"ticks\": \"\"}}, \"type\": \"scattergl\"}], \"scattermapbox\": [{\"marker\": {\"colorbar\": {\"outlinewidth\": 0, \"ticks\": \"\"}}, \"type\": \"scattermapbox\"}], \"scatterpolar\": [{\"marker\": {\"colorbar\": {\"outlinewidth\": 0, \"ticks\": \"\"}}, \"type\": \"scatterpolar\"}], \"scatterpolargl\": [{\"marker\": {\"colorbar\": {\"outlinewidth\": 0, \"ticks\": \"\"}}, \"type\": \"scatterpolargl\"}], \"scatterternary\": [{\"marker\": {\"colorbar\": {\"outlinewidth\": 0, \"ticks\": \"\"}}, \"type\": \"scatterternary\"}], \"surface\": [{\"colorbar\": {\"outlinewidth\": 0, \"ticks\": \"\"}, \"colorscale\": [[0.0, \"#0d0887\"], [0.1111111111111111, \"#46039f\"], [0.2222222222222222, \"#7201a8\"], [0.3333333333333333, \"#9c179e\"], [0.4444444444444444, \"#bd3786\"], [0.5555555555555556, \"#d8576b\"], [0.6666666666666666, \"#ed7953\"], [0.7777777777777778, \"#fb9f3a\"], [0.8888888888888888, \"#fdca26\"], [1.0, \"#f0f921\"]], \"type\": \"surface\"}], \"table\": [{\"cells\": {\"fill\": {\"color\": \"#EBF0F8\"}, \"line\": {\"color\": \"white\"}}, \"header\": {\"fill\": {\"color\": \"#C8D4E3\"}, \"line\": {\"color\": \"white\"}}, \"type\": \"table\"}]}, \"layout\": {\"annotationdefaults\": {\"arrowcolor\": \"#2a3f5f\", \"arrowhead\": 0, \"arrowwidth\": 1}, \"coloraxis\": {\"colorbar\": {\"outlinewidth\": 0, \"ticks\": \"\"}}, \"colorscale\": {\"diverging\": [[0, \"#8e0152\"], [0.1, \"#c51b7d\"], [0.2, \"#de77ae\"], [0.3, \"#f1b6da\"], [0.4, \"#fde0ef\"], [0.5, \"#f7f7f7\"], [0.6, \"#e6f5d0\"], [0.7, \"#b8e186\"], [0.8, \"#7fbc41\"], [0.9, \"#4d9221\"], [1, \"#276419\"]], \"sequential\": [[0.0, \"#0d0887\"], [0.1111111111111111, \"#46039f\"], [0.2222222222222222, \"#7201a8\"], [0.3333333333333333, \"#9c179e\"], [0.4444444444444444, \"#bd3786\"], [0.5555555555555556, \"#d8576b\"], [0.6666666666666666, \"#ed7953\"], [0.7777777777777778, \"#fb9f3a\"], [0.8888888888888888, \"#fdca26\"], [1.0, \"#f0f921\"]], \"sequentialminus\": [[0.0, \"#0d0887\"], [0.1111111111111111, \"#46039f\"], [0.2222222222222222, \"#7201a8\"], [0.3333333333333333, \"#9c179e\"], [0.4444444444444444, \"#bd3786\"], [0.5555555555555556, \"#d8576b\"], [0.6666666666666666, \"#ed7953\"], [0.7777777777777778, \"#fb9f3a\"], [0.8888888888888888, \"#fdca26\"], [1.0, \"#f0f921\"]]}, \"colorway\": [\"#636efa\", \"#EF553B\", \"#00cc96\", \"#ab63fa\", \"#FFA15A\", \"#19d3f3\", \"#FF6692\", \"#B6E880\", \"#FF97FF\", \"#FECB52\"], \"font\": {\"color\": \"#2a3f5f\"}, \"geo\": {\"bgcolor\": \"white\", \"lakecolor\": \"white\", \"landcolor\": \"#E5ECF6\", \"showlakes\": true, \"showland\": true, \"subunitcolor\": \"white\"}, \"hoverlabel\": {\"align\": \"left\"}, \"hovermode\": \"closest\", \"mapbox\": {\"style\": \"light\"}, \"paper_bgcolor\": \"white\", \"plot_bgcolor\": \"#E5ECF6\", \"polar\": {\"angularaxis\": {\"gridcolor\": \"white\", \"linecolor\": \"white\", \"ticks\": \"\"}, \"bgcolor\": \"#E5ECF6\", \"radialaxis\": {\"gridcolor\": \"white\", \"linecolor\": \"white\", \"ticks\": \"\"}}, \"scene\": {\"xaxis\": {\"backgroundcolor\": \"#E5ECF6\", \"gridcolor\": \"white\", \"gridwidth\": 2, \"linecolor\": \"white\", \"showbackground\": true, \"ticks\": \"\", \"zerolinecolor\": \"white\"}, \"yaxis\": {\"backgroundcolor\": \"#E5ECF6\", \"gridcolor\": \"white\", \"gridwidth\": 2, \"linecolor\": \"white\", \"showbackground\": true, \"ticks\": \"\", \"zerolinecolor\": \"white\"}, \"zaxis\": {\"backgroundcolor\": \"#E5ECF6\", \"gridcolor\": \"white\", \"gridwidth\": 2, \"linecolor\": \"white\", \"showbackground\": true, \"ticks\": \"\", \"zerolinecolor\": \"white\"}}, \"shapedefaults\": {\"line\": {\"color\": \"#2a3f5f\"}}, \"ternary\": {\"aaxis\": {\"gridcolor\": \"white\", \"linecolor\": \"white\", \"ticks\": \"\"}, \"baxis\": {\"gridcolor\": \"white\", \"linecolor\": \"white\", \"ticks\": \"\"}, \"bgcolor\": \"#E5ECF6\", \"caxis\": {\"gridcolor\": \"white\", \"linecolor\": \"white\", \"ticks\": \"\"}}, \"title\": {\"x\": 0.05}, \"xaxis\": {\"automargin\": true, \"gridcolor\": \"white\", \"linecolor\": \"white\", \"ticks\": \"\", \"title\": {\"standoff\": 15}, \"zerolinecolor\": \"white\", \"zerolinewidth\": 2}, \"yaxis\": {\"automargin\": true, \"gridcolor\": \"white\", \"linecolor\": \"white\", \"ticks\": \"\", \"title\": {\"standoff\": 15}, \"zerolinecolor\": \"white\", \"zerolinewidth\": 2}}}, \"title\": {\"text\": \"COVID-19\"}, \"xaxis\": {\"anchor\": \"y\", \"domain\": [0.0, 1.0], \"title\": {\"text\": \"date\"}}, \"yaxis\": {\"anchor\": \"x\", \"domain\": [0.0, 1.0], \"title\": {\"text\": \"daily infected\"}, \"type\": \"log\"}},\n",
              "                        {\"responsive\": true}\n",
              "                    ).then(function(){\n",
              "                            \n",
              "var gd = document.getElementById('aea56c6d-bf10-49b2-821d-e8cab5ad12f7');\n",
              "var x = new MutationObserver(function (mutations, observer) {{\n",
              "        var display = window.getComputedStyle(gd).display;\n",
              "        if (!display || display === 'none') {{\n",
              "            console.log([gd, 'removed!']);\n",
              "            Plotly.purge(gd);\n",
              "            observer.disconnect();\n",
              "        }}\n",
              "}});\n",
              "\n",
              "// Listen for the removal of the full notebook cells\n",
              "var notebookContainer = gd.closest('#notebook-container');\n",
              "if (notebookContainer) {{\n",
              "    x.observe(notebookContainer, {childList: true});\n",
              "}}\n",
              "\n",
              "// Listen for the clearing of the current output cell\n",
              "var outputEl = gd.closest('.output');\n",
              "if (outputEl) {{\n",
              "    x.observe(outputEl, {childList: true});\n",
              "}}\n",
              "\n",
              "                        })\n",
              "                };\n",
              "                \n",
              "            </script>\n",
              "        </div>\n",
              "</body>\n",
              "</html>"
            ]
          },
          "metadata": {},
          "output_type": "display_data"
        }
      ],
      "source": [
        "px.line(plottrend, x='date', y='daily infected', log_y=True, title='COVID-19')"
      ]
    }
  ],
  "metadata": {
    "accelerator": "GPU",
    "colab": {
      "provenance": []
    },
    "kernelspec": {
      "display_name": "Python 3",
      "name": "python3"
    },
    "language_info": {
      "name": "python"
    }
  },
  "nbformat": 4,
  "nbformat_minor": 0
}